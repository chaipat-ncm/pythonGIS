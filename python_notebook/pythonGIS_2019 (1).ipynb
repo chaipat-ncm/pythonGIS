{
  "nbformat": 4,
  "nbformat_minor": 0,
  "metadata": {
    "colab": {
      "name": "pythonGIS_2019.ipynb",
      "version": "0.3.2",
      "provenance": [],
      "collapsed_sections": [
        "f7dLGCPvaI2x",
        "4ZfJ995ncoFO",
        "RkoTKVRmczS-",
        "BtBmGvPiOEyA",
        "Br0G3jjwCgIn",
        "MvbGj7Gf-uoP",
        "mo9QJxACPb1U"
      ],
      "toc_visible": true
    },
    "kernelspec": {
      "name": "python3",
      "display_name": "Python 3"
    }
  },
  "cells": [
    {
      "cell_type": "markdown",
      "metadata": {
        "id": "2OAjaKJjSqdW",
        "colab_type": "text"
      },
      "source": [
        "#Python for GIS"
      ]
    },
    {
      "cell_type": "markdown",
      "metadata": {
        "id": "7BCphZEvSxGr",
        "colab_type": "text"
      },
      "source": [
        "**Introduction**\n",
        "- Python เป็นภาษาคอมพิวเตอร์ที่เป็น tools สำคัญในงานด้านการวิเคราะห์ข้อมูลเชิงพื้นที่ โดยเฉพาะลักษณะ กระบวนการทำงานแบบ อัตโนมัติ\n",
        "- รองรับด้านการจัดการข้อมูล , การประมวลผล การแสดงผล รวมไปถึงความสามารถในการพัฒนา application ต่างๆ\n",
        "- ภาษาผสานใน GIS Software เช่น QGIS , ArcGIS, GRASS ช่วยเพิ่มประสิทธิภาพในการทำงาน\n",
        "- Python เป็นเหมือนตัวเชื่อมประสาน การทำงานร่วมกันระหว่างนัก GIS กับ Developer\n",
        "- ขยายขีดความสามารถในการเข้าถึงและวิเคราะห์ข้อมูล spatail data ในระบบงานที่ซับซ้อน เช่น งานด้าน Data science , AI\n",
        "- มีการเติบโต และขยายของนักพัฒนา ทำให้มี opensource lib รองรับจำนวนมาก ส่วนหนึ่งต่อยอดจาก opensource gis เดิม รวมถึงการพัฒนาโมเดลใหม่ๆในลักษณะ GIS programming stack \n"
      ]
    },
    {
      "cell_type": "markdown",
      "metadata": {
        "id": "f7dLGCPvaI2x",
        "colab_type": "text"
      },
      "source": [
        "## การติดตั้งโปรแกรมและไลบารี"
      ]
    },
    {
      "cell_type": "markdown",
      "metadata": {
        "id": "lE9S6MoLaljx",
        "colab_type": "text"
      },
      "source": [
        "1. ทำการติดตั้ง lib ผ่าน pip "
      ]
    },
    {
      "cell_type": "code",
      "metadata": {
        "id": "bNRNTVJSSufX",
        "colab_type": "code",
        "colab": {}
      },
      "source": [
        "# Install shapely\n",
        "!pip install shapely\n",
        "# Install geopandas\n",
        "!pip install geopandas\n",
        "# Install cartopy\n",
        "!pip install cartopy\n",
        "# Install networkx \n",
        "!pip install networkx\n",
        "# Install osmnx \n",
        "!pip install osmnx\n",
        "# Install statsmodels\n",
        "!pip install statsmodels\n",
        "# Install folium \n",
        "!pip install folium\n",
        "# Install bokeh\n",
        "!pip install bokeh\n",
        "# Install geopy\n",
        "!pip install geopy\n",
        "# Install geojson lib\n",
        "!pip install geojson\n",
        "\n",
        "!pip install mapclassify\n",
        "!apt install libspatialindex-dev\n"
      ],
      "execution_count": 0,
      "outputs": []
    },
    {
      "cell_type": "markdown",
      "metadata": {
        "id": "xKEMn5bAboXr",
        "colab_type": "text"
      },
      "source": [
        "2. ทดสอบการติดตั้ง"
      ]
    },
    {
      "cell_type": "code",
      "metadata": {
        "id": "7dP_eBU6bsCF",
        "colab_type": "code",
        "outputId": "330dcfc1-3784-4aaf-fae5-1b9a312070a8",
        "colab": {
          "base_uri": "https://localhost:8080/",
          "height": 34
        }
      },
      "source": [
        "import geopandas as gpd\n",
        "print(gpd)"
      ],
      "execution_count": 0,
      "outputs": [
        {
          "output_type": "stream",
          "text": [
            "<module 'geopandas' from '/usr/local/lib/python3.6/dist-packages/geopandas/__init__.py'>\n"
          ],
          "name": "stdout"
        }
      ]
    },
    {
      "cell_type": "markdown",
      "metadata": {
        "id": "4ZfJ995ncoFO",
        "colab_type": "text"
      },
      "source": [
        "## Spatial Data Model"
      ]
    },
    {
      "cell_type": "markdown",
      "metadata": {
        "id": "71bOurWEcscG",
        "colab_type": "text"
      },
      "source": [
        "- การสร้างแบบจำลองข้อมูลเชิงพื้นที่ในระบบสารสนเทศ ประเภท Vector Model\n",
        "- เรียกใช้ GeoPandas เพื่อการประมวลผลและจัดการข้อมูล geometry object \n"
      ]
    },
    {
      "cell_type": "markdown",
      "metadata": {
        "id": "S2QAAc8MKTJd",
        "colab_type": "text"
      },
      "source": [
        "- สร้าง geometry object ด้วย GeoSeries"
      ]
    },
    {
      "cell_type": "code",
      "metadata": {
        "id": "PD2dpC8wKdxY",
        "colab_type": "code",
        "colab": {}
      },
      "source": [
        "# Import necessary modules\n",
        "%matplotlib inline\n",
        "import geopandas as gpd\n",
        "from shapely.wkt import loads\n",
        "from shapely.geometry import Point, LineString,Polygon\n",
        "import matplotlib.pyplot as plt"
      ],
      "execution_count": 0,
      "outputs": []
    },
    {
      "cell_type": "markdown",
      "metadata": {
        "id": "Wx9FpuH1MM-9",
        "colab_type": "text"
      },
      "source": [
        "**- Point**"
      ]
    },
    {
      "cell_type": "code",
      "metadata": {
        "id": "OBkJKGGlb4_D",
        "colab_type": "code",
        "outputId": "9d37bdb7-fe1b-4d76-c636-f70fa1e38efb",
        "colab": {
          "base_uri": "https://localhost:8080/",
          "height": 84
        }
      },
      "source": [
        "\n",
        "mwkt = gpd.GeoSeries([loads('POINT(1 2)'), loads('POINT(1.5 2.5)'), loads('POINT(2 3)')])\n",
        "mwkt"
      ],
      "execution_count": 0,
      "outputs": [
        {
          "output_type": "execute_result",
          "data": {
            "text/plain": [
              "0        POINT (1 2)\n",
              "1    POINT (1.5 2.5)\n",
              "2        POINT (2 3)\n",
              "dtype: object"
            ]
          },
          "metadata": {
            "tags": []
          },
          "execution_count": 4
        }
      ]
    },
    {
      "cell_type": "code",
      "metadata": {
        "id": "--54Q6vVK8kH",
        "colab_type": "code",
        "outputId": "20aab9bd-9300-491c-c81a-6d3e4b9f581f",
        "colab": {
          "base_uri": "https://localhost:8080/",
          "height": 84
        }
      },
      "source": [
        "mwkt2 = gpd.GeoSeries([Point(-120, 45.1), Point(-121.2, 46.14), Point(-122.9, 47.5)])\n",
        "mwkt2 .crs = {'init': 'epsg:4326'}\n",
        "mwkt2 "
      ],
      "execution_count": 0,
      "outputs": [
        {
          "output_type": "execute_result",
          "data": {
            "text/plain": [
              "0       POINT (-120 45.1)\n",
              "1    POINT (-121.2 46.14)\n",
              "2     POINT (-122.9 47.5)\n",
              "dtype: object"
            ]
          },
          "metadata": {
            "tags": []
          },
          "execution_count": 157
        }
      ]
    },
    {
      "cell_type": "code",
      "metadata": {
        "id": "lTcAGFo2Lb8G",
        "colab_type": "code",
        "outputId": "c97f06b2-36a8-4df8-9ba0-dd040d6498b5",
        "colab": {
          "base_uri": "https://localhost:8080/",
          "height": 254
        }
      },
      "source": [
        "#plot geoseries\n",
        "mwkt2.plot(marker='*', color='red', markersize=100, figsize=(4, 4))\n",
        "plt.xlim([-123, -119.8])\n",
        "plt.ylim([44.8, 47.7]);"
      ],
      "execution_count": 0,
      "outputs": [
        {
          "output_type": "display_data",
          "data": {
            "image/png": "[encoded data removed]",
            "text/plain": [
              "<Figure size 288x288 with 1 Axes>"
            ]
          },
          "metadata": {
            "tags": []
          }
        }
      ]
    },
    {
      "cell_type": "markdown",
      "metadata": {
        "id": "p5i5cdMAMKG_",
        "colab_type": "text"
      },
      "source": [
        "**- Line String**"
      ]
    },
    {
      "cell_type": "code",
      "metadata": {
        "id": "Ol9y0zEHMTnU",
        "colab_type": "code",
        "colab": {}
      },
      "source": [
        "# Linestring\n",
        "mline1 = LineString([\n",
        "    Point(0, 0),\n",
        "    Point(0, 1),\n",
        "    Point(1, 1),\n",
        "    Point(1, 2),\n",
        "    Point(3, 4),\n",
        "    Point(5, 6),\n",
        "])\n",
        "mline2 = LineString([\n",
        "    Point(6, 10),\n",
        "    Point(10, 14),\n",
        "    Point(11, 12),\n",
        "    Point(12, 15),\n",
        "])\n",
        "\n"
      ],
      "execution_count": 0,
      "outputs": []
    },
    {
      "cell_type": "code",
      "metadata": {
        "id": "chFWrPG7MX8l",
        "colab_type": "code",
        "outputId": "62445437-3099-4607-b91c-06bd58eb49a7",
        "colab": {
          "base_uri": "https://localhost:8080/",
          "height": 67
        }
      },
      "source": [
        "#สร้าง line ด้วย geoseries\n",
        "mline = gpd.GeoSeries([mline1, mline2])\n",
        "print(mline)\n",
        "\n"
      ],
      "execution_count": 0,
      "outputs": [
        {
          "output_type": "stream",
          "text": [
            "0    LINESTRING (0 0, 0 1, 1 1, 1 2, 3 4, 5 6)\n",
            "1       LINESTRING (6 10, 10 14, 11 12, 12 15)\n",
            "dtype: object\n"
          ],
          "name": "stdout"
        }
      ]
    },
    {
      "cell_type": "code",
      "metadata": {
        "id": "zz1MTM9QMwAF",
        "colab_type": "code",
        "outputId": "adc01b63-391d-4318-979c-95a0f55657dd",
        "colab": {
          "base_uri": "https://localhost:8080/",
          "height": 286
        }
      },
      "source": [
        "#plot geoseries\n",
        "mline.plot()"
      ],
      "execution_count": 0,
      "outputs": [
        {
          "output_type": "execute_result",
          "data": {
            "text/plain": [
              "<matplotlib.axes._subplots.AxesSubplot at 0x7fd3da25bac8>"
            ]
          },
          "metadata": {
            "tags": []
          },
          "execution_count": 166
        },
        {
          "output_type": "display_data",
          "data": {
            "image/png": "[encoded data removed]",
            "text/plain": [
              "<Figure size 432x288 with 1 Axes>"
            ]
          },
          "metadata": {
            "tags": []
          }
        }
      ]
    },
    {
      "cell_type": "markdown",
      "metadata": {
        "id": "i5LLA3-qM38K",
        "colab_type": "text"
      },
      "source": [
        "**- Polygon**"
      ]
    },
    {
      "cell_type": "code",
      "metadata": {
        "id": "m66r1Rw7M77l",
        "colab_type": "code",
        "colab": {}
      },
      "source": [
        "#Polygon\n",
        "p1 = Polygon([(1.5, 0), (1.75, 0), (1.75, 2),(1.5, 2)])\n",
        "p2 = Polygon([(0, 0), (1, 0), (1, 1), (0, 1)])\n",
        "p3 = Polygon([(2, 0), (3, 0), (3, 1), (2, 1)])"
      ],
      "execution_count": 0,
      "outputs": []
    },
    {
      "cell_type": "code",
      "metadata": {
        "id": "-QcZ-gXaM_8K",
        "colab_type": "code",
        "outputId": "adca43e0-565a-4b37-ad66-c32cb2584d5b",
        "colab": {
          "base_uri": "https://localhost:8080/",
          "height": 84
        }
      },
      "source": [
        "mpolygon = gpd.GeoSeries([p1, p2, p3])\n",
        "print(mpolygon )"
      ],
      "execution_count": 0,
      "outputs": [
        {
          "output_type": "stream",
          "text": [
            "0    POLYGON ((1.5 0, 1.75 0, 1.75 2, 1.5 2, 1.5 0))\n",
            "1                POLYGON ((0 0, 1 0, 1 1, 0 1, 0 0))\n",
            "2                POLYGON ((2 0, 3 0, 3 1, 2 1, 2 0))\n",
            "dtype: object\n"
          ],
          "name": "stdout"
        }
      ]
    },
    {
      "cell_type": "code",
      "metadata": {
        "id": "DsiO7o-9NPV0",
        "colab_type": "code",
        "outputId": "dbaeb1e7-86ee-4860-8549-295952ec46f7",
        "colab": {
          "base_uri": "https://localhost:8080/",
          "height": 286
        }
      },
      "source": [
        "#plot geoseries\n",
        "mpolygon .plot()"
      ],
      "execution_count": 0,
      "outputs": [
        {
          "output_type": "execute_result",
          "data": {
            "text/plain": [
              "<matplotlib.axes._subplots.AxesSubplot at 0x7fd3da1fb2e8>"
            ]
          },
          "metadata": {
            "tags": []
          },
          "execution_count": 171
        },
        {
          "output_type": "display_data",
          "data": {
            "image/png": "[encoded data removed]",
            "text/plain": [
              "<Figure size 432x288 with 1 Axes>"
            ]
          },
          "metadata": {
            "tags": []
          }
        }
      ]
    },
    {
      "cell_type": "markdown",
      "metadata": {
        "id": "RkoTKVRmczS-",
        "colab_type": "text"
      },
      "source": [
        "## Spatial Data Management"
      ]
    },
    {
      "cell_type": "markdown",
      "metadata": {
        "id": "yZReUfPBeeLW",
        "colab_type": "text"
      },
      "source": [
        "- Reading File : ทำการเข้าถึง GIS Data ด้วย Geopandas\n",
        "- Geopandas เข้าถึงไฟล์ผ่านฟังกฺชั่น gpd.from_file() \n",
        "- รองรับการทำงานเกือบทุกประเภทไฟล์จัดเก็บข้อมูล GIS\n",
        "\n"
      ]
    },
    {
      "cell_type": "markdown",
      "metadata": {
        "id": "HcdLj9WigEql",
        "colab_type": "text"
      },
      "source": [
        "**- ดาวน์โหลดข้อมูลตัวอย่าง**"
      ]
    },
    {
      "cell_type": "code",
      "metadata": {
        "id": "PnGkeEQdfPV-",
        "colab_type": "code",
        "outputId": "175b8500-81b7-40c2-9b9e-8e26dc1d9583",
        "colab": {
          "base_uri": "https://localhost:8080/",
          "height": 353
        }
      },
      "source": [
        "# Download file\n",
        "!wget -O 'province.zip' https://github.com/chaipat-ncm/pythonGIS/blob/master/data/Province.zip?raw=true"
      ],
      "execution_count": 0,
      "outputs": [
        {
          "output_type": "stream",
          "text": [
            "--2019-06-03 15:56:08--  https://github.com/chaipat-ncm/pythonGIS/blob/master/data/Province.zip?raw=true\n",
            "Resolving github.com (github.com)... 192.30.253.112\n",
            "Connecting to github.com (github.com)|192.30.253.112|:443... connected.\n",
            "HTTP request sent, awaiting response... 302 Found\n",
            "Location: https://github.com/chaipat-ncm/pythonGIS/raw/master/data/Province.zip [following]\n",
            "--2019-06-03 15:56:09--  https://github.com/chaipat-ncm/pythonGIS/raw/master/data/Province.zip\n",
            "Reusing existing connection to github.com:443.\n",
            "HTTP request sent, awaiting response... 302 Found\n",
            "Location: https://raw.githubusercontent.com/chaipat-ncm/pythonGIS/master/data/Province.zip [following]\n",
            "--2019-06-03 15:56:11--  https://raw.githubusercontent.com/chaipat-ncm/pythonGIS/master/data/Province.zip\n",
            "Resolving raw.githubusercontent.com (raw.githubusercontent.com)... 151.101.0.133, 151.101.64.133, 151.101.128.133, ...\n",
            "Connecting to raw.githubusercontent.com (raw.githubusercontent.com)|151.101.0.133|:443... connected.\n",
            "HTTP request sent, awaiting response... 200 OK\n",
            "Length: 9070586 (8.6M) [application/zip]\n",
            "Saving to: ‘province.zip’\n",
            "\n",
            "province.zip        100%[===================>]   8.65M  --.-KB/s    in 0.1s    \n",
            "\n",
            "2019-06-03 15:56:11 (65.9 MB/s) - ‘province.zip’ saved [9070586/9070586]\n",
            "\n"
          ],
          "name": "stdout"
        }
      ]
    },
    {
      "cell_type": "code",
      "metadata": {
        "id": "EbSt31C_fRy1",
        "colab_type": "code",
        "outputId": "cd331dd0-d1c9-4aa5-e345-4f06fc368c74",
        "colab": {
          "base_uri": "https://localhost:8080/",
          "height": 101
        }
      },
      "source": [
        "!unzip ./province.zip"
      ],
      "execution_count": 0,
      "outputs": [
        {
          "output_type": "stream",
          "text": [
            "Archive:  ./province.zip\n",
            "  inflating: Province.prj            \n",
            "  inflating: Province.shp            \n",
            "  inflating: Province.shx            \n",
            "  inflating: Province.dbf            \n"
          ],
          "name": "stdout"
        }
      ]
    },
    {
      "cell_type": "markdown",
      "metadata": {
        "id": "UMvz7sjYgTd2",
        "colab_type": "text"
      },
      "source": [
        "**- ทำการอ่าน GIS file**"
      ]
    },
    {
      "cell_type": "code",
      "metadata": {
        "id": "30FfLv0HdUW3",
        "colab_type": "code",
        "colab": {}
      },
      "source": [
        "# Import necessary modules\n",
        "%matplotlib inline\n",
        "import geopandas as gpd\n",
        "import numpy as np"
      ],
      "execution_count": 0,
      "outputs": []
    },
    {
      "cell_type": "code",
      "metadata": {
        "id": "_W3vT5i2f3Hb",
        "colab_type": "code",
        "outputId": "33fed1c3-4563-471a-e10d-df850c299be1",
        "colab": {
          "base_uri": "https://localhost:8080/",
          "height": 34
        }
      },
      "source": [
        "# Set filepath\n",
        "mf = 'Province.shp'\n",
        "\n",
        "# Read file using gpd.read_file()\n",
        "gdata = gpd.read_file(mf, encoding = 'tis-620')\n",
        "type(gdata)"
      ],
      "execution_count": 0,
      "outputs": [
        {
          "output_type": "execute_result",
          "data": {
            "text/plain": [
              "geopandas.geodataframe.GeoDataFrame"
            ]
          },
          "metadata": {
            "tags": []
          },
          "execution_count": 8
        }
      ]
    },
    {
      "cell_type": "markdown",
      "metadata": {
        "id": "TiKh9JMIie96",
        "colab_type": "text"
      },
      "source": [
        "**- ทำการตรวจสอบข้อมูล ที่นำเข้าสู่ Geodataframe**"
      ]
    },
    {
      "cell_type": "code",
      "metadata": {
        "id": "RiO53AIugvJc",
        "colab_type": "code",
        "outputId": "13d40a47-a2f8-40ed-987b-0767c6790054",
        "colab": {
          "base_uri": "https://localhost:8080/",
          "height": 511
        }
      },
      "source": [
        "# show some sample data \n",
        "gdata.head(10)"
      ],
      "execution_count": 0,
      "outputs": [
        {
          "output_type": "execute_result",
          "data": {
            "text/html": [
              "<div>\n",
              "<style scoped>\n",
              "    .dataframe tbody tr th:only-of-type {\n",
              "        vertical-align: middle;\n",
              "    }\n",
              "\n",
              "    .dataframe tbody tr th {\n",
              "        vertical-align: top;\n",
              "    }\n",
              "\n",
              "    .dataframe thead th {\n",
              "        text-align: right;\n",
              "    }\n",
              "</style>\n",
              "<table border=\"1\" class=\"dataframe\">\n",
              "  <thead>\n",
              "    <tr style=\"text-align: right;\">\n",
              "      <th></th>\n",
              "      <th>PROV_CODE</th>\n",
              "      <th>PROV_NAMT</th>\n",
              "      <th>PROV_NAME</th>\n",
              "      <th>Area_km2_</th>\n",
              "      <th>geometry</th>\n",
              "    </tr>\n",
              "  </thead>\n",
              "  <tbody>\n",
              "    <tr>\n",
              "      <th>0</th>\n",
              "      <td>10</td>\n",
              "      <td>กรุงเทพมหานคร</td>\n",
              "      <td>BANGKOK</td>\n",
              "      <td>1568.95</td>\n",
              "      <td>POLYGON ((673511.243271844 1543337.560089368, ...</td>\n",
              "    </tr>\n",
              "    <tr>\n",
              "      <th>1</th>\n",
              "      <td>11</td>\n",
              "      <td>สมุทรปราการ</td>\n",
              "      <td>SAMUT PRAKAN</td>\n",
              "      <td>960.09</td>\n",
              "      <td>POLYGON ((687119.9477673227 1517249.831733261,...</td>\n",
              "    </tr>\n",
              "    <tr>\n",
              "      <th>2</th>\n",
              "      <td>12</td>\n",
              "      <td>นนทบุรี</td>\n",
              "      <td>NONTHABURI</td>\n",
              "      <td>633.25</td>\n",
              "      <td>POLYGON ((649103.5099873849 1546927.931480827,...</td>\n",
              "    </tr>\n",
              "    <tr>\n",
              "      <th>3</th>\n",
              "      <td>13</td>\n",
              "      <td>ปทุมธานี</td>\n",
              "      <td>PATHUM THANI</td>\n",
              "      <td>1520.06</td>\n",
              "      <td>POLYGON ((704081.656398333 1576391.725584486, ...</td>\n",
              "    </tr>\n",
              "    <tr>\n",
              "      <th>4</th>\n",
              "      <td>14</td>\n",
              "      <td>พระนครศรีอยุธยา</td>\n",
              "      <td>PHRA NAKHON SI AYUTTHAYA</td>\n",
              "      <td>2534.07</td>\n",
              "      <td>POLYGON ((666924.0312785283 1622414.506917042,...</td>\n",
              "    </tr>\n",
              "    <tr>\n",
              "      <th>5</th>\n",
              "      <td>15</td>\n",
              "      <td>อ่างทอง</td>\n",
              "      <td>ANG THONG</td>\n",
              "      <td>948.68</td>\n",
              "      <td>POLYGON ((643476.4924470172 1636455.2991575, 6...</td>\n",
              "    </tr>\n",
              "    <tr>\n",
              "      <th>6</th>\n",
              "      <td>16</td>\n",
              "      <td>ลพบุรี</td>\n",
              "      <td>LOP BURI</td>\n",
              "      <td>6290.80</td>\n",
              "      <td>POLYGON ((754259.8958616317 1723607.218240889,...</td>\n",
              "    </tr>\n",
              "    <tr>\n",
              "      <th>7</th>\n",
              "      <td>17</td>\n",
              "      <td>สิงห์บุรี</td>\n",
              "      <td>SING BURI</td>\n",
              "      <td>831.57</td>\n",
              "      <td>POLYGON ((645889.672386579 1669698.679907624, ...</td>\n",
              "    </tr>\n",
              "    <tr>\n",
              "      <th>8</th>\n",
              "      <td>18</td>\n",
              "      <td>ชัยนาท</td>\n",
              "      <td>CHAI NAT</td>\n",
              "      <td>2463.64</td>\n",
              "      <td>POLYGON ((621331.3107974514 1703368.788308561,...</td>\n",
              "    </tr>\n",
              "    <tr>\n",
              "      <th>9</th>\n",
              "      <td>19</td>\n",
              "      <td>สระบุรี</td>\n",
              "      <td>SARABURI</td>\n",
              "      <td>3504.53</td>\n",
              "      <td>POLYGON ((756345.7156804196 1663816.752038308,...</td>\n",
              "    </tr>\n",
              "  </tbody>\n",
              "</table>\n",
              "</div>"
            ],
            "text/plain": [
              "  PROV_CODE  ...                                           geometry\n",
              "0        10  ...  POLYGON ((673511.243271844 1543337.560089368, ...\n",
              "1        11  ...  POLYGON ((687119.9477673227 1517249.831733261,...\n",
              "2        12  ...  POLYGON ((649103.5099873849 1546927.931480827,...\n",
              "3        13  ...  POLYGON ((704081.656398333 1576391.725584486, ...\n",
              "4        14  ...  POLYGON ((666924.0312785283 1622414.506917042,...\n",
              "5        15  ...  POLYGON ((643476.4924470172 1636455.2991575, 6...\n",
              "6        16  ...  POLYGON ((754259.8958616317 1723607.218240889,...\n",
              "7        17  ...  POLYGON ((645889.672386579 1669698.679907624, ...\n",
              "8        18  ...  POLYGON ((621331.3107974514 1703368.788308561,...\n",
              "9        19  ...  POLYGON ((756345.7156804196 1663816.752038308,...\n",
              "\n",
              "[10 rows x 5 columns]"
            ]
          },
          "metadata": {
            "tags": []
          },
          "execution_count": 9
        }
      ]
    },
    {
      "cell_type": "code",
      "metadata": {
        "id": "vkO9wh6WhATK",
        "colab_type": "code",
        "outputId": "11ce18af-777e-4e63-a1ce-b33430998dff",
        "colab": {
          "base_uri": "https://localhost:8080/",
          "height": 286
        }
      },
      "source": [
        "gdata.plot()"
      ],
      "execution_count": 0,
      "outputs": [
        {
          "output_type": "execute_result",
          "data": {
            "text/plain": [
              "<matplotlib.axes._subplots.AxesSubplot at 0x7f715e4d6710>"
            ]
          },
          "metadata": {
            "tags": []
          },
          "execution_count": 10
        },
        {
          "output_type": "display_data",
          "data": {
            "image/png": "[encoded data removed]",
            "text/plain": [
              "<Figure size 432x288 with 1 Axes>"
            ]
          },
          "metadata": {
            "tags": []
          }
        }
      ]
    },
    {
      "cell_type": "markdown",
      "metadata": {
        "id": "wAlK0yUv0FqN",
        "colab_type": "text"
      },
      "source": [
        "**- ทำการเขียน GIS file จาก GeoDataFrame**"
      ]
    },
    {
      "cell_type": "code",
      "metadata": {
        "id": "KySSGtx8hksp",
        "colab_type": "code",
        "outputId": "61f34d15-a42f-4a64-e179-6571dde8963a",
        "colab": {
          "base_uri": "https://localhost:8080/",
          "height": 403
        }
      },
      "source": [
        "# กำหนดปลายทางที่จะบันทึกไฟล์\n",
        "outfp = \"./province_out3.shp\"\n",
        "\n",
        "# เลือก feature บางส่วน 20 แถวแรก\n",
        "selection = gdata[0:20]\n",
        "\n",
        "print(selection)\n",
        "\n",
        "# เขียนไฟล์ผลลัพธ์\n",
        "selection.to_file(outfp)"
      ],
      "execution_count": 0,
      "outputs": [
        {
          "output_type": "stream",
          "text": [
            "   PROV_CODE  ...                                           geometry\n",
            "0         10  ...  POLYGON ((673511.243271844 1543337.560089368, ...\n",
            "1         11  ...  POLYGON ((687119.9477673227 1517249.831733261,...\n",
            "2         12  ...  POLYGON ((649103.5099873849 1546927.931480827,...\n",
            "3         13  ...  POLYGON ((704081.656398333 1576391.725584486, ...\n",
            "4         14  ...  POLYGON ((666924.0312785283 1622414.506917042,...\n",
            "5         15  ...  POLYGON ((643476.4924470172 1636455.2991575, 6...\n",
            "6         16  ...  POLYGON ((754259.8958616317 1723607.218240889,...\n",
            "7         17  ...  POLYGON ((645889.672386579 1669698.679907624, ...\n",
            "8         18  ...  POLYGON ((621331.3107974514 1703368.788308561,...\n",
            "9         19  ...  POLYGON ((756345.7156804196 1663816.752038308,...\n",
            "10        20  ...  (POLYGON ((714495.0134155615 1384796.600988774...\n",
            "11        21  ...  (POLYGON ((765458.0203724662 1384481.159250657...\n",
            "12        22  ...  (POLYGON ((840589.0400011333 1372011.703312366...\n",
            "13        23  ...  (POLYGON ((884007.5275566936 1293530.243747134...\n",
            "14        24  ...  POLYGON ((730924.8655093132 1545379.620140681,...\n",
            "15        25  ...  POLYGON ((768231.1435593418 1599920.389988413,...\n",
            "16        26  ...  POLYGON ((746042.2398823432 1603999.50616546, ...\n",
            "17        27  ...  POLYGON ((847378.8253791379 1566115.357640136,...\n",
            "18        30  ...  POLYGON ((855141.831054124 1750391.933474286, ...\n",
            "19        31  ...  POLYGON ((921947.0506715233 1749258.286803221,...\n",
            "\n",
            "[20 rows x 5 columns]\n"
          ],
          "name": "stdout"
        }
      ]
    },
    {
      "cell_type": "code",
      "metadata": {
        "id": "mPAzC6hV0z2g",
        "colab_type": "code",
        "colab": {}
      },
      "source": [
        "# เขียนไฟล์รูปแบบแตกต่าง \n",
        "selection.to_file('province_out.geojson', driver='GeoJSON')\n",
        "selection.to_file(\"spatialdb.gpkg\", layer='privince', driver=\"GPKG\")"
      ],
      "execution_count": 0,
      "outputs": []
    },
    {
      "cell_type": "code",
      "metadata": {
        "id": "F0GMoDP61Oxr",
        "colab_type": "code",
        "outputId": "30e3b7a6-2633-480a-b48c-d4763ffacd34",
        "colab": {
          "base_uri": "https://localhost:8080/",
          "height": 168
        }
      },
      "source": [
        "result = gpd.read_file('./province_out.geojson')\n",
        "print(result.crs)\n",
        "print(result.head())"
      ],
      "execution_count": 0,
      "outputs": [
        {
          "output_type": "stream",
          "text": [
            "{'init': 'epsg:32647'}\n",
            "  PROV_CODE  ...                                           geometry\n",
            "0        10  ...  POLYGON ((673511.243271844 1543337.560089368, ...\n",
            "1        11  ...  POLYGON ((687119.9477673227 1517249.831733261,...\n",
            "2        12  ...  POLYGON ((649103.5099873849 1546927.931480827,...\n",
            "3        13  ...  POLYGON ((704081.656398333 1576391.725584486, ...\n",
            "4        14  ...  POLYGON ((666924.0312785283 1622414.506917042,...\n",
            "\n",
            "[5 rows x 5 columns]\n"
          ],
          "name": "stdout"
        }
      ]
    },
    {
      "cell_type": "markdown",
      "metadata": {
        "id": "RkhlO6Jx4YI5",
        "colab_type": "text"
      },
      "source": [
        "**- การจัดการข้อมูล Geomety ด้วย Geopandas**"
      ]
    },
    {
      "cell_type": "code",
      "metadata": {
        "id": "DUjrrbuO1lCc",
        "colab_type": "code",
        "outputId": "79d3a165-e468-4e82-fcc6-1ecfd33ad528",
        "colab": {
          "base_uri": "https://localhost:8080/",
          "height": 202
        }
      },
      "source": [
        "#แสดงข้อมูล\n",
        "print(gdata['geometry'].head(10))\n",
        "\n"
      ],
      "execution_count": 0,
      "outputs": [
        {
          "output_type": "stream",
          "text": [
            "0    POLYGON ((673511.243271844 1543337.560089368, ...\n",
            "1    POLYGON ((687119.9477673227 1517249.831733261,...\n",
            "2    POLYGON ((649103.5099873849 1546927.931480827,...\n",
            "3    POLYGON ((704081.656398333 1576391.725584486, ...\n",
            "4    POLYGON ((666924.0312785283 1622414.506917042,...\n",
            "5    POLYGON ((643476.4924470172 1636455.2991575, 6...\n",
            "6    POLYGON ((754259.8958616317 1723607.218240889,...\n",
            "7    POLYGON ((645889.672386579 1669698.679907624, ...\n",
            "8    POLYGON ((621331.3107974514 1703368.788308561,...\n",
            "9    POLYGON ((756345.7156804196 1663816.752038308,...\n",
            "Name: geometry, dtype: object\n"
          ],
          "name": "stdout"
        }
      ]
    },
    {
      "cell_type": "code",
      "metadata": {
        "id": "ccJf-_S-4jb3",
        "colab_type": "code",
        "outputId": "9322c5b9-a7ea-4177-a5f3-7fb7d43b10c3",
        "colab": {
          "base_uri": "https://localhost:8080/",
          "height": 50
        }
      },
      "source": [
        "#เข้าถึงคุณสมบัติเชิงเรขาคณิตของ spatial data\n",
        "# หาขอบเขตของชั้นข้อมูล\n",
        "layer_bbox = gdata.total_bounds\n",
        "# หาพื้นที่รวมของชั้นข้อมูล\n",
        "total_area = sum(gdata.area)/1000000\n",
        "\n",
        "print('boundary =',layer_bbox)\n",
        "print('total area =',total_area)\n"
      ],
      "execution_count": 0,
      "outputs": [
        {
          "output_type": "stream",
          "text": [
            "boundary = [ 325210.24607093  620860.59973434 1213655.69953934 2263189.23905008]\n",
            "total area = 515820.4871088155\n"
          ],
          "name": "stdout"
        }
      ]
    },
    {
      "cell_type": "code",
      "metadata": {
        "id": "L4fgK_RZ7Vg5",
        "colab_type": "code",
        "outputId": "bc6d6609-36d5-4035-9292-974b0183aa91",
        "colab": {
          "base_uri": "https://localhost:8080/",
          "height": 417
        }
      },
      "source": [
        "# สร้างคอลัมภ์คำนวณพื้นที่ราย polygon\n",
        "gdata['p_area'] = gdata.area/1000000\n",
        "gdata['bbox_minx'] = (gdata.bounds.minx)\n",
        "gdata['bbox_miny'] = (gdata.bounds.miny)\n",
        "gdata['bbox_maxx'] = (gdata.bounds.maxx)\n",
        "gdata['bbox_maxy'] = (gdata.bounds.maxy)\n",
        "\n",
        "#gdata[['PROV_NAMT','p_area']].head()\n",
        "gdata.head()"
      ],
      "execution_count": 0,
      "outputs": [
        {
          "output_type": "execute_result",
          "data": {
            "text/html": [
              "<div>\n",
              "<style scoped>\n",
              "    .dataframe tbody tr th:only-of-type {\n",
              "        vertical-align: middle;\n",
              "    }\n",
              "\n",
              "    .dataframe tbody tr th {\n",
              "        vertical-align: top;\n",
              "    }\n",
              "\n",
              "    .dataframe thead th {\n",
              "        text-align: right;\n",
              "    }\n",
              "</style>\n",
              "<table border=\"1\" class=\"dataframe\">\n",
              "  <thead>\n",
              "    <tr style=\"text-align: right;\">\n",
              "      <th></th>\n",
              "      <th>PROV_CODE</th>\n",
              "      <th>PROV_NAMT</th>\n",
              "      <th>PROV_NAME</th>\n",
              "      <th>Area_km2_</th>\n",
              "      <th>geometry</th>\n",
              "      <th>p_area</th>\n",
              "      <th>p_bbox</th>\n",
              "      <th>bbox_minx</th>\n",
              "      <th>bbox_miny</th>\n",
              "      <th>bbox_maxx</th>\n",
              "      <th>bbox_maxy</th>\n",
              "    </tr>\n",
              "  </thead>\n",
              "  <tbody>\n",
              "    <tr>\n",
              "      <th>0</th>\n",
              "      <td>10</td>\n",
              "      <td>กรุงเทพมหานคร</td>\n",
              "      <td>BANGKOK</td>\n",
              "      <td>1568.95</td>\n",
              "      <td>POLYGON ((673511.243271844 1543337.560089368, ...</td>\n",
              "      <td>1568.951050</td>\n",
              "      <td>minx          miny          maxx  ...</td>\n",
              "      <td>643658.314328</td>\n",
              "      <td>1.492044e+06</td>\n",
              "      <td>709550.539363</td>\n",
              "      <td>1.543364e+06</td>\n",
              "    </tr>\n",
              "    <tr>\n",
              "      <th>1</th>\n",
              "      <td>11</td>\n",
              "      <td>สมุทรปราการ</td>\n",
              "      <td>SAMUT PRAKAN</td>\n",
              "      <td>960.09</td>\n",
              "      <td>POLYGON ((687119.9477673227 1517249.831733261,...</td>\n",
              "      <td>960.094128</td>\n",
              "      <td>minx          miny          maxx  ...</td>\n",
              "      <td>656294.078019</td>\n",
              "      <td>1.490380e+06</td>\n",
              "      <td>712436.070907</td>\n",
              "      <td>1.517256e+06</td>\n",
              "    </tr>\n",
              "    <tr>\n",
              "      <th>2</th>\n",
              "      <td>12</td>\n",
              "      <td>นนทบุรี</td>\n",
              "      <td>NONTHABURI</td>\n",
              "      <td>633.25</td>\n",
              "      <td>POLYGON ((649103.5099873849 1546927.931480827,...</td>\n",
              "      <td>633.250508</td>\n",
              "      <td>minx          miny          maxx  ...</td>\n",
              "      <td>636673.958932</td>\n",
              "      <td>1.524875e+06</td>\n",
              "      <td>669363.038540</td>\n",
              "      <td>1.563657e+06</td>\n",
              "    </tr>\n",
              "    <tr>\n",
              "      <th>3</th>\n",
              "      <td>13</td>\n",
              "      <td>ปทุมธานี</td>\n",
              "      <td>PATHUM THANI</td>\n",
              "      <td>1520.06</td>\n",
              "      <td>POLYGON ((704081.656398333 1576391.725584486, ...</td>\n",
              "      <td>1520.058791</td>\n",
              "      <td>minx          miny          maxx  ...</td>\n",
              "      <td>643776.982456</td>\n",
              "      <td>1.539109e+06</td>\n",
              "      <td>710588.369882</td>\n",
              "      <td>1.579080e+06</td>\n",
              "    </tr>\n",
              "    <tr>\n",
              "      <th>4</th>\n",
              "      <td>14</td>\n",
              "      <td>พระนครศรีอยุธยา</td>\n",
              "      <td>PHRA NAKHON SI AYUTTHAYA</td>\n",
              "      <td>2534.07</td>\n",
              "      <td>POLYGON ((666924.0312785283 1622414.506917042,...</td>\n",
              "      <td>2534.074243</td>\n",
              "      <td>minx          miny          maxx  ...</td>\n",
              "      <td>634029.363712</td>\n",
              "      <td>1.560260e+06</td>\n",
              "      <td>696701.126153</td>\n",
              "      <td>1.622576e+06</td>\n",
              "    </tr>\n",
              "  </tbody>\n",
              "</table>\n",
              "</div>"
            ],
            "text/plain": [
              "  PROV_CODE        PROV_NAMT  ...      bbox_maxx     bbox_maxy\n",
              "0        10    กรุงเทพมหานคร  ...  709550.539363  1.543364e+06\n",
              "1        11      สมุทรปราการ  ...  712436.070907  1.517256e+06\n",
              "2        12          นนทบุรี  ...  669363.038540  1.563657e+06\n",
              "3        13         ปทุมธานี  ...  710588.369882  1.579080e+06\n",
              "4        14  พระนครศรีอยุธยา  ...  696701.126153  1.622576e+06\n",
              "\n",
              "[5 rows x 11 columns]"
            ]
          },
          "metadata": {
            "tags": []
          },
          "execution_count": 124
        }
      ]
    },
    {
      "cell_type": "code",
      "metadata": {
        "id": "bxui0Jn4A-e5",
        "colab_type": "code",
        "outputId": "70aaf56b-01da-4d36-c9aa-c0b16d023619",
        "colab": {
          "base_uri": "https://localhost:8080/",
          "height": 67
        }
      },
      "source": [
        "# Maximum area\n",
        "max_area = gdata['p_area'].max()\n",
        "\n",
        "# Minimum area\n",
        "min_area = gdata['p_area'].min()\n",
        "\n",
        "# Mean area\n",
        "mean_area = gdata['p_area'].mean()\n",
        "\n",
        "print(\"Max area: {max}\\nMin area: {min}\\nMean area: {mean}\".format(max=round(max_area, 2), min=round(min_area, 2), mean=round(mean_area, 2)))"
      ],
      "execution_count": 0,
      "outputs": [
        {
          "output_type": "stream",
          "text": [
            "Max area: 22060.57\n",
            "Min area: 409.05\n",
            "Mean area: 6698.97\n"
          ],
          "name": "stdout"
        }
      ]
    },
    {
      "cell_type": "code",
      "metadata": {
        "id": "VFN1x39REgNT",
        "colab_type": "code",
        "outputId": "62c39596-0981-4e60-d57b-0c946d54a02a",
        "colab": {
          "base_uri": "https://localhost:8080/",
          "height": 147
        }
      },
      "source": [
        " # spatial query หาจังหวัดพื้นที่มากที่สุด\n",
        "  gdata.query('p_area >= 22060')"
      ],
      "execution_count": 0,
      "outputs": [
        {
          "output_type": "execute_result",
          "data": {
            "text/html": [
              "<div>\n",
              "<style scoped>\n",
              "    .dataframe tbody tr th:only-of-type {\n",
              "        vertical-align: middle;\n",
              "    }\n",
              "\n",
              "    .dataframe tbody tr th {\n",
              "        vertical-align: top;\n",
              "    }\n",
              "\n",
              "    .dataframe thead th {\n",
              "        text-align: right;\n",
              "    }\n",
              "</style>\n",
              "<table border=\"1\" class=\"dataframe\">\n",
              "  <thead>\n",
              "    <tr style=\"text-align: right;\">\n",
              "      <th></th>\n",
              "      <th>PROV_CODE</th>\n",
              "      <th>PROV_NAMT</th>\n",
              "      <th>PROV_NAME</th>\n",
              "      <th>Area_km2_</th>\n",
              "      <th>geometry</th>\n",
              "      <th>p_area</th>\n",
              "      <th>p_bbox</th>\n",
              "      <th>bbox_minx</th>\n",
              "      <th>bbox_miny</th>\n",
              "      <th>bbox_maxx</th>\n",
              "      <th>bbox_maxy</th>\n",
              "    </tr>\n",
              "  </thead>\n",
              "  <tbody>\n",
              "    <tr>\n",
              "      <th>38</th>\n",
              "      <td>50</td>\n",
              "      <td>เชียงใหม่</td>\n",
              "      <td>CHIANG MAI</td>\n",
              "      <td>22060.57</td>\n",
              "      <td>POLYGON ((553528.711447578 2227866.168970726, ...</td>\n",
              "      <td>22060.565588</td>\n",
              "      <td>minx          miny          maxx  ...</td>\n",
              "      <td>394992.285109</td>\n",
              "      <td>1.909848e+06</td>\n",
              "      <td>559891.535589</td>\n",
              "      <td>2.227871e+06</td>\n",
              "    </tr>\n",
              "  </tbody>\n",
              "</table>\n",
              "</div>"
            ],
            "text/plain": [
              "   PROV_CODE  PROV_NAMT   PROV_NAME  ...     bbox_miny      bbox_maxx     bbox_maxy\n",
              "38        50  เชียงใหม่  CHIANG MAI  ...  1.909848e+06  559891.535589  2.227871e+06\n",
              "\n",
              "[1 rows x 11 columns]"
            ]
          },
          "metadata": {
            "tags": []
          },
          "execution_count": 132
        }
      ]
    },
    {
      "cell_type": "code",
      "metadata": {
        "id": "JY2RpCsOEoXz",
        "colab_type": "code",
        "outputId": "6d34b177-5f6f-4c6a-d3b5-cb5dd6454405",
        "colab": {
          "base_uri": "https://localhost:8080/",
          "height": 77
        }
      },
      "source": [
        " # spatial query หาจังหวัดพื้นที่น้อยกว่า 500 ตร.กม\n",
        "  gdata[['PROV_NAMT','p_area']].query('p_area <= 500')"
      ],
      "execution_count": 0,
      "outputs": [
        {
          "output_type": "execute_result",
          "data": {
            "text/html": [
              "<div>\n",
              "<style scoped>\n",
              "    .dataframe tbody tr th:only-of-type {\n",
              "        vertical-align: middle;\n",
              "    }\n",
              "\n",
              "    .dataframe tbody tr th {\n",
              "        vertical-align: top;\n",
              "    }\n",
              "\n",
              "    .dataframe thead th {\n",
              "        text-align: right;\n",
              "    }\n",
              "</style>\n",
              "<table border=\"1\" class=\"dataframe\">\n",
              "  <thead>\n",
              "    <tr style=\"text-align: right;\">\n",
              "      <th></th>\n",
              "      <th>PROV_NAMT</th>\n",
              "      <th>p_area</th>\n",
              "    </tr>\n",
              "  </thead>\n",
              "  <tbody>\n",
              "    <tr>\n",
              "      <th>60</th>\n",
              "      <td>สมุทรสงคราม</td>\n",
              "      <td>409.051229</td>\n",
              "    </tr>\n",
              "  </tbody>\n",
              "</table>\n",
              "</div>"
            ],
            "text/plain": [
              "      PROV_NAMT      p_area\n",
              "60  สมุทรสงคราม  409.051229"
            ]
          },
          "metadata": {
            "tags": []
          },
          "execution_count": 146
        }
      ]
    },
    {
      "cell_type": "code",
      "metadata": {
        "id": "Kj9NFlaLFMB6",
        "colab_type": "code",
        "outputId": "73c2c0ab-0d5c-4216-fc46-17094ea9fb14",
        "colab": {
          "base_uri": "https://localhost:8080/",
          "height": 340
        }
      },
      "source": [
        "resmap = gdata[(gdata.p_area <= 500) | (gdata.p_area >= 22060)]\n",
        "resmap.plot(figsize=(7,5))"
      ],
      "execution_count": 0,
      "outputs": [
        {
          "output_type": "execute_result",
          "data": {
            "text/plain": [
              "<matplotlib.axes._subplots.AxesSubplot at 0x7fd3d9e2ad30>"
            ]
          },
          "metadata": {
            "tags": []
          },
          "execution_count": 144
        },
        {
          "output_type": "display_data",
          "data": {
            "image/png": "[encoded data removed]",
            "text/plain": [
              "<Figure size 504x360 with 1 Axes>"
            ]
          },
          "metadata": {
            "tags": []
          }
        }
      ]
    },
    {
      "cell_type": "markdown",
      "metadata": {
        "id": "r4ko0mAbNeFB",
        "colab_type": "text"
      },
      "source": [
        "##Spatial Reference System"
      ]
    },
    {
      "cell_type": "markdown",
      "metadata": {
        "id": "PfTAJaE6NhC6",
        "colab_type": "text"
      },
      "source": [
        "- การจัดการระบบพิกัดภูมิศาสตร์ ของข้อมูล geometry object\n"
      ]
    },
    {
      "cell_type": "code",
      "metadata": {
        "id": "icGlPnyLNfla",
        "colab_type": "code",
        "outputId": "326320ba-25a8-49e7-bcf2-519bf5768a4c",
        "colab": {
          "base_uri": "https://localhost:8080/",
          "height": 50
        }
      },
      "source": [
        "#แสดงผล coordinate reference system\n",
        "print(gdata.crs)\n",
        "# spatial extent \n",
        "print(gdata.total_bounds)"
      ],
      "execution_count": 0,
      "outputs": [
        {
          "output_type": "stream",
          "text": [
            "{'init': 'epsg:32647'}\n",
            "[ 325210.24607093  620860.59973434 1213655.69953934 2263189.23905008]\n"
          ],
          "name": "stdout"
        }
      ]
    },
    {
      "cell_type": "code",
      "metadata": {
        "id": "nVFL0FRcE62h",
        "colab_type": "code",
        "outputId": "89f66ba4-0e8b-44a6-8f1b-f5a10e96a822",
        "colab": {
          "base_uri": "https://localhost:8080/",
          "height": 298
        }
      },
      "source": [
        "\n",
        "f, ax = plt.subplots()\n",
        "ax = gdata.plot(ax=ax,figsize=(7,5))\n",
        "ax.set_title(\"WGS 84 / UTM zone 47N \")"
      ],
      "execution_count": 0,
      "outputs": [
        {
          "output_type": "execute_result",
          "data": {
            "text/plain": [
              "Text(0.5, 1.0, 'WGS 84 / UTM zone 47N ')"
            ]
          },
          "metadata": {
            "tags": []
          },
          "execution_count": 23
        },
        {
          "output_type": "display_data",
          "data": {
            "image/png": "[encoded data removed]",
            "text/plain": [
              "<Figure size 432x288 with 1 Axes>"
            ]
          },
          "metadata": {
            "tags": []
          }
        }
      ]
    },
    {
      "cell_type": "markdown",
      "metadata": {
        "id": "r8i2vmGaESmb",
        "colab_type": "text"
      },
      "source": [
        "- ทำการแปลงระบบพิกัด"
      ]
    },
    {
      "cell_type": "code",
      "metadata": {
        "id": "d7ZAXL_xEWub",
        "colab_type": "code",
        "outputId": "5adf4021-e9b3-4758-ecf4-d138331a1fee",
        "colab": {
          "base_uri": "https://localhost:8080/",
          "height": 50
        }
      },
      "source": [
        "# reprojection\n",
        "\n",
        "gdata_geo_wgs84  = gdata.to_crs({'init': 'epsg:4326'})\n",
        " #แสดงผล coordinate reference system\n",
        "print(gdata_geo_wgs84.crs)\n",
        "# spatial extent \n",
        "print(gdata_geo_wgs84.total_bounds)"
      ],
      "execution_count": 0,
      "outputs": [
        {
          "output_type": "stream",
          "text": [
            "{'init': 'epsg:4326'}\n",
            "[ 97.34363668   5.61303785 105.63696456  20.46460385]\n"
          ],
          "name": "stdout"
        }
      ]
    },
    {
      "cell_type": "code",
      "metadata": {
        "id": "bSf2ITjJHdyH",
        "colab_type": "code",
        "outputId": "42a80fa1-bd66-4430-987f-af82881a65f9",
        "colab": {
          "base_uri": "https://localhost:8080/",
          "height": 298
        }
      },
      "source": [
        "\n",
        "f, ax = plt.subplots()\n",
        "ax = gdata_geo_wgs84.plot(ax=ax,figsize=(7,5))\n",
        "ax.set_title(\"WGS 84 / Geographic coordinate system\")"
      ],
      "execution_count": 0,
      "outputs": [
        {
          "output_type": "execute_result",
          "data": {
            "text/plain": [
              "Text(0.5, 1.0, 'WGS 84 / Geographic coordinate system')"
            ]
          },
          "metadata": {
            "tags": []
          },
          "execution_count": 27
        },
        {
          "output_type": "display_data",
          "data": {
            "image/png": "[encoded data removed]",
            "text/plain": [
              "<Figure size 432x288 with 1 Axes>"
            ]
          },
          "metadata": {
            "tags": []
          }
        }
      ]
    },
    {
      "cell_type": "markdown",
      "metadata": {
        "id": "BtBmGvPiOEyA",
        "colab_type": "text"
      },
      "source": [
        "## Geocode"
      ]
    },
    {
      "cell_type": "code",
      "metadata": {
        "id": "CngXYldfOGgu",
        "colab_type": "code",
        "colab": {}
      },
      "source": [
        "import pandas as pd\n",
        "import geopandas as gpd\n",
        "from shapely.geometry import Point\n",
        "from geopandas.tools import geocode"
      ],
      "execution_count": 0,
      "outputs": []
    },
    {
      "cell_type": "markdown",
      "metadata": {
        "id": "X9kkH7EhOqea",
        "colab_type": "text"
      },
      "source": [
        "- เตรียมรายชื่อ สถานที่ต้องการค้นหา พิกัดตำแหน่ง"
      ]
    },
    {
      "cell_type": "code",
      "metadata": {
        "id": "t_WI3VrwOHpY",
        "colab_type": "code",
        "outputId": "da64b3aa-c1df-429c-f4c7-4a97507fd421",
        "colab": {
          "base_uri": "https://localhost:8080/",
          "height": 195
        }
      },
      "source": [
        "data = {'Site 1':'ถนนสารสิน, Witthayu, แขวงลุมพินี, เขตปทุมวัน, กรุงเทพมหานคร, 10330, ประเทศไทย',\n",
        "       'Site 2':'Kamou Tokzung(豬腳飯), Soi Charoen Wiang, Sathon, แขวงสีลม, เขตบางรัก, กรุงเทพมหานคร, 10500, ประเทศไทย',\n",
        "        'Site 3': 'โรงเรียนสาธิตจุฬาลงกรณ์มหาวิทยาลัย ฝ่ายมัธยม, ซอยจุฬาลงกรณ์ 42, Sam Yan, แขวงวังใหม่, เขตปทุมวัน, กรุงเทพมหานคร, 10330, ประเทศไทย',\n",
        "        'Site 4': 'วัดหัวลำโพง, ซอยหน้าวัดหัวลำโพง, แขวงสุริยวงศ์, เขตบางรัก, กรุงเทพมหานคร, 10500, ประเทศไทย',\n",
        "        'Site 5': 'โรงพยาบาลจุฬาลงกรณ์, ถนนอังรีดูนังต์, Siam, แขวงปทุมวัน, เขตปทุมวัน, กรุงเทพมหานคร, 10330, ประเทศไทย ',\n",
        "        'Site 6': 'Suphachalasai Stadium, ซอยจุฬาลงกรณ์ 5, แขวงวังใหม่, เขตปทุมวัน, กรุงเทพมหานคร, 10330, ประเทศไทย'\n",
        "}\n",
        "\n",
        "df = pd.DataFrame.from_dict(data, orient='index')\n",
        "df.head(5)\n"
      ],
      "execution_count": 0,
      "outputs": [
        {
          "output_type": "execute_result",
          "data": {
            "text/html": [
              "<div>\n",
              "<style scoped>\n",
              "    .dataframe tbody tr th:only-of-type {\n",
              "        vertical-align: middle;\n",
              "    }\n",
              "\n",
              "    .dataframe tbody tr th {\n",
              "        vertical-align: top;\n",
              "    }\n",
              "\n",
              "    .dataframe thead th {\n",
              "        text-align: right;\n",
              "    }\n",
              "</style>\n",
              "<table border=\"1\" class=\"dataframe\">\n",
              "  <thead>\n",
              "    <tr style=\"text-align: right;\">\n",
              "      <th></th>\n",
              "      <th>0</th>\n",
              "    </tr>\n",
              "  </thead>\n",
              "  <tbody>\n",
              "    <tr>\n",
              "      <th>Site 1</th>\n",
              "      <td>ถนนสารสิน, Witthayu, แขวงลุมพินี, เขตปทุมวัน, ...</td>\n",
              "    </tr>\n",
              "    <tr>\n",
              "      <th>Site 2</th>\n",
              "      <td>Kamou Tokzung(豬腳飯), Soi Charoen Wiang, Sathon,...</td>\n",
              "    </tr>\n",
              "    <tr>\n",
              "      <th>Site 3</th>\n",
              "      <td>โรงเรียนสาธิตจุฬาลงกรณ์มหาวิทยาลัย ฝ่ายมัธยม, ...</td>\n",
              "    </tr>\n",
              "    <tr>\n",
              "      <th>Site 4</th>\n",
              "      <td>วัดหัวลำโพง, ซอยหน้าวัดหัวลำโพง, แขวงสุริยวงศ์...</td>\n",
              "    </tr>\n",
              "    <tr>\n",
              "      <th>Site 5</th>\n",
              "      <td>โรงพยาบาลจุฬาลงกรณ์, ถนนอังรีดูนังต์, Siam, แข...</td>\n",
              "    </tr>\n",
              "  </tbody>\n",
              "</table>\n",
              "</div>"
            ],
            "text/plain": [
              "                                                        0\n",
              "Site 1  ถนนสารสิน, Witthayu, แขวงลุมพินี, เขตปทุมวัน, ...\n",
              "Site 2  Kamou Tokzung(豬腳飯), Soi Charoen Wiang, Sathon,...\n",
              "Site 3  โรงเรียนสาธิตจุฬาลงกรณ์มหาวิทยาลัย ฝ่ายมัธยม, ...\n",
              "Site 4  วัดหัวลำโพง, ซอยหน้าวัดหัวลำโพง, แขวงสุริยวงศ์...\n",
              "Site 5  โรงพยาบาลจุฬาลงกรณ์, ถนนอังรีดูนังต์, Siam, แข..."
            ]
          },
          "metadata": {
            "tags": []
          },
          "execution_count": 174
        }
      ]
    },
    {
      "cell_type": "markdown",
      "metadata": {
        "id": "aqUbpGKcOgT4",
        "colab_type": "text"
      },
      "source": [
        "- เรียกข้อมูล geocode จาก Nominatim API \n",
        "- ค้นหาข้อมูลจาก OpenStreetMap data"
      ]
    },
    {
      "cell_type": "code",
      "metadata": {
        "id": "wW9vwIj0OO23",
        "colab_type": "code",
        "outputId": "a08b45cb-7bf4-4eae-d52a-e4bb4982446d",
        "colab": {
          "base_uri": "https://localhost:8080/",
          "height": 249
        }
      },
      "source": [
        "geo = geocode(df[0], provider='nominatim')\n",
        "geo.head()"
      ],
      "execution_count": 0,
      "outputs": [
        {
          "output_type": "stream",
          "text": [
            "/usr/local/lib/python3.6/dist-packages/geopy/geocoders/osm.py:143: UserWarning: Using Nominatim with the default \"geopy/1.17.0\" `user_agent` is strongly discouraged, as it violates Nominatim's ToS https://operations.osmfoundation.org/policies/nominatim/ and may possibly cause 403 and 429 HTTP errors. Please specify a custom `user_agent` with `Nominatim(user_agent=\"my-application\")` or by overriding the default `user_agent`: `geopy.geocoders.options.default_user_agent = \"my-application\"`. In geopy 2.0 this will become an exception.\n",
            "  UserWarning\n"
          ],
          "name": "stderr"
        },
        {
          "output_type": "execute_result",
          "data": {
            "text/html": [
              "<div>\n",
              "<style scoped>\n",
              "    .dataframe tbody tr th:only-of-type {\n",
              "        vertical-align: middle;\n",
              "    }\n",
              "\n",
              "    .dataframe tbody tr th {\n",
              "        vertical-align: top;\n",
              "    }\n",
              "\n",
              "    .dataframe thead th {\n",
              "        text-align: right;\n",
              "    }\n",
              "</style>\n",
              "<table border=\"1\" class=\"dataframe\">\n",
              "  <thead>\n",
              "    <tr style=\"text-align: right;\">\n",
              "      <th></th>\n",
              "      <th>geometry</th>\n",
              "      <th>address</th>\n",
              "    </tr>\n",
              "  </thead>\n",
              "  <tbody>\n",
              "    <tr>\n",
              "      <th>Site 1</th>\n",
              "      <td>POINT (100.5410291 13.7343553)</td>\n",
              "      <td>ถนนสารสิน, วิทยุ, แขวงลุมพินี, เขตปทุมวัน, กรุ...</td>\n",
              "    </tr>\n",
              "    <tr>\n",
              "      <th>Site 2</th>\n",
              "      <td>POINT (100.5164317 13.719473)</td>\n",
              "      <td>Kamou Tokzung(豬腳飯), Soi Charoen Wiang, สาทร, แ...</td>\n",
              "    </tr>\n",
              "    <tr>\n",
              "      <th>Site 3</th>\n",
              "      <td>POINT (100.527247839107 13.73607025)</td>\n",
              "      <td>โรงเรียนสาธิตจุฬาลงกรณ์มหาวิทยาลัย ฝ่ายมัธยม, ...</td>\n",
              "    </tr>\n",
              "    <tr>\n",
              "      <th>Site 4</th>\n",
              "      <td>POINT (100.529371082842 13.7316989)</td>\n",
              "      <td>วัดหัวลำโพง, ซอยหน้าวัดหัวลำโพง, แขวงสุริยวงศ์...</td>\n",
              "    </tr>\n",
              "    <tr>\n",
              "      <th>Site 5</th>\n",
              "      <td>POINT (100.53532171595 13.73288335)</td>\n",
              "      <td>โรงพยาบาลจุฬาลงกรณ์, ถนนอังรีดูนังต์, Siam Squ...</td>\n",
              "    </tr>\n",
              "  </tbody>\n",
              "</table>\n",
              "</div>"
            ],
            "text/plain": [
              "                                    geometry                                            address\n",
              "Site 1        POINT (100.5410291 13.7343553)  ถนนสารสิน, วิทยุ, แขวงลุมพินี, เขตปทุมวัน, กรุ...\n",
              "Site 2         POINT (100.5164317 13.719473)  Kamou Tokzung(豬腳飯), Soi Charoen Wiang, สาทร, แ...\n",
              "Site 3  POINT (100.527247839107 13.73607025)  โรงเรียนสาธิตจุฬาลงกรณ์มหาวิทยาลัย ฝ่ายมัธยม, ...\n",
              "Site 4   POINT (100.529371082842 13.7316989)  วัดหัวลำโพง, ซอยหน้าวัดหัวลำโพง, แขวงสุริยวงศ์...\n",
              "Site 5   POINT (100.53532171595 13.73288335)  โรงพยาบาลจุฬาลงกรณ์, ถนนอังรีดูนังต์, Siam Squ..."
            ]
          },
          "metadata": {
            "tags": []
          },
          "execution_count": 175
        }
      ]
    },
    {
      "cell_type": "code",
      "metadata": {
        "id": "oxhjZRWIO0T3",
        "colab_type": "code",
        "outputId": "b9c59f1c-1d2a-47f3-8763-773ce9cc07e2",
        "colab": {
          "base_uri": "https://localhost:8080/",
          "height": 298
        }
      },
      "source": [
        "#ทดลอง plot แผนที่ตำแหน่งผลลัพธ์\n",
        "geo.plot()"
      ],
      "execution_count": 0,
      "outputs": [
        {
          "output_type": "execute_result",
          "data": {
            "text/plain": [
              "<matplotlib.axes._subplots.AxesSubplot at 0x7fd3d9ff4b00>"
            ]
          },
          "metadata": {
            "tags": []
          },
          "execution_count": 177
        },
        {
          "output_type": "display_data",
          "data": {
            "image/png": "[encoded data removed]",
            "text/plain": [
              "<Figure size 432x288 with 1 Axes>"
            ]
          },
          "metadata": {
            "tags": []
          }
        }
      ]
    },
    {
      "cell_type": "markdown",
      "metadata": {
        "id": "wByJhuMrIMn8",
        "colab_type": "text"
      },
      "source": [
        "## OGC Web Feature Service"
      ]
    },
    {
      "cell_type": "markdown",
      "metadata": {
        "id": "5pXEL9H_IULv",
        "colab_type": "text"
      },
      "source": [
        "- Web feature service โปรโตคอลมาตรฐานของ OGC พัฒนาขึ้นเพื่อบริการข้อมูล spatial data \n",
        "- เชื่อมโยงการทำงานระหว่างระบบ GIS แบบ interoperability ในการเข้าถึงข้อมูลผ่าน webservice\n"
      ]
    },
    {
      "cell_type": "code",
      "metadata": {
        "id": "wOCILF0wheSy",
        "colab_type": "code",
        "colab": {}
      },
      "source": [
        "# Import necessary modules\n",
        "%matplotlib inline\n",
        "import geopandas as gpd\n",
        "from shapely.wkt import loads\n",
        "from shapely.geometry import Point, LineString,Polygon\n",
        "import matplotlib.pyplot as plt"
      ],
      "execution_count": 0,
      "outputs": []
    },
    {
      "cell_type": "code",
      "metadata": {
        "id": "AbGzKZEkhYxE",
        "colab_type": "code",
        "colab": {}
      },
      "source": [
        "import requests\n",
        "import geojson"
      ],
      "execution_count": 0,
      "outputs": []
    },
    {
      "cell_type": "code",
      "metadata": {
        "id": "MdGmlCIqIaFY",
        "colab_type": "code",
        "colab": {}
      },
      "source": [
        "# Define WFS Server\n",
        "# load  Global Ocean Acidification Observation Network (GOA-ON)\n",
        "wfs_url = \"http://data.nanoos.org/geoserver/ows\"\n",
        "params = dict(service='WFS', version='1.0.0', request='GetFeature',\n",
        "              typeName='oa:goaoninv', outputFormat='json')\n",
        "\n",
        "#Request GetFeature\n",
        "r = requests.get(wfs_url, params=params)\n",
        "# Load geojson output\n",
        "wfs_geo = geojson.loads(r.content)"
      ],
      "execution_count": 0,
      "outputs": []
    },
    {
      "cell_type": "code",
      "metadata": {
        "id": "E-CT1AAnh-ay",
        "colab_type": "code",
        "outputId": "33ba2a45-e896-40ce-e3f4-c9f52ab59ae8",
        "colab": {
          "base_uri": "https://localhost:8080/",
          "height": 319
        }
      },
      "source": [
        "# Read File form dataset\n",
        "world = gpd.read_file(gpd.datasets.get_path('naturalearth_lowres'))\n",
        "\n",
        "#Convet json to geopandas\n",
        "wfs_gdf = gpd.GeoDataFrame.from_features(wfs_geo)\n",
        "wfs_gdf.plot(ax=world.plot(cmap='Set3', figsize=(10, 6)),\n",
        "             marker='o', color='red', markersize=15);"
      ],
      "execution_count": 0,
      "outputs": [
        {
          "output_type": "display_data",
          "data": {
            "image/png": "[encoded data removed]",
            "text/plain": [
              "<Figure size 720x432 with 1 Axes>"
            ]
          },
          "metadata": {
            "tags": []
          }
        }
      ]
    },
    {
      "cell_type": "code",
      "metadata": {
        "id": "gvRgA1X9jxoA",
        "colab_type": "code",
        "outputId": "dd2657ad-5084-4222-aae5-a5ce0551c52b",
        "colab": {
          "base_uri": "https://localhost:8080/",
          "height": 618
        }
      },
      "source": [
        "# checking atribute data\n",
        "wfs_gdf.head(5)"
      ],
      "execution_count": 0,
      "outputs": [
        {
          "output_type": "execute_result",
          "data": {
            "text/html": [
              "<div>\n",
              "<style scoped>\n",
              "    .dataframe tbody tr th:only-of-type {\n",
              "        vertical-align: middle;\n",
              "    }\n",
              "\n",
              "    .dataframe tbody tr th {\n",
              "        vertical-align: top;\n",
              "    }\n",
              "\n",
              "    .dataframe thead th {\n",
              "        text-align: right;\n",
              "    }\n",
              "</style>\n",
              "<table border=\"1\" class=\"dataframe\">\n",
              "  <thead>\n",
              "    <tr style=\"text-align: right;\">\n",
              "      <th></th>\n",
              "      <th>Oceans</th>\n",
              "      <th>additional_organizations</th>\n",
              "      <th>agency</th>\n",
              "      <th>city</th>\n",
              "      <th>comments</th>\n",
              "      <th>comments_about_overlaps</th>\n",
              "      <th>contact_email</th>\n",
              "      <th>contact_name</th>\n",
              "      <th>country</th>\n",
              "      <th>data_url</th>\n",
              "      <th>department</th>\n",
              "      <th>deploy_date</th>\n",
              "      <th>depth_range</th>\n",
              "      <th>duration</th>\n",
              "      <th>frequency</th>\n",
              "      <th>geometry</th>\n",
              "      <th>id</th>\n",
              "      <th>latitude</th>\n",
              "      <th>line_xy</th>\n",
              "      <th>location</th>\n",
              "      <th>longitude</th>\n",
              "      <th>meta_lists</th>\n",
              "      <th>method</th>\n",
              "      <th>method_documentation</th>\n",
              "      <th>organization</th>\n",
              "      <th>organization_abbreviation</th>\n",
              "      <th>overlaps_with</th>\n",
              "      <th>parameters</th>\n",
              "      <th>parameters_planned</th>\n",
              "      <th>platform_name</th>\n",
              "      <th>platform_name_kml</th>\n",
              "      <th>platform_type</th>\n",
              "      <th>point_xy</th>\n",
              "      <th>project</th>\n",
              "      <th>seas</th>\n",
              "      <th>sensors</th>\n",
              "      <th>source_doc</th>\n",
              "      <th>track_pt_lat</th>\n",
              "      <th>track_pt_lon</th>\n",
              "      <th>type</th>\n",
              "      <th>url</th>\n",
              "    </tr>\n",
              "  </thead>\n",
              "  <tbody>\n",
              "    <tr>\n",
              "      <th>0</th>\n",
              "      <td>North Atlantic Ocean</td>\n",
              "      <td></td>\n",
              "      <td>Israeli Ministry of Infrastructure</td>\n",
              "      <td>Haifa</td>\n",
              "      <td></td>\n",
              "      <td></td>\n",
              "      <td>jacobs1@ocean.org.il</td>\n",
              "      <td>Jacob Silverman</td>\n",
              "      <td>Israel</td>\n",
              "      <td></td>\n",
              "      <td></td>\n",
              "      <td>01/2011 -</td>\n",
              "      <td></td>\n",
              "      <td></td>\n",
              "      <td>1/month</td>\n",
              "      <td>POINT (35.103906 33.063656)</td>\n",
              "      <td>2</td>\n",
              "      <td>33.063656</td>\n",
              "      <td>None</td>\n",
              "      <td></td>\n",
              "      <td>35.103906</td>\n",
              "      <td></td>\n",
              "      <td></td>\n",
              "      <td></td>\n",
              "      <td>National Institute of Oceangraphical and Limno...</td>\n",
              "      <td>NIOLR</td>\n",
              "      <td></td>\n",
              "      <td>dissolved oxygen; temperature; salinity; nutri...</td>\n",
              "      <td>dissolved inorganic carbon</td>\n",
              "      <td>AK</td>\n",
              "      <td>None</td>\n",
              "      <td>FOTS</td>\n",
              "      <td>None</td>\n",
              "      <td></td>\n",
              "      <td>None</td>\n",
              "      <td></td>\n",
              "      <td>FixedTimeSeries</td>\n",
              "      <td>None</td>\n",
              "      <td>None</td>\n",
              "      <td>IOLR Coastal Beach Rock Monitoring</td>\n",
              "      <td>http://www.ocean.org.il/MainPageEng.asp</td>\n",
              "    </tr>\n",
              "    <tr>\n",
              "      <th>1</th>\n",
              "      <td>North Pacific Ocean</td>\n",
              "      <td></td>\n",
              "      <td>National Science Foundation (NSF)</td>\n",
              "      <td></td>\n",
              "      <td>For a full listing of parameters, contact kris...</td>\n",
              "      <td></td>\n",
              "      <td>mengeb@oregonstate.edu</td>\n",
              "      <td>Bruce Menge</td>\n",
              "      <td>US</td>\n",
              "      <td></td>\n",
              "      <td></td>\n",
              "      <td>xx/2010 -</td>\n",
              "      <td></td>\n",
              "      <td></td>\n",
              "      <td></td>\n",
              "      <td>POINT (-120.28 34.47)</td>\n",
              "      <td>3</td>\n",
              "      <td>34.470000</td>\n",
              "      <td>None</td>\n",
              "      <td></td>\n",
              "      <td>-120.280000</td>\n",
              "      <td></td>\n",
              "      <td>discrete bottle samples</td>\n",
              "      <td></td>\n",
              "      <td>University of California, Santa Barbara</td>\n",
              "      <td>UC Santa Barbara</td>\n",
              "      <td></td>\n",
              "      <td>pH; pCO2</td>\n",
              "      <td></td>\n",
              "      <td>Alegria, CA</td>\n",
              "      <td>None</td>\n",
              "      <td>FOTS</td>\n",
              "      <td>None</td>\n",
              "      <td>Ocean Margin Ecosystem Group for Acidification...</td>\n",
              "      <td>North Pacific Ocean</td>\n",
              "      <td>GIFET (pH)</td>\n",
              "      <td>FixedTimeSeries</td>\n",
              "      <td>None</td>\n",
              "      <td>None</td>\n",
              "      <td>Intertidal (surf-zone) station</td>\n",
              "      <td>http://omegas.science.oregonstate.edu/</td>\n",
              "    </tr>\n",
              "    <tr>\n",
              "      <th>2</th>\n",
              "      <td>North Pacific Ocean</td>\n",
              "      <td>Santa Barbara Coastal Long Term Ecological Res...</td>\n",
              "      <td>George Melendez Wright Climate Change Fellowsh...</td>\n",
              "      <td></td>\n",
              "      <td></td>\n",
              "      <td></td>\n",
              "      <td>lydia.kapsenberg@lifesci.ucsb.edu</td>\n",
              "      <td>Lydia Kapsenberg</td>\n",
              "      <td>US</td>\n",
              "      <td></td>\n",
              "      <td></td>\n",
              "      <td>02/2012 -</td>\n",
              "      <td></td>\n",
              "      <td>3 months</td>\n",
              "      <td>2/hour</td>\n",
              "      <td>POINT (-119.3622111 34.01653611)</td>\n",
              "      <td>4</td>\n",
              "      <td>34.016536</td>\n",
              "      <td>None</td>\n",
              "      <td></td>\n",
              "      <td>-119.362211</td>\n",
              "      <td></td>\n",
              "      <td>pH-sensor mounted to the pier piling at Anacap...</td>\n",
              "      <td></td>\n",
              "      <td>University of California, Santa Barbara</td>\n",
              "      <td>UC Santa Barbara</td>\n",
              "      <td></td>\n",
              "      <td>pH; temperature</td>\n",
              "      <td></td>\n",
              "      <td>Anacapa Island</td>\n",
              "      <td>None</td>\n",
              "      <td>FOTS</td>\n",
              "      <td>None</td>\n",
              "      <td></td>\n",
              "      <td>North Pacific Ocean</td>\n",
              "      <td>SeaFET (pH)</td>\n",
              "      <td>FixedTimeSeries</td>\n",
              "      <td>None</td>\n",
              "      <td>None</td>\n",
              "      <td>Pier-mounted sensor</td>\n",
              "      <td>http://hofmannlab.msi.ucsb.edu/</td>\n",
              "    </tr>\n",
              "    <tr>\n",
              "      <th>3</th>\n",
              "      <td>North Pacific Ocean</td>\n",
              "      <td></td>\n",
              "      <td>Canadian Foundation for Innovation (CFI); Prov...</td>\n",
              "      <td></td>\n",
              "      <td></td>\n",
              "      <td></td>\n",
              "      <td>denmank@uvic.ca</td>\n",
              "      <td>Kenneth Denman</td>\n",
              "      <td>Canada</td>\n",
              "      <td></td>\n",
              "      <td></td>\n",
              "      <td>05/2012 -</td>\n",
              "      <td>20 - 900 m</td>\n",
              "      <td></td>\n",
              "      <td>1-2/year</td>\n",
              "      <td>POINT (-126 48.333)</td>\n",
              "      <td>5</td>\n",
              "      <td>48.333000</td>\n",
              "      <td>None</td>\n",
              "      <td></td>\n",
              "      <td>-126.000000</td>\n",
              "      <td></td>\n",
              "      <td>Profiling</td>\n",
              "      <td></td>\n",
              "      <td>Ocean Networks Canada</td>\n",
              "      <td>ONC</td>\n",
              "      <td></td>\n",
              "      <td>temperature; salinity; oxygen; pCO2; pH</td>\n",
              "      <td></td>\n",
              "      <td>Barkley Canyon</td>\n",
              "      <td>None</td>\n",
              "      <td>OP</td>\n",
              "      <td>None</td>\n",
              "      <td></td>\n",
              "      <td>North Pacific Ocean</td>\n",
              "      <td></td>\n",
              "      <td>FixedTimeSeries</td>\n",
              "      <td>None</td>\n",
              "      <td>None</td>\n",
              "      <td>NEPTUNE Canada Vertical Profiler</td>\n",
              "      <td>http://www.neptunecanada.ca/</td>\n",
              "    </tr>\n",
              "    <tr>\n",
              "      <th>4</th>\n",
              "      <td>North Atlantic Ocean</td>\n",
              "      <td></td>\n",
              "      <td>Federal Maritime and Hydrographic Agency</td>\n",
              "      <td></td>\n",
              "      <td></td>\n",
              "      <td></td>\n",
              "      <td>sieglinde.weigelt@bsh.de</td>\n",
              "      <td>Sieglinde Weigelt-Krenz</td>\n",
              "      <td></td>\n",
              "      <td></td>\n",
              "      <td></td>\n",
              "      <td>xx/1989 -</td>\n",
              "      <td>3 - 30 m</td>\n",
              "      <td></td>\n",
              "      <td></td>\n",
              "      <td>POINT (6.35 54.16667)</td>\n",
              "      <td>6</td>\n",
              "      <td>54.166670</td>\n",
              "      <td>None</td>\n",
              "      <td></td>\n",
              "      <td>6.350000</td>\n",
              "      <td></td>\n",
              "      <td></td>\n",
              "      <td></td>\n",
              "      <td></td>\n",
              "      <td></td>\n",
              "      <td></td>\n",
              "      <td>pH; pCO2; salinity; temperature; dissolved oxy...</td>\n",
              "      <td></td>\n",
              "      <td>BHS UFS EMS</td>\n",
              "      <td>None</td>\n",
              "      <td>FOTS</td>\n",
              "      <td>None</td>\n",
              "      <td></td>\n",
              "      <td>North Sea</td>\n",
              "      <td>Sea &amp;amp; sun CTD 48; APP Automatic Pump Photo...</td>\n",
              "      <td>FixedTimeSeries</td>\n",
              "      <td>None</td>\n",
              "      <td>None</td>\n",
              "      <td>Unmanned Fireship</td>\n",
              "      <td></td>\n",
              "    </tr>\n",
              "  </tbody>\n",
              "</table>\n",
              "</div>"
            ],
            "text/plain": [
              "                 Oceans  ...                                      url\n",
              "0  North Atlantic Ocean  ...  http://www.ocean.org.il/MainPageEng.asp\n",
              "1   North Pacific Ocean  ...   http://omegas.science.oregonstate.edu/\n",
              "2   North Pacific Ocean  ...          http://hofmannlab.msi.ucsb.edu/\n",
              "3   North Pacific Ocean  ...             http://www.neptunecanada.ca/\n",
              "4  North Atlantic Ocean  ...                                         \n",
              "\n",
              "[5 rows x 41 columns]"
            ]
          },
          "metadata": {
            "tags": []
          },
          "execution_count": 8
        }
      ]
    },
    {
      "cell_type": "markdown",
      "metadata": {
        "id": "2Kg7R49_kVaO",
        "colab_type": "text"
      },
      "source": [
        "WFS service ของประเทศไทย"
      ]
    },
    {
      "cell_type": "markdown",
      "metadata": {
        "id": "qiODpgubA_H8",
        "colab_type": "text"
      },
      "source": [
        "1. ชั้นข้อมูลขอบเขตการปกครองอำเภอ (srs:4326, polygon)"
      ]
    },
    {
      "cell_type": "code",
      "metadata": {
        "id": "7zoyPjGX_zRA",
        "colab_type": "code",
        "colab": {}
      },
      "source": [
        "wfs_energy_url = 'http://mapservices.energy.go.th:80/geoserver/ows?'\n",
        "params = dict(service='WFS', version='1.0.0', request='GetFeature',\n",
        "              typeName='EnergyGIS:Amphoe', outputFormat='json')\n",
        "\n",
        "r = requests.get(wfs_energy_url, params=params)\n",
        "wfs_energy_amphoe = geojson.loads(r.content)\n",
        "\n",
        "\n"
      ],
      "execution_count": 0,
      "outputs": []
    },
    {
      "cell_type": "code",
      "metadata": {
        "id": "v_76mEPXE_t6",
        "colab_type": "code",
        "outputId": "f1a69fe8-ac8e-4e8a-8549-8e6565d23113",
        "colab": {
          "base_uri": "https://localhost:8080/",
          "height": 67
        }
      },
      "source": [
        "print(type(wfs_energy_amphoe))\n",
        "print(wfs_energy_amphoe.keys())\n",
        "print(len(wfs_energy_amphoe.__geo_interface__['features']))"
      ],
      "execution_count": 0,
      "outputs": [
        {
          "output_type": "stream",
          "text": [
            "<class 'geojson.feature.FeatureCollection'>\n",
            "dict_keys(['type', 'totalFeatures', 'crs', 'features'])\n",
            "926\n"
          ],
          "name": "stdout"
        }
      ]
    },
    {
      "cell_type": "code",
      "metadata": {
        "id": "Wh-aRBBIkh79",
        "colab_type": "code",
        "outputId": "2296f200-b5ab-4777-c4b5-e773b771cea6",
        "colab": {
          "base_uri": "https://localhost:8080/",
          "height": 286
        }
      },
      "source": [
        "# covert geojson to geopandas dataframe\n",
        "wfs_gdf_amphoe = gpd.GeoDataFrame.from_features(wfs_energy_amphoe, crs={'init': 'epsg:4326'})\n",
        "wfs_gdf_amphoe.plot()"
      ],
      "execution_count": 0,
      "outputs": [
        {
          "output_type": "execute_result",
          "data": {
            "text/plain": [
              "<matplotlib.axes._subplots.AxesSubplot at 0x7fde39fbdf98>"
            ]
          },
          "metadata": {
            "tags": []
          },
          "execution_count": 11
        },
        {
          "output_type": "display_data",
          "data": {
            "image/png": "[encoded data removed]",
            "text/plain": [
              "<Figure size 432x288 with 1 Axes>"
            ]
          },
          "metadata": {
            "tags": []
          }
        }
      ]
    },
    {
      "cell_type": "code",
      "metadata": {
        "id": "y1hC0UafBd-n",
        "colab_type": "code",
        "outputId": "338d93dd-8e59-4897-9c04-9b4dfaaf3fe2",
        "colab": {
          "base_uri": "https://localhost:8080/",
          "height": 2367
        }
      },
      "source": [
        "# check atrribute data\n",
        "wfs_gdf_amphoe.tail(50)"
      ],
      "execution_count": 0,
      "outputs": [
        {
          "output_type": "execute_result",
          "data": {
            "text/html": [
              "<div>\n",
              "<style scoped>\n",
              "    .dataframe tbody tr th:only-of-type {\n",
              "        vertical-align: middle;\n",
              "    }\n",
              "\n",
              "    .dataframe tbody tr th {\n",
              "        vertical-align: top;\n",
              "    }\n",
              "\n",
              "    .dataframe thead th {\n",
              "        text-align: right;\n",
              "    }\n",
              "</style>\n",
              "<table border=\"1\" class=\"dataframe\">\n",
              "  <thead>\n",
              "    <tr style=\"text-align: right;\">\n",
              "      <th></th>\n",
              "      <th>AmphoeEN</th>\n",
              "      <th>AmphoeTH</th>\n",
              "      <th>Area</th>\n",
              "      <th>ProvinceEng</th>\n",
              "      <th>ProvinceTh</th>\n",
              "      <th>geometry</th>\n",
              "    </tr>\n",
              "  </thead>\n",
              "  <tbody>\n",
              "    <tr>\n",
              "      <th>876</th>\n",
              "      <td>KHLONG HOI KHONG</td>\n",
              "      <td>คลองหอยโข่ง</td>\n",
              "      <td>3.166191e+08</td>\n",
              "      <td>SONGKHLA</td>\n",
              "      <td>สงขลา</td>\n",
              "      <td>POLYGON ((100.43953612 6.93067779, 100.4408587...</td>\n",
              "    </tr>\n",
              "    <tr>\n",
              "      <th>877</th>\n",
              "      <td>MUEANG SATUN</td>\n",
              "      <td>เมืองสตูล</td>\n",
              "      <td>8.286667e+08</td>\n",
              "      <td>SATUN</td>\n",
              "      <td>สตูล</td>\n",
              "      <td>(POLYGON ((100.04172157 6.80577445, 100.042159...</td>\n",
              "    </tr>\n",
              "    <tr>\n",
              "      <th>878</th>\n",
              "      <td>KHUAN DON</td>\n",
              "      <td>ควนโดน</td>\n",
              "      <td>1.965933e+08</td>\n",
              "      <td>SATUN</td>\n",
              "      <td>สตูล</td>\n",
              "      <td>POLYGON ((100.07904917 6.82736452, 100.0843552...</td>\n",
              "    </tr>\n",
              "    <tr>\n",
              "      <th>879</th>\n",
              "      <td>BANG KHONTHI</td>\n",
              "      <td>บางคนที</td>\n",
              "      <td>6.304603e+07</td>\n",
              "      <td>SAMUT SONGKHRAM</td>\n",
              "      <td>สมุทรสงคราม</td>\n",
              "      <td>POLYGON ((99.931676 13.50427077, 99.93193642 1...</td>\n",
              "    </tr>\n",
              "    <tr>\n",
              "      <th>880</th>\n",
              "      <td>CHA-AM</td>\n",
              "      <td>ชะอำ</td>\n",
              "      <td>5.414922e+08</td>\n",
              "      <td>PHETCHABURI</td>\n",
              "      <td>เพชรบุรี</td>\n",
              "      <td>POLYGON ((100.00079246 12.92390252, 100.002342...</td>\n",
              "    </tr>\n",
              "    <tr>\n",
              "      <th>881</th>\n",
              "      <td>THA YANG</td>\n",
              "      <td>ท่ายาง</td>\n",
              "      <td>7.913742e+08</td>\n",
              "      <td>PHETCHABURI</td>\n",
              "      <td>เพชรบุรี</td>\n",
              "      <td>POLYGON ((99.89892365 13.01482072, 99.90038264...</td>\n",
              "    </tr>\n",
              "    <tr>\n",
              "      <th>882</th>\n",
              "      <td>BAN LAT</td>\n",
              "      <td>บ้านลาด</td>\n",
              "      <td>3.140304e+08</td>\n",
              "      <td>PHETCHABURI</td>\n",
              "      <td>เพชรบุรี</td>\n",
              "      <td>POLYGON ((99.81112641 13.13126554, 99.8127205 ...</td>\n",
              "    </tr>\n",
              "    <tr>\n",
              "      <th>883</th>\n",
              "      <td>BAN LAEM</td>\n",
              "      <td>บ้านแหลม</td>\n",
              "      <td>2.200955e+08</td>\n",
              "      <td>PHETCHABURI</td>\n",
              "      <td>เพชรบุรี</td>\n",
              "      <td>POLYGON ((99.95266359999999 13.29663182, 99.95...</td>\n",
              "    </tr>\n",
              "    <tr>\n",
              "      <th>884</th>\n",
              "      <td>KAENG KRACHAN</td>\n",
              "      <td>แก่งกระจาน</td>\n",
              "      <td>2.545521e+09</td>\n",
              "      <td>PHETCHABURI</td>\n",
              "      <td>เพชรบุรี</td>\n",
              "      <td>POLYGON ((99.34409521000001 13.13690513, 99.34...</td>\n",
              "    </tr>\n",
              "    <tr>\n",
              "      <th>885</th>\n",
              "      <td>MUEANG PRACHUAP KHIRI KHAN</td>\n",
              "      <td>เมืองประจวบคีรีขันธ์</td>\n",
              "      <td>8.559185e+08</td>\n",
              "      <td>PRACHUAP KHIRI KHAN</td>\n",
              "      <td>ประจวบคีรีขันธ์</td>\n",
              "      <td>(POLYGON ((99.89314301 12.06253053, 99.8943247...</td>\n",
              "    </tr>\n",
              "    <tr>\n",
              "      <th>886</th>\n",
              "      <td>KUI BURI</td>\n",
              "      <td>กุยบุรี</td>\n",
              "      <td>8.077548e+08</td>\n",
              "      <td>PRACHUAP KHIRI KHAN</td>\n",
              "      <td>ประจวบคีรีขันธ์</td>\n",
              "      <td>POLYGON ((99.60511243000001 12.20126559, 99.60...</td>\n",
              "    </tr>\n",
              "    <tr>\n",
              "      <th>887</th>\n",
              "      <td>THAP SAKAE</td>\n",
              "      <td>ทับสะแก</td>\n",
              "      <td>5.344483e+08</td>\n",
              "      <td>PRACHUAP KHIRI KHAN</td>\n",
              "      <td>ประจวบคีรีขันธ์</td>\n",
              "      <td>POLYGON ((99.59124738 11.68608047, 99.59308086...</td>\n",
              "    </tr>\n",
              "    <tr>\n",
              "      <th>888</th>\n",
              "      <td>BANG SAPHAN</td>\n",
              "      <td>บางสะพาน</td>\n",
              "      <td>7.844520e+08</td>\n",
              "      <td>PRACHUAP KHIRI KHAN</td>\n",
              "      <td>ประจวบคีรีขันธ์</td>\n",
              "      <td>POLYGON ((99.42920243 11.47886275, 99.42962211...</td>\n",
              "    </tr>\n",
              "    <tr>\n",
              "      <th>889</th>\n",
              "      <td>BANG SAPHAN NOI</td>\n",
              "      <td>บางสะพานน้อย</td>\n",
              "      <td>6.719727e+08</td>\n",
              "      <td>PRACHUAP KHIRI KHAN</td>\n",
              "      <td>ประจวบคีรีขันธ์</td>\n",
              "      <td>POLYGON ((99.27472705 11.20195395, 99.27534435...</td>\n",
              "    </tr>\n",
              "    <tr>\n",
              "      <th>890</th>\n",
              "      <td>PRAN BURI</td>\n",
              "      <td>ปราณบุรี</td>\n",
              "      <td>8.166025e+08</td>\n",
              "      <td>PRACHUAP KHIRI KHAN</td>\n",
              "      <td>ประจวบคีรีขันธ์</td>\n",
              "      <td>POLYGON ((99.80449598 12.48802239, 99.80465707...</td>\n",
              "    </tr>\n",
              "    <tr>\n",
              "      <th>891</th>\n",
              "      <td>HUA HIN</td>\n",
              "      <td>หัวหิน</td>\n",
              "      <td>1.045473e+09</td>\n",
              "      <td>PRACHUAP KHIRI KHAN</td>\n",
              "      <td>ประจวบคีรีขันธ์</td>\n",
              "      <td>POLYGON ((99.72940180000001 12.64007695, 99.73...</td>\n",
              "    </tr>\n",
              "    <tr>\n",
              "      <th>892</th>\n",
              "      <td>KING AMPHOE SAM ROI YOT</td>\n",
              "      <td>กิ่งอำเภอสามร้อยยอด</td>\n",
              "      <td>9.205664e+08</td>\n",
              "      <td>PRACHUAP KHIRI KHAN</td>\n",
              "      <td>ประจวบคีรีขันธ์</td>\n",
              "      <td>(POLYGON ((99.84903293000001 12.34391847, 99.8...</td>\n",
              "    </tr>\n",
              "    <tr>\n",
              "      <th>893</th>\n",
              "      <td>MUEANG NAKHON SI THAMMARAT</td>\n",
              "      <td>เมืองนครศรีธรรมราช</td>\n",
              "      <td>5.385396e+08</td>\n",
              "      <td>NAKHON SI THAMMARAT</td>\n",
              "      <td>นครศรีธรรมราช</td>\n",
              "      <td>POLYGON ((99.94141165000001 8.59751947, 99.942...</td>\n",
              "    </tr>\n",
              "    <tr>\n",
              "      <th>894</th>\n",
              "      <td>PHROM KHIRI</td>\n",
              "      <td>พรหมคีรี</td>\n",
              "      <td>2.797225e+08</td>\n",
              "      <td>NAKHON SI THAMMARAT</td>\n",
              "      <td>นครศรีธรรมราช</td>\n",
              "      <td>POLYGON ((99.78487319 8.61904582, 99.78816034 ...</td>\n",
              "    </tr>\n",
              "    <tr>\n",
              "      <th>895</th>\n",
              "      <td>LAN SAKA</td>\n",
              "      <td>ลานสกา</td>\n",
              "      <td>3.539750e+08</td>\n",
              "      <td>NAKHON SI THAMMARAT</td>\n",
              "      <td>นครศรีธรรมราช</td>\n",
              "      <td>POLYGON ((99.72777495 8.4949376, 99.73006588 8...</td>\n",
              "    </tr>\n",
              "    <tr>\n",
              "      <th>896</th>\n",
              "      <td>CHAWANG</td>\n",
              "      <td>ฉวาง</td>\n",
              "      <td>4.581389e+08</td>\n",
              "      <td>NAKHON SI THAMMARAT</td>\n",
              "      <td>นครศรีธรรมราช</td>\n",
              "      <td>POLYGON ((99.47262816 8.64578511, 99.473905650...</td>\n",
              "    </tr>\n",
              "    <tr>\n",
              "      <th>897</th>\n",
              "      <td>CHA-UAT</td>\n",
              "      <td>ชะอวด</td>\n",
              "      <td>7.629232e+08</td>\n",
              "      <td>NAKHON SI THAMMARAT</td>\n",
              "      <td>นครศรีธรรมราช</td>\n",
              "      <td>POLYGON ((100.0407646 8.10801766, 100.04168054...</td>\n",
              "    </tr>\n",
              "    <tr>\n",
              "      <th>898</th>\n",
              "      <td>THA SALA</td>\n",
              "      <td>ท่าศาลา</td>\n",
              "      <td>4.372958e+08</td>\n",
              "      <td>NAKHON SI THAMMARAT</td>\n",
              "      <td>นครศรีธรรมราช</td>\n",
              "      <td>POLYGON ((99.9207273 8.86846875, 99.92074538 8...</td>\n",
              "    </tr>\n",
              "    <tr>\n",
              "      <th>899</th>\n",
              "      <td>THUNG SONG</td>\n",
              "      <td>ทุ่งสง</td>\n",
              "      <td>8.915392e+08</td>\n",
              "      <td>NAKHON SI THAMMARAT</td>\n",
              "      <td>นครศรีธรรมราช</td>\n",
              "      <td>POLYGON ((99.71900185 8.301664629999999, 99.72...</td>\n",
              "    </tr>\n",
              "    <tr>\n",
              "      <th>900</th>\n",
              "      <td>PHIPUN</td>\n",
              "      <td>พิปูน</td>\n",
              "      <td>4.597744e+08</td>\n",
              "      <td>NAKHON SI THAMMARAT</td>\n",
              "      <td>นครศรีธรรมราช</td>\n",
              "      <td>POLYGON ((99.5415476 8.720150569999999, 99.543...</td>\n",
              "    </tr>\n",
              "    <tr>\n",
              "      <th>901</th>\n",
              "      <td>CHIAN YAI</td>\n",
              "      <td>เชียรใหญ่</td>\n",
              "      <td>3.165109e+08</td>\n",
              "      <td>NAKHON SI THAMMARAT</td>\n",
              "      <td>นครศรีธรรมราช</td>\n",
              "      <td>POLYGON ((100.18998567 8.220753050000001, 100....</td>\n",
              "    </tr>\n",
              "    <tr>\n",
              "      <th>902</th>\n",
              "      <td>NA BON</td>\n",
              "      <td>นาบอน</td>\n",
              "      <td>2.161829e+08</td>\n",
              "      <td>NAKHON SI THAMMARAT</td>\n",
              "      <td>นครศรีธรรมราช</td>\n",
              "      <td>POLYGON ((99.51469616999999 8.352111219999999,...</td>\n",
              "    </tr>\n",
              "    <tr>\n",
              "      <th>903</th>\n",
              "      <td>THUNG YAI</td>\n",
              "      <td>ทุ่งใหญ่</td>\n",
              "      <td>6.035679e+08</td>\n",
              "      <td>NAKHON SI THAMMARAT</td>\n",
              "      <td>นครศรีธรรมราช</td>\n",
              "      <td>POLYGON ((99.29334845 8.470701269999999, 99.29...</td>\n",
              "    </tr>\n",
              "    <tr>\n",
              "      <th>904</th>\n",
              "      <td>PAK PHANANG</td>\n",
              "      <td>ปากพนัง</td>\n",
              "      <td>5.534313e+08</td>\n",
              "      <td>NAKHON SI THAMMARAT</td>\n",
              "      <td>นครศรีธรรมราช</td>\n",
              "      <td>POLYGON ((100.15206088 8.51459305, 100.1533321...</td>\n",
              "    </tr>\n",
              "    <tr>\n",
              "      <th>905</th>\n",
              "      <td>RON PHIBUN</td>\n",
              "      <td>ร่อนพิบูลย์</td>\n",
              "      <td>4.126048e+08</td>\n",
              "      <td>NAKHON SI THAMMARAT</td>\n",
              "      <td>นครศรีธรรมราช</td>\n",
              "      <td>POLYGON ((99.84539083 8.321540600000001, 99.84...</td>\n",
              "    </tr>\n",
              "    <tr>\n",
              "      <th>906</th>\n",
              "      <td>SICHON</td>\n",
              "      <td>สิชล</td>\n",
              "      <td>6.807451e+08</td>\n",
              "      <td>NAKHON SI THAMMARAT</td>\n",
              "      <td>นครศรีธรรมราช</td>\n",
              "      <td>POLYGON ((99.84595129 9.11852921, 99.84728177 ...</td>\n",
              "    </tr>\n",
              "    <tr>\n",
              "      <th>907</th>\n",
              "      <td>KHANOM</td>\n",
              "      <td>ขนอม</td>\n",
              "      <td>2.988994e+08</td>\n",
              "      <td>NAKHON SI THAMMARAT</td>\n",
              "      <td>นครศรีธรรมราช</td>\n",
              "      <td>(POLYGON ((99.77471212 9.314080000000001, 99.7...</td>\n",
              "    </tr>\n",
              "    <tr>\n",
              "      <th>908</th>\n",
              "      <td>HUA SAI</td>\n",
              "      <td>หัวไทร</td>\n",
              "      <td>4.218080e+08</td>\n",
              "      <td>NAKHON SI THAMMARAT</td>\n",
              "      <td>นครศรีธรรมราช</td>\n",
              "      <td>POLYGON ((100.24826008 8.17715314, 100.2497925...</td>\n",
              "    </tr>\n",
              "    <tr>\n",
              "      <th>909</th>\n",
              "      <td>BANG KHAN</td>\n",
              "      <td>บางขัน</td>\n",
              "      <td>4.886135e+08</td>\n",
              "      <td>NAKHON SI THAMMARAT</td>\n",
              "      <td>นครศรีธรรมราช</td>\n",
              "      <td>POLYGON ((99.52131647 8.124406629999999, 99.52...</td>\n",
              "    </tr>\n",
              "    <tr>\n",
              "      <th>910</th>\n",
              "      <td>THAM PHANNARA</td>\n",
              "      <td>ถ้ำพรรณรา</td>\n",
              "      <td>1.736627e+08</td>\n",
              "      <td>NAKHON SI THAMMARAT</td>\n",
              "      <td>นครศรีธรรมราช</td>\n",
              "      <td>POLYGON ((99.41280069 8.52981091, 99.41246403 ...</td>\n",
              "    </tr>\n",
              "    <tr>\n",
              "      <th>911</th>\n",
              "      <td>CHULAPHON</td>\n",
              "      <td>จุฬาภรณ์</td>\n",
              "      <td>2.345081e+08</td>\n",
              "      <td>NAKHON SI THAMMARAT</td>\n",
              "      <td>นครศรีธรรมราช</td>\n",
              "      <td>POLYGON ((99.8282109 8.14145965, 99.8296760000...</td>\n",
              "    </tr>\n",
              "    <tr>\n",
              "      <th>912</th>\n",
              "      <td>PHRA PHROM</td>\n",
              "      <td>พระพรหม</td>\n",
              "      <td>1.489066e+08</td>\n",
              "      <td>NAKHON SI THAMMARAT</td>\n",
              "      <td>นครศรีธรรมราช</td>\n",
              "      <td>POLYGON ((99.95841106 8.37759649, 99.958650770...</td>\n",
              "    </tr>\n",
              "    <tr>\n",
              "      <th>913</th>\n",
              "      <td>KING AMPHOE NOPPHITAM</td>\n",
              "      <td>กิ่งอำเภอนบพิตำ</td>\n",
              "      <td>7.096046e+08</td>\n",
              "      <td>NAKHON SI THAMMARAT</td>\n",
              "      <td>นครศรีธรรมราช</td>\n",
              "      <td>POLYGON ((99.60950563 8.92733295, 99.60993639 ...</td>\n",
              "    </tr>\n",
              "    <tr>\n",
              "      <th>914</th>\n",
              "      <td>MUEANG KRABI</td>\n",
              "      <td>เมืองกระบี่</td>\n",
              "      <td>7.189097e+08</td>\n",
              "      <td>KRABI</td>\n",
              "      <td>กระบี่</td>\n",
              "      <td>(POLYGON ((98.91447108 8.277698150000001, 98.9...</td>\n",
              "    </tr>\n",
              "    <tr>\n",
              "      <th>915</th>\n",
              "      <td>KHAO PHANOM</td>\n",
              "      <td>เขาพนม</td>\n",
              "      <td>8.766753e+08</td>\n",
              "      <td>KRABI</td>\n",
              "      <td>กระบี่</td>\n",
              "      <td>POLYGON ((99.05425742 8.360324990000001, 99.05...</td>\n",
              "    </tr>\n",
              "    <tr>\n",
              "      <th>916</th>\n",
              "      <td>KO LANTA</td>\n",
              "      <td>เกาะลันตา</td>\n",
              "      <td>3.234907e+08</td>\n",
              "      <td>KRABI</td>\n",
              "      <td>กระบี่</td>\n",
              "      <td>(POLYGON ((99.05669303000001 7.85180746, 99.05...</td>\n",
              "    </tr>\n",
              "    <tr>\n",
              "      <th>917</th>\n",
              "      <td>KHLONG THOM</td>\n",
              "      <td>คลองท่อม</td>\n",
              "      <td>9.565163e+08</td>\n",
              "      <td>KRABI</td>\n",
              "      <td>กระบี่</td>\n",
              "      <td>(POLYGON ((99.16484962 8.06603943, 99.18176292...</td>\n",
              "    </tr>\n",
              "    <tr>\n",
              "      <th>918</th>\n",
              "      <td>AO LUEK</td>\n",
              "      <td>อ่าวลึก</td>\n",
              "      <td>6.674962e+08</td>\n",
              "      <td>KRABI</td>\n",
              "      <td>กระบี่</td>\n",
              "      <td>(POLYGON ((98.73744273 8.554548779999999, 98.7...</td>\n",
              "    </tr>\n",
              "    <tr>\n",
              "      <th>919</th>\n",
              "      <td>PLAI PHRAYA</td>\n",
              "      <td>ปลายพระยา</td>\n",
              "      <td>4.965750e+08</td>\n",
              "      <td>KRABI</td>\n",
              "      <td>กระบี่</td>\n",
              "      <td>POLYGON ((98.75402011 8.67218989, 98.75468225 ...</td>\n",
              "    </tr>\n",
              "    <tr>\n",
              "      <th>920</th>\n",
              "      <td>NUEA KHLONG</td>\n",
              "      <td>เหนือคลอง</td>\n",
              "      <td>4.693431e+08</td>\n",
              "      <td>KRABI</td>\n",
              "      <td>กระบี่</td>\n",
              "      <td>(POLYGON ((99.11952205999999 8.156068599999999...</td>\n",
              "    </tr>\n",
              "    <tr>\n",
              "      <th>921</th>\n",
              "      <td>MUEANG PHANGNGA</td>\n",
              "      <td>เมืองพังงา</td>\n",
              "      <td>5.456901e+08</td>\n",
              "      <td>PHANGNGA</td>\n",
              "      <td>พังงา</td>\n",
              "      <td>(POLYGON ((98.53261704000001 8.66185553, 98.53...</td>\n",
              "    </tr>\n",
              "    <tr>\n",
              "      <th>922</th>\n",
              "      <td>KO YAO</td>\n",
              "      <td>เกาะยาว</td>\n",
              "      <td>1.474271e+08</td>\n",
              "      <td>PHANGNGA</td>\n",
              "      <td>พังงา</td>\n",
              "      <td>(POLYGON ((98.53788417 8.10424834, 98.53837518...</td>\n",
              "    </tr>\n",
              "    <tr>\n",
              "      <th>923</th>\n",
              "      <td>KAPONG</td>\n",
              "      <td>กะปง</td>\n",
              "      <td>6.099727e+08</td>\n",
              "      <td>PHANGNGA</td>\n",
              "      <td>พังงา</td>\n",
              "      <td>POLYGON ((98.44618948 8.8954129, 98.4465976599...</td>\n",
              "    </tr>\n",
              "    <tr>\n",
              "      <th>924</th>\n",
              "      <td>TAKUA THUNG</td>\n",
              "      <td>ตะกั่วทุ่ง</td>\n",
              "      <td>4.856257e+08</td>\n",
              "      <td>PHANGNGA</td>\n",
              "      <td>พังงา</td>\n",
              "      <td>(POLYGON ((98.40741826999999 8.4627315, 98.409...</td>\n",
              "    </tr>\n",
              "    <tr>\n",
              "      <th>925</th>\n",
              "      <td>TAKUA PA</td>\n",
              "      <td>ตะกั่วป่า</td>\n",
              "      <td>5.704604e+08</td>\n",
              "      <td>PHANGNGA</td>\n",
              "      <td>พังงา</td>\n",
              "      <td>(POLYGON ((98.36845117 8.99224516, 98.36870055...</td>\n",
              "    </tr>\n",
              "  </tbody>\n",
              "</table>\n",
              "</div>"
            ],
            "text/plain": [
              "                       AmphoeEN  ...                                           geometry\n",
              "876            KHLONG HOI KHONG  ...  POLYGON ((100.43953612 6.93067779, 100.4408587...\n",
              "877                MUEANG SATUN  ...  (POLYGON ((100.04172157 6.80577445, 100.042159...\n",
              "878                   KHUAN DON  ...  POLYGON ((100.07904917 6.82736452, 100.0843552...\n",
              "879                BANG KHONTHI  ...  POLYGON ((99.931676 13.50427077, 99.93193642 1...\n",
              "880                      CHA-AM  ...  POLYGON ((100.00079246 12.92390252, 100.002342...\n",
              "881                    THA YANG  ...  POLYGON ((99.89892365 13.01482072, 99.90038264...\n",
              "882                     BAN LAT  ...  POLYGON ((99.81112641 13.13126554, 99.8127205 ...\n",
              "883                    BAN LAEM  ...  POLYGON ((99.95266359999999 13.29663182, 99.95...\n",
              "884               KAENG KRACHAN  ...  POLYGON ((99.34409521000001 13.13690513, 99.34...\n",
              "885  MUEANG PRACHUAP KHIRI KHAN  ...  (POLYGON ((99.89314301 12.06253053, 99.8943247...\n",
              "886                    KUI BURI  ...  POLYGON ((99.60511243000001 12.20126559, 99.60...\n",
              "887                  THAP SAKAE  ...  POLYGON ((99.59124738 11.68608047, 99.59308086...\n",
              "888                 BANG SAPHAN  ...  POLYGON ((99.42920243 11.47886275, 99.42962211...\n",
              "889             BANG SAPHAN NOI  ...  POLYGON ((99.27472705 11.20195395, 99.27534435...\n",
              "890                   PRAN BURI  ...  POLYGON ((99.80449598 12.48802239, 99.80465707...\n",
              "891                     HUA HIN  ...  POLYGON ((99.72940180000001 12.64007695, 99.73...\n",
              "892     KING AMPHOE SAM ROI YOT  ...  (POLYGON ((99.84903293000001 12.34391847, 99.8...\n",
              "893  MUEANG NAKHON SI THAMMARAT  ...  POLYGON ((99.94141165000001 8.59751947, 99.942...\n",
              "894                 PHROM KHIRI  ...  POLYGON ((99.78487319 8.61904582, 99.78816034 ...\n",
              "895                    LAN SAKA  ...  POLYGON ((99.72777495 8.4949376, 99.73006588 8...\n",
              "896                     CHAWANG  ...  POLYGON ((99.47262816 8.64578511, 99.473905650...\n",
              "897                     CHA-UAT  ...  POLYGON ((100.0407646 8.10801766, 100.04168054...\n",
              "898                    THA SALA  ...  POLYGON ((99.9207273 8.86846875, 99.92074538 8...\n",
              "899                  THUNG SONG  ...  POLYGON ((99.71900185 8.301664629999999, 99.72...\n",
              "900                      PHIPUN  ...  POLYGON ((99.5415476 8.720150569999999, 99.543...\n",
              "901                   CHIAN YAI  ...  POLYGON ((100.18998567 8.220753050000001, 100....\n",
              "902                      NA BON  ...  POLYGON ((99.51469616999999 8.352111219999999,...\n",
              "903                   THUNG YAI  ...  POLYGON ((99.29334845 8.470701269999999, 99.29...\n",
              "904                 PAK PHANANG  ...  POLYGON ((100.15206088 8.51459305, 100.1533321...\n",
              "905                  RON PHIBUN  ...  POLYGON ((99.84539083 8.321540600000001, 99.84...\n",
              "906                      SICHON  ...  POLYGON ((99.84595129 9.11852921, 99.84728177 ...\n",
              "907                      KHANOM  ...  (POLYGON ((99.77471212 9.314080000000001, 99.7...\n",
              "908                     HUA SAI  ...  POLYGON ((100.24826008 8.17715314, 100.2497925...\n",
              "909                   BANG KHAN  ...  POLYGON ((99.52131647 8.124406629999999, 99.52...\n",
              "910               THAM PHANNARA  ...  POLYGON ((99.41280069 8.52981091, 99.41246403 ...\n",
              "911                   CHULAPHON  ...  POLYGON ((99.8282109 8.14145965, 99.8296760000...\n",
              "912                  PHRA PHROM  ...  POLYGON ((99.95841106 8.37759649, 99.958650770...\n",
              "913       KING AMPHOE NOPPHITAM  ...  POLYGON ((99.60950563 8.92733295, 99.60993639 ...\n",
              "914                MUEANG KRABI  ...  (POLYGON ((98.91447108 8.277698150000001, 98.9...\n",
              "915                 KHAO PHANOM  ...  POLYGON ((99.05425742 8.360324990000001, 99.05...\n",
              "916                    KO LANTA  ...  (POLYGON ((99.05669303000001 7.85180746, 99.05...\n",
              "917                 KHLONG THOM  ...  (POLYGON ((99.16484962 8.06603943, 99.18176292...\n",
              "918                     AO LUEK  ...  (POLYGON ((98.73744273 8.554548779999999, 98.7...\n",
              "919                 PLAI PHRAYA  ...  POLYGON ((98.75402011 8.67218989, 98.75468225 ...\n",
              "920                 NUEA KHLONG  ...  (POLYGON ((99.11952205999999 8.156068599999999...\n",
              "921             MUEANG PHANGNGA  ...  (POLYGON ((98.53261704000001 8.66185553, 98.53...\n",
              "922                      KO YAO  ...  (POLYGON ((98.53788417 8.10424834, 98.53837518...\n",
              "923                      KAPONG  ...  POLYGON ((98.44618948 8.8954129, 98.4465976599...\n",
              "924                 TAKUA THUNG  ...  (POLYGON ((98.40741826999999 8.4627315, 98.409...\n",
              "925                    TAKUA PA  ...  (POLYGON ((98.36845117 8.99224516, 98.36870055...\n",
              "\n",
              "[50 rows x 6 columns]"
            ]
          },
          "metadata": {
            "tags": []
          },
          "execution_count": 12
        }
      ]
    },
    {
      "cell_type": "markdown",
      "metadata": {
        "id": "bexmgNBlBOYF",
        "colab_type": "text"
      },
      "source": [
        "2.ชั้นข้อมูลทางรถไฟ (srs:4326, linestring)"
      ]
    },
    {
      "cell_type": "code",
      "metadata": {
        "id": "A5UFrPQFBW0N",
        "colab_type": "code",
        "outputId": "9db0a00e-0333-4f83-970b-a5a470e71b4d",
        "colab": {
          "base_uri": "https://localhost:8080/",
          "height": 286
        }
      },
      "source": [
        "wfs_energy_url = 'http://mapservices.energy.go.th:80/geoserver/ows?'\n",
        "params2 = dict(service='WFS', version='1.0.0', request='GetFeature',\n",
        "              typeName='EnergyGIS:Railway', outputFormat='json')\n",
        "\n",
        "r = requests.get(wfs_energy_url, params=params2)\n",
        "wfs_energy_railway = geojson.loads(r.content)\n",
        "\n",
        "# covert geojson to geopandas dataframe\n",
        "wfs_gdf_railway = gpd.GeoDataFrame.from_features(wfs_energy_railway, crs={'init': 'epsg:4326'})\n",
        "wfs_gdf_railway.plot()"
      ],
      "execution_count": 0,
      "outputs": [
        {
          "output_type": "execute_result",
          "data": {
            "text/plain": [
              "<matplotlib.axes._subplots.AxesSubplot at 0x7fde39f4f6d8>"
            ]
          },
          "metadata": {
            "tags": []
          },
          "execution_count": 13
        },
        {
          "output_type": "display_data",
          "data": {
            "image/png": "[encoded data removed]",
            "text/plain": [
              "<Figure size 432x288 with 1 Axes>"
            ]
          },
          "metadata": {
            "tags": []
          }
        }
      ]
    },
    {
      "cell_type": "code",
      "metadata": {
        "id": "jrJ1xrJIB-02",
        "colab_type": "code",
        "outputId": "2ece793c-d599-40d3-ad7f-48b592aa1bb6",
        "colab": {
          "base_uri": "https://localhost:8080/",
          "height": 195
        }
      },
      "source": [
        "# check atrribute data\n",
        "wfs_gdf_railway.head(5)"
      ],
      "execution_count": 0,
      "outputs": [
        {
          "output_type": "execute_result",
          "data": {
            "text/html": [
              "<div>\n",
              "<style scoped>\n",
              "    .dataframe tbody tr th:only-of-type {\n",
              "        vertical-align: middle;\n",
              "    }\n",
              "\n",
              "    .dataframe tbody tr th {\n",
              "        vertical-align: top;\n",
              "    }\n",
              "\n",
              "    .dataframe thead th {\n",
              "        text-align: right;\n",
              "    }\n",
              "</style>\n",
              "<table border=\"1\" class=\"dataframe\">\n",
              "  <thead>\n",
              "    <tr style=\"text-align: right;\">\n",
              "      <th></th>\n",
              "      <th>NameEN</th>\n",
              "      <th>NameTH</th>\n",
              "      <th>geometry</th>\n",
              "    </tr>\n",
              "  </thead>\n",
              "  <tbody>\n",
              "    <tr>\n",
              "      <th>0</th>\n",
              "      <td>RAILWAY</td>\n",
              "      <td>ทางรถไฟ</td>\n",
              "      <td>LINESTRING (100.55314243 13.75321856, 100.5519...</td>\n",
              "    </tr>\n",
              "    <tr>\n",
              "      <th>1</th>\n",
              "      <td>RAILWAY</td>\n",
              "      <td>ทางรถไฟ</td>\n",
              "      <td>LINESTRING (100.55764086 13.75324894, 100.5576...</td>\n",
              "    </tr>\n",
              "    <tr>\n",
              "      <th>2</th>\n",
              "      <td>RAILWAY</td>\n",
              "      <td>ทางรถไฟ</td>\n",
              "      <td>LINESTRING (100.55810454 13.75318725, 100.5582...</td>\n",
              "    </tr>\n",
              "    <tr>\n",
              "      <th>3</th>\n",
              "      <td>RAILWAY</td>\n",
              "      <td>ทางรถไฟ</td>\n",
              "      <td>LINESTRING (100.54956043 13.75341962, 100.5498...</td>\n",
              "    </tr>\n",
              "    <tr>\n",
              "      <th>4</th>\n",
              "      <td>RAILWAY</td>\n",
              "      <td>ทางรถไฟ</td>\n",
              "      <td>LINESTRING (100.54990472 13.75330448, 100.5499...</td>\n",
              "    </tr>\n",
              "  </tbody>\n",
              "</table>\n",
              "</div>"
            ],
            "text/plain": [
              "    NameEN   NameTH                                           geometry\n",
              "0  RAILWAY  ทางรถไฟ  LINESTRING (100.55314243 13.75321856, 100.5519...\n",
              "1  RAILWAY  ทางรถไฟ  LINESTRING (100.55764086 13.75324894, 100.5576...\n",
              "2  RAILWAY  ทางรถไฟ  LINESTRING (100.55810454 13.75318725, 100.5582...\n",
              "3  RAILWAY  ทางรถไฟ  LINESTRING (100.54956043 13.75341962, 100.5498...\n",
              "4  RAILWAY  ทางรถไฟ  LINESTRING (100.54990472 13.75330448, 100.5499..."
            ]
          },
          "metadata": {
            "tags": []
          },
          "execution_count": 14
        }
      ]
    },
    {
      "cell_type": "markdown",
      "metadata": {
        "id": "s_zhVL0lCDdX",
        "colab_type": "text"
      },
      "source": [
        "3. ชั้นข้อมูลสถานที่ราชการ (srs:4326,point)"
      ]
    },
    {
      "cell_type": "code",
      "metadata": {
        "id": "o0yVoptCCNGa",
        "colab_type": "code",
        "outputId": "ca4169d0-aa5d-48d4-db61-9a3475a8052d",
        "colab": {
          "base_uri": "https://localhost:8080/",
          "height": 286
        }
      },
      "source": [
        "wfs_energy_url = 'http://mapservices.energy.go.th:80/geoserver/ows?'\n",
        "params3 = dict(service='WFS', version='1.0.0', request='GetFeature',\n",
        "              typeName='EnergyGIS:Layer86', outputFormat='json')\n",
        "\n",
        "r = requests.get(wfs_energy_url, params=params3)\n",
        "wfs_energy_office = geojson.loads(r.content)\n",
        "\n",
        "# covert geojson to geopandas dataframe\n",
        "wfs_gdf_office = gpd.GeoDataFrame.from_features(wfs_energy_office, crs={'init': 'epsg:4326'})\n",
        "wfs_gdf_office.plot()"
      ],
      "execution_count": 0,
      "outputs": [
        {
          "output_type": "execute_result",
          "data": {
            "text/plain": [
              "<matplotlib.axes._subplots.AxesSubplot at 0x7fde39e092e8>"
            ]
          },
          "metadata": {
            "tags": []
          },
          "execution_count": 15
        },
        {
          "output_type": "display_data",
          "data": {
            "image/png": "[encoded data removed]",
            "text/plain": [
              "<Figure size 432x288 with 1 Axes>"
            ]
          },
          "metadata": {
            "tags": []
          }
        }
      ]
    },
    {
      "cell_type": "code",
      "metadata": {
        "id": "bGmVJdtqCd4L",
        "colab_type": "code",
        "outputId": "f24a564a-c69a-4d6b-a7d5-78ec02773b9f",
        "colab": {
          "base_uri": "https://localhost:8080/",
          "height": 279
        }
      },
      "source": [
        "# check atrribute data\n",
        "wfs_gdf_office.head(5)"
      ],
      "execution_count": 0,
      "outputs": [
        {
          "output_type": "execute_result",
          "data": {
            "text/html": [
              "<div>\n",
              "<style scoped>\n",
              "    .dataframe tbody tr th:only-of-type {\n",
              "        vertical-align: middle;\n",
              "    }\n",
              "\n",
              "    .dataframe tbody tr th {\n",
              "        vertical-align: top;\n",
              "    }\n",
              "\n",
              "    .dataframe thead th {\n",
              "        text-align: right;\n",
              "    }\n",
              "</style>\n",
              "<table border=\"1\" class=\"dataframe\">\n",
              "  <thead>\n",
              "    <tr style=\"text-align: right;\">\n",
              "      <th></th>\n",
              "      <th>Description</th>\n",
              "      <th>ID</th>\n",
              "      <th>LayerID</th>\n",
              "      <th>LayerTypeID</th>\n",
              "      <th>NAME</th>\n",
              "      <th>geometry</th>\n",
              "    </tr>\n",
              "  </thead>\n",
              "  <tbody>\n",
              "    <tr>\n",
              "      <th>0</th>\n",
              "      <td>ศาลากลางจังหวัดประจวบคีรีขันธ์ ชั้น 3 ถนนสละชี...</td>\n",
              "      <td>173655</td>\n",
              "      <td>86</td>\n",
              "      <td>1</td>\n",
              "      <td>สำนักงานพลังงานจังหวัดประจวบคีรีขันธ์</td>\n",
              "      <td>POINT (99.79499817 11.81358807)</td>\n",
              "    </tr>\n",
              "    <tr>\n",
              "      <th>1</th>\n",
              "      <td>ศาลากลางจังหวัดชั้น 3 ถ.สุวรรณศร ต.ท่าเกษม อ.เ...</td>\n",
              "      <td>174114</td>\n",
              "      <td>86</td>\n",
              "      <td>1</td>\n",
              "      <td>สำนักงานพลังงานจังหวัดสระแก้ว</td>\n",
              "      <td>POINT (102.13846933 13.79672946)</td>\n",
              "    </tr>\n",
              "    <tr>\n",
              "      <th>2</th>\n",
              "      <td>275  หมู่ 2 ต.ป่าสัก อ.เมือง จ.ลำพูน</td>\n",
              "      <td>174115</td>\n",
              "      <td>86</td>\n",
              "      <td>1</td>\n",
              "      <td>สำนักงานพลังงานจังหวัดลำพูน</td>\n",
              "      <td>POINT (99.05402552 18.55100667)</td>\n",
              "    </tr>\n",
              "    <tr>\n",
              "      <th>3</th>\n",
              "      <td>ศาลากลางจังหวัดปัตตานี (หลังเก่า) ชั้น 2\\r\\nถ....</td>\n",
              "      <td>174116</td>\n",
              "      <td>86</td>\n",
              "      <td>1</td>\n",
              "      <td>สำนักงานพลังงานจังหวัดปัตตานี</td>\n",
              "      <td>POINT (101.2501158 6.86802902)</td>\n",
              "    </tr>\n",
              "    <tr>\n",
              "      <th>4</th>\n",
              "      <td>ถนนน่าน-พะเยา ต.ถืมตอง อ.เมืองน่าน จ.น่าน 55000</td>\n",
              "      <td>174117</td>\n",
              "      <td>86</td>\n",
              "      <td>1</td>\n",
              "      <td>สำนักงานพลัังานจังหวัดน่าน</td>\n",
              "      <td>POINT (100.71962045 18.79791277)</td>\n",
              "    </tr>\n",
              "  </tbody>\n",
              "</table>\n",
              "</div>"
            ],
            "text/plain": [
              "                                         Description  ...                          geometry\n",
              "0  ศาลากลางจังหวัดประจวบคีรีขันธ์ ชั้น 3 ถนนสละชี...  ...   POINT (99.79499817 11.81358807)\n",
              "1  ศาลากลางจังหวัดชั้น 3 ถ.สุวรรณศร ต.ท่าเกษม อ.เ...  ...  POINT (102.13846933 13.79672946)\n",
              "2               275  หมู่ 2 ต.ป่าสัก อ.เมือง จ.ลำพูน  ...   POINT (99.05402552 18.55100667)\n",
              "3  ศาลากลางจังหวัดปัตตานี (หลังเก่า) ชั้น 2\\r\\nถ....  ...    POINT (101.2501158 6.86802902)\n",
              "4    ถนนน่าน-พะเยา ต.ถืมตอง อ.เมืองน่าน จ.น่าน 55000  ...  POINT (100.71962045 18.79791277)\n",
              "\n",
              "[5 rows x 6 columns]"
            ]
          },
          "metadata": {
            "tags": []
          },
          "execution_count": 16
        }
      ]
    },
    {
      "cell_type": "markdown",
      "metadata": {
        "id": "KpDjzhm9pPpJ",
        "colab_type": "text"
      },
      "source": [
        "## Spatial Data Analysis\n",
        "- การประมวลผลข้อมูลเชิงพื้นที่\n",
        "- ประกอบด้วย Geoprocessing คือ การประมวลผล เพื่อสร้างข้อมูล geometry ใหม่จากข้อมูล geometry ตั้งต้น \n",
        "- และส่วนการประมวลผล ระหว่าง geometry เพื่อสร้างผลลัพธ์จากการโมเดลวิเคราะห์\n",
        "- ได้แก่ Buffer , Merge , Difference, Intersection, Union เป็นต้น\n",
        "- ศึกษาเพิ่มเติมจาก [link](http://geopandas.org/reference.html)"
      ]
    },
    {
      "cell_type": "markdown",
      "metadata": {
        "id": "Kjza_mLQw1kW",
        "colab_type": "text"
      },
      "source": [
        "![alt text](https://docs.qgis.org/2.8/en/_images/overlay_operations.png)"
      ]
    },
    {
      "cell_type": "markdown",
      "metadata": {
        "id": "BeBcizR5zQKd",
        "colab_type": "text"
      },
      "source": [
        "1. เตรียมตัวอย่าง data ประกอบด้วย Point , Line และ Polygon"
      ]
    },
    {
      "cell_type": "code",
      "metadata": {
        "id": "dTEPfvLypg-f",
        "colab_type": "code",
        "outputId": "c5b508fa-a015-4a91-9af7-9a31a0fec5b4",
        "colab": {
          "base_uri": "https://localhost:8080/",
          "height": 202
        }
      },
      "source": [
        "#check data\n",
        "wfs_gdf_amphoe.geom_type.tail(10)"
      ],
      "execution_count": 196,
      "outputs": [
        {
          "output_type": "execute_result",
          "data": {
            "text/plain": [
              "916    MultiPolygon\n",
              "917    MultiPolygon\n",
              "918    MultiPolygon\n",
              "919         Polygon\n",
              "920    MultiPolygon\n",
              "921    MultiPolygon\n",
              "922    MultiPolygon\n",
              "923         Polygon\n",
              "924    MultiPolygon\n",
              "925    MultiPolygon\n",
              "dtype: object"
            ]
          },
          "metadata": {
            "tags": []
          },
          "execution_count": 196
        }
      ]
    },
    {
      "cell_type": "code",
      "metadata": {
        "id": "27utSnVHzBGw",
        "colab_type": "code",
        "colab": {
          "base_uri": "https://localhost:8080/",
          "height": 202
        },
        "outputId": "c68b4ae6-cb13-4bd9-e492-ef5dfb2fd05a"
      },
      "source": [
        "#check data\n",
        "wfs_gdf_office.geom_type.tail(10)"
      ],
      "execution_count": 197,
      "outputs": [
        {
          "output_type": "execute_result",
          "data": {
            "text/plain": [
              "46    Point\n",
              "47    Point\n",
              "48    Point\n",
              "49    Point\n",
              "50    Point\n",
              "51    Point\n",
              "52    Point\n",
              "53    Point\n",
              "54    Point\n",
              "55    Point\n",
              "dtype: object"
            ]
          },
          "metadata": {
            "tags": []
          },
          "execution_count": 197
        }
      ]
    },
    {
      "cell_type": "code",
      "metadata": {
        "id": "iFXXr_qhzKGS",
        "colab_type": "code",
        "colab": {
          "base_uri": "https://localhost:8080/",
          "height": 202
        },
        "outputId": "fca2708d-7a81-4f3f-e789-f70241aa5d02"
      },
      "source": [
        "#check data\n",
        "wfs_gdf_railway.geom_type.tail(10)"
      ],
      "execution_count": 198,
      "outputs": [
        {
          "output_type": "execute_result",
          "data": {
            "text/plain": [
              "1143    LineString\n",
              "1144    LineString\n",
              "1145    LineString\n",
              "1146    LineString\n",
              "1147    LineString\n",
              "1148    LineString\n",
              "1149    LineString\n",
              "1150    LineString\n",
              "1151    LineString\n",
              "1152    LineString\n",
              "dtype: object"
            ]
          },
          "metadata": {
            "tags": []
          },
          "execution_count": 198
        }
      ]
    },
    {
      "cell_type": "markdown",
      "metadata": {
        "id": "8cT3SLrezXu3",
        "colab_type": "text"
      },
      "source": [
        "2. intersection\n",
        "- การหาส่วนซ้อนทับของ geometry จากสองชั้นข้อมูล"
      ]
    },
    {
      "cell_type": "code",
      "metadata": {
        "id": "AWNLCDhuzsCu",
        "colab_type": "code",
        "colab": {
          "base_uri": "https://localhost:8080/",
          "height": 302
        },
        "outputId": "a1e9f9d3-8cec-4c4e-af90-2ebad4030db9"
      },
      "source": [
        "amphoe_se = wfs_gdf_amphoe[(wfs_gdf_amphoe['ProvinceTh'] == 'นครศรีธรรมราช')]\n",
        "inter =amphoe_se['geometry'].intersection(wfs_gdf_railway['geometry'].unary_union)\n",
        "r_length=inter.to_crs({'init': 'epsg:32647'}).length\n",
        "print('ระยะทางรถไฟที่ผ่าน:',sum(r_length)/1000)\n",
        "inter.plot()"
      ],
      "execution_count": 218,
      "outputs": [
        {
          "output_type": "stream",
          "text": [
            "ระยะทางรถไฟที่ผ่าน: 173.8062743014939\n"
          ],
          "name": "stdout"
        },
        {
          "output_type": "execute_result",
          "data": {
            "text/plain": [
              "<matplotlib.axes._subplots.AxesSubplot at 0x7fde29dac7f0>"
            ]
          },
          "metadata": {
            "tags": []
          },
          "execution_count": 218
        },
        {
          "output_type": "display_data",
          "data": {
            "image/png": "[encoded data removed]",
            "text/plain": [
              "<Figure size 432x288 with 1 Axes>"
            ]
          },
          "metadata": {
            "tags": []
          }
        }
      ]
    },
    {
      "cell_type": "markdown",
      "metadata": {
        "id": "yIAL7AdB5fio",
        "colab_type": "text"
      },
      "source": [
        "3. Buffer\n",
        "- การสร้าง polygon แสดงขอบเขต จากการกำหนดระยะห่างออกจาก geometry object"
      ]
    },
    {
      "cell_type": "code",
      "metadata": {
        "id": "luPhrsrB7hjm",
        "colab_type": "code",
        "colab": {
          "base_uri": "https://localhost:8080/",
          "height": 286
        },
        "outputId": "f5e7c807-3994-4d12-bb56-3ba946dabdb0"
      },
      "source": [
        "#แปลงพิกัด จาก lat lon  ไป UTM\n",
        "railway_utm = wfs_gdf_railway.to_crs({'init': 'epsg:32647'})\n",
        "# สร้าง buffer ระยะห่างจากทางรถไฟ 5 km\n",
        "railway_10km = railway_utm.buffer(10000)\n",
        "railway_10km.plot()"
      ],
      "execution_count": 260,
      "outputs": [
        {
          "output_type": "execute_result",
          "data": {
            "text/plain": [
              "<matplotlib.axes._subplots.AxesSubplot at 0x7fde28e5c9e8>"
            ]
          },
          "metadata": {
            "tags": []
          },
          "execution_count": 260
        },
        {
          "output_type": "display_data",
          "data": {
            "image/png": "[encoded data removed]",
            "text/plain": [
              "<Figure size 432x288 with 1 Axes>"
            ]
          },
          "metadata": {
            "tags": []
          }
        }
      ]
    },
    {
      "cell_type": "code",
      "metadata": {
        "id": "rCkd1yVK8b8k",
        "colab_type": "code",
        "colab": {
          "base_uri": "https://localhost:8080/",
          "height": 250
        },
        "outputId": "3045db6a-f5e8-4521-be62-ed15433f9349"
      },
      "source": [
        "energy_office_utm=wfs_gdf_office.to_crs({'init': 'epsg:32647'})\n",
        "# นำ output จาก buffer มาใช้ทำ spatial query\n",
        "result = energy_office_utm[(energy_office_utm.within(railway_10km.geometry)) ]\n",
        "                          \n",
        "\n",
        "result"
      ],
      "execution_count": 261,
      "outputs": [
        {
          "output_type": "execute_result",
          "data": {
            "text/html": [
              "<div>\n",
              "<style scoped>\n",
              "    .dataframe tbody tr th:only-of-type {\n",
              "        vertical-align: middle;\n",
              "    }\n",
              "\n",
              "    .dataframe tbody tr th {\n",
              "        vertical-align: top;\n",
              "    }\n",
              "\n",
              "    .dataframe thead th {\n",
              "        text-align: right;\n",
              "    }\n",
              "</style>\n",
              "<table border=\"1\" class=\"dataframe\">\n",
              "  <thead>\n",
              "    <tr style=\"text-align: right;\">\n",
              "      <th></th>\n",
              "      <th>Description</th>\n",
              "      <th>ID</th>\n",
              "      <th>LayerID</th>\n",
              "      <th>LayerTypeID</th>\n",
              "      <th>NAME</th>\n",
              "      <th>geometry</th>\n",
              "    </tr>\n",
              "  </thead>\n",
              "  <tbody>\n",
              "    <tr>\n",
              "      <th>5</th>\n",
              "      <td>กระทรวงพลังงาน</td>\n",
              "      <td>174118</td>\n",
              "      <td>86</td>\n",
              "      <td>1</td>\n",
              "      <td>กองศึกษาและพัฒนาโรงไฟฟ้าฐาน</td>\n",
              "      <td>POINT (668295.1734513816 1528314.776620189)</td>\n",
              "    </tr>\n",
              "    <tr>\n",
              "      <th>25</th>\n",
              "      <td>555/2 ชั้น 22 อาคาร B ถนนวิภาวดีรังสิต เขตจตุจ...</td>\n",
              "      <td>174148</td>\n",
              "      <td>86</td>\n",
              "      <td>1</td>\n",
              "      <td>ตสน. * กพร.</td>\n",
              "      <td>(POINT (668242.9339237484 1528367.515482139), ...</td>\n",
              "    </tr>\n",
              "    <tr>\n",
              "      <th>30</th>\n",
              "      <td>สนับสนุนการตรวจราชการ</td>\n",
              "      <td>174154</td>\n",
              "      <td>86</td>\n",
              "      <td>1</td>\n",
              "      <td>กองตรวจและประเมินผล</td>\n",
              "      <td>POINT (668271.9489978787 1528318.659569896)</td>\n",
              "    </tr>\n",
              "    <tr>\n",
              "      <th>31</th>\n",
              "      <td>ชั้น 22 อาคารบี</td>\n",
              "      <td>174156</td>\n",
              "      <td>86</td>\n",
              "      <td>1</td>\n",
              "      <td>กพร.สป.พน.</td>\n",
              "      <td>POINT (668299.6390682453 1528394.623983962)</td>\n",
              "    </tr>\n",
              "  </tbody>\n",
              "</table>\n",
              "</div>"
            ],
            "text/plain": [
              "                                          Description  ...                                           geometry\n",
              "5                                      กระทรวงพลังงาน  ...        POINT (668295.1734513816 1528314.776620189)\n",
              "25  555/2 ชั้น 22 อาคาร B ถนนวิภาวดีรังสิต เขตจตุจ...  ...  (POINT (668242.9339237484 1528367.515482139), ...\n",
              "30                              สนับสนุนการตรวจราชการ  ...        POINT (668271.9489978787 1528318.659569896)\n",
              "31                                   ชั้น 22 อาคารบี   ...        POINT (668299.6390682453 1528394.623983962)\n",
              "\n",
              "[4 rows x 6 columns]"
            ]
          },
          "metadata": {
            "tags": []
          },
          "execution_count": 261
        }
      ]
    },
    {
      "cell_type": "code",
      "metadata": {
        "id": "8fRq1UoX_sYt",
        "colab_type": "code",
        "colab": {
          "base_uri": "https://localhost:8080/",
          "height": 390
        },
        "outputId": "7caf8882-8c7c-436f-dfe9-57107151eb08"
      },
      "source": [
        "\n",
        "f, ax = plt.subplots(1, figsize=(12, 6))\n",
        "ax.set_title('Energy office near railway')\n",
        "\n",
        "railway_10km.plot(ax=ax, facecolor='lightgray')\n",
        "railway_utm.plot(ax=ax)\n",
        "\n",
        "result.plot(ax=ax,marker='o', color='red', markersize=15)\n",
        "\n",
        "res_bounds = result.geometry.bounds\n",
        "\n",
        "plt.xlim([res_bounds.minx.min()-70000, res_bounds.maxx.max()+70000])\n",
        "plt.ylim([res_bounds.miny.min()-70000, res_bounds.maxy.max()+70000]);\n",
        "\n"
      ],
      "execution_count": 262,
      "outputs": [
        {
          "output_type": "display_data",
          "data": {
            "image/png": "[encoded data removed]",
            "text/plain": [
              "<Figure size 864x432 with 1 Axes>"
            ]
          },
          "metadata": {
            "tags": []
          }
        }
      ]
    },
    {
      "cell_type": "markdown",
      "metadata": {
        "id": "UIDLlVsMC_fI",
        "colab_type": "text"
      },
      "source": [
        "4. distance\n",
        "- คำนวณระยะห่างในแนวระนาบ ระหว่าง geometry object"
      ]
    },
    {
      "cell_type": "code",
      "metadata": {
        "id": "rfItesEI5rXJ",
        "colab_type": "code",
        "colab": {
          "base_uri": "https://localhost:8080/",
          "height": 286
        },
        "outputId": "7d7649a7-b41f-4c2c-b1ad-47e4077d3b48"
      },
      "source": [
        "target  = Point(500000,2000000)\n",
        "\n",
        "amphoe_station = wfs_gdf_amphoe[(wfs_gdf_amphoe['ProvinceTh'] == 'ลำพูน')].to_crs({'init': 'epsg:32647'}).centroid\n",
        "amphoe_station.plot()"
      ],
      "execution_count": 273,
      "outputs": [
        {
          "output_type": "execute_result",
          "data": {
            "text/plain": [
              "<matplotlib.axes._subplots.AxesSubplot at 0x7fde2987b978>"
            ]
          },
          "metadata": {
            "tags": []
          },
          "execution_count": 273
        },
        {
          "output_type": "display_data",
          "data": {
            "image/png": "[encoded data removed]",
            "text/plain": [
              "<Figure size 432x288 with 1 Axes>"
            ]
          },
          "metadata": {
            "tags": []
          }
        }
      ]
    },
    {
      "cell_type": "code",
      "metadata": {
        "id": "IP8BXXReCLQl",
        "colab_type": "code",
        "colab": {
          "base_uri": "https://localhost:8080/",
          "height": 168
        },
        "outputId": "6a5e996f-af19-4457-85b5-d42819b40ba9"
      },
      "source": [
        "#คำนวณระยะห่าง\n",
        "amphoe_station.distance(target)/1000"
      ],
      "execution_count": 274,
      "outputs": [
        {
          "output_type": "execute_result",
          "data": {
            "text/plain": [
              "586    51.763589\n",
              "587    34.360900\n",
              "588    26.407973\n",
              "589    35.336905\n",
              "590    13.700757\n",
              "591    38.400669\n",
              "592    64.728098\n",
              "593    44.893663\n",
              "dtype: float64"
            ]
          },
          "metadata": {
            "tags": []
          },
          "execution_count": 274
        }
      ]
    },
    {
      "cell_type": "markdown",
      "metadata": {
        "id": "Br0G3jjwCgIn",
        "colab_type": "text"
      },
      "source": [
        "## Spatial Query\n",
        "\n",
        "- กระบวนการสืบค้นข้อมูลเชิงตำแหน่ง ที่ใช้เงื่อนไขเชิงตำแหน่งในการวิเคราะห์ข้อมูลเพื่อให้ได้ผลลัพธ์ตามต้องการ \n",
        "- โดยการนำ geometry data มาร่วมในการสร้างเงื่อนไขเพื่อทำการวิเคราะห์คุณสมบัติความสัมพันธ์จากฐานข้อมูล\n",
        "- ดำเนินการบนเงื่อนไขประเภท spatial relationships \n",
        "-ได้แก่ contains(), crosses(), .intersects(),overlaps(),touches(), disjoint(), within()\n",
        "- ผลลัพธ์ของการวิเคราะห์ด้วย spatial relationships function จะส่งกลับ ค่าเป็น true / false"
      ]
    },
    {
      "cell_type": "markdown",
      "metadata": {
        "id": "s58bbTdKVpyR",
        "colab_type": "text"
      },
      "source": [
        "1. Contains\n",
        "- เงื่อนไขการวิเคราะห์ geometry ประเภท polygon ที่มีการบรรจุ ข้อมูล point"
      ]
    },
    {
      "cell_type": "code",
      "metadata": {
        "id": "xlnF5IJaFS3n",
        "colab_type": "code",
        "outputId": "81d2dd1a-9e93-42a3-cafb-ff2947a571f0",
        "colab": {
          "base_uri": "https://localhost:8080/",
          "height": 94
        }
      },
      "source": [
        "px = Point(99.05402552,18.55100667)\n",
        "\n",
        "#จังหวัดลำพูน + พื้นที่มากกว่า 100 ตร.กม + ระยะไม่เกิน\n",
        "result = wfs_gdf_amphoe[(wfs_gdf_amphoe['ProvinceTh'] == 'ลำพูน') \n",
        "                        &(wfs_gdf_amphoe['Area']>1000000)\n",
        "                        &(wfs_gdf_amphoe.geometry.contains(px))\n",
        "                       \n",
        "                       ]\n",
        "                          \n",
        "\n",
        "result.head(10)"
      ],
      "execution_count": 0,
      "outputs": [
        {
          "output_type": "execute_result",
          "data": {
            "text/html": [
              "<div>\n",
              "<style scoped>\n",
              "    .dataframe tbody tr th:only-of-type {\n",
              "        vertical-align: middle;\n",
              "    }\n",
              "\n",
              "    .dataframe tbody tr th {\n",
              "        vertical-align: top;\n",
              "    }\n",
              "\n",
              "    .dataframe thead th {\n",
              "        text-align: right;\n",
              "    }\n",
              "</style>\n",
              "<table border=\"1\" class=\"dataframe\">\n",
              "  <thead>\n",
              "    <tr style=\"text-align: right;\">\n",
              "      <th></th>\n",
              "      <th>AmphoeEN</th>\n",
              "      <th>AmphoeTH</th>\n",
              "      <th>Area</th>\n",
              "      <th>ProvinceEng</th>\n",
              "      <th>ProvinceTh</th>\n",
              "      <th>geometry</th>\n",
              "    </tr>\n",
              "  </thead>\n",
              "  <tbody>\n",
              "    <tr>\n",
              "      <th>586</th>\n",
              "      <td>MUEANG LAMPHUN</td>\n",
              "      <td>เมืองลำพูน</td>\n",
              "      <td>5.017109e+08</td>\n",
              "      <td>LAMPHUN</td>\n",
              "      <td>ลำพูน</td>\n",
              "      <td>POLYGON ((99.02424535 18.6719699, 99.027557130...</td>\n",
              "    </tr>\n",
              "  </tbody>\n",
              "</table>\n",
              "</div>"
            ],
            "text/plain": [
              "           AmphoeEN  ...                                           geometry\n",
              "586  MUEANG LAMPHUN  ...  POLYGON ((99.02424535 18.6719699, 99.027557130...\n",
              "\n",
              "[1 rows x 6 columns]"
            ]
          },
          "metadata": {
            "tags": []
          },
          "execution_count": 17
        }
      ]
    },
    {
      "cell_type": "markdown",
      "metadata": {
        "id": "2Wr8y9IvVupM",
        "colab_type": "text"
      },
      "source": [
        "2. intersect\n",
        "- เงื่อนไขการหาความสัมพันธ์ของ สองชุดข้อมูล geometry ที่มีการซ้อนทับกัน"
      ]
    },
    {
      "cell_type": "code",
      "metadata": {
        "id": "PZ2OFjseV-sY",
        "colab_type": "code",
        "outputId": "fcee8520-b1a0-48f0-883d-d42b80ab3c58",
        "colab": {
          "base_uri": "https://localhost:8080/",
          "height": 531
        }
      },
      "source": [
        "amphoe_x = wfs_gdf_amphoe[(wfs_gdf_amphoe['ProvinceTh'] == 'นครศรีธรรมราช')]\n",
        "amphoe_x['bbox'] = wfs_gdf_amphoe.envelope\n",
        "amphoe_x.head(5)\n",
        "                          "
      ],
      "execution_count": 0,
      "outputs": [
        {
          "output_type": "stream",
          "text": [
            "/usr/local/lib/python3.6/dist-packages/ipykernel_launcher.py:2: SettingWithCopyWarning: \n",
            "A value is trying to be set on a copy of a slice from a DataFrame.\n",
            "Try using .loc[row_indexer,col_indexer] = value instead\n",
            "\n",
            "See the caveats in the documentation: http://pandas.pydata.org/pandas-docs/stable/indexing.html#indexing-view-versus-copy\n",
            "  \n"
          ],
          "name": "stderr"
        },
        {
          "output_type": "execute_result",
          "data": {
            "text/html": [
              "<div>\n",
              "<style scoped>\n",
              "    .dataframe tbody tr th:only-of-type {\n",
              "        vertical-align: middle;\n",
              "    }\n",
              "\n",
              "    .dataframe tbody tr th {\n",
              "        vertical-align: top;\n",
              "    }\n",
              "\n",
              "    .dataframe thead th {\n",
              "        text-align: right;\n",
              "    }\n",
              "</style>\n",
              "<table border=\"1\" class=\"dataframe\">\n",
              "  <thead>\n",
              "    <tr style=\"text-align: right;\">\n",
              "      <th></th>\n",
              "      <th>AmphoeEN</th>\n",
              "      <th>AmphoeTH</th>\n",
              "      <th>Area</th>\n",
              "      <th>ProvinceEng</th>\n",
              "      <th>ProvinceTh</th>\n",
              "      <th>geometry</th>\n",
              "      <th>bbox</th>\n",
              "    </tr>\n",
              "  </thead>\n",
              "  <tbody>\n",
              "    <tr>\n",
              "      <th>820</th>\n",
              "      <td>KING AMPHOE CHANG KLANG</td>\n",
              "      <td>กิ่งอำเภอช้างกลาง</td>\n",
              "      <td>2.342035e+08</td>\n",
              "      <td>NAKHON SI THAMMARAT</td>\n",
              "      <td>นครศรีธรรมราช</td>\n",
              "      <td>POLYGON ((99.69722609 8.436230200000001, 99.69...</td>\n",
              "      <td>POLYGON ((99.51765759 8.288851940000001, 99.71...</td>\n",
              "    </tr>\n",
              "    <tr>\n",
              "      <th>821</th>\n",
              "      <td>CHALOEM PHRAKIAT</td>\n",
              "      <td>เฉลิมพระเกียรติ</td>\n",
              "      <td>1.866243e+08</td>\n",
              "      <td>NAKHON SI THAMMARAT</td>\n",
              "      <td>นครศรีธรรมราช</td>\n",
              "      <td>POLYGON ((99.94761043 8.26374539, 99.94950303 ...</td>\n",
              "      <td>POLYGON ((99.93740353 8.05311925, 100.122418 8...</td>\n",
              "    </tr>\n",
              "    <tr>\n",
              "      <th>893</th>\n",
              "      <td>MUEANG NAKHON SI THAMMARAT</td>\n",
              "      <td>เมืองนครศรีธรรมราช</td>\n",
              "      <td>5.385396e+08</td>\n",
              "      <td>NAKHON SI THAMMARAT</td>\n",
              "      <td>นครศรีธรรมราช</td>\n",
              "      <td>POLYGON ((99.94141165000001 8.59751947, 99.942...</td>\n",
              "      <td>POLYGON ((99.79769985999999 8.249543579999999,...</td>\n",
              "    </tr>\n",
              "    <tr>\n",
              "      <th>894</th>\n",
              "      <td>PHROM KHIRI</td>\n",
              "      <td>พรหมคีรี</td>\n",
              "      <td>2.797225e+08</td>\n",
              "      <td>NAKHON SI THAMMARAT</td>\n",
              "      <td>นครศรีธรรมราช</td>\n",
              "      <td>POLYGON ((99.78487319 8.61904582, 99.78816034 ...</td>\n",
              "      <td>POLYGON ((99.68224905 8.46848977, 99.94435219 ...</td>\n",
              "    </tr>\n",
              "    <tr>\n",
              "      <th>895</th>\n",
              "      <td>LAN SAKA</td>\n",
              "      <td>ลานสกา</td>\n",
              "      <td>3.539750e+08</td>\n",
              "      <td>NAKHON SI THAMMARAT</td>\n",
              "      <td>นครศรีธรรมราช</td>\n",
              "      <td>POLYGON ((99.72777495 8.4949376, 99.73006588 8...</td>\n",
              "      <td>POLYGON ((99.69638913 8.26049242, 99.89833253 ...</td>\n",
              "    </tr>\n",
              "  </tbody>\n",
              "</table>\n",
              "</div>"
            ],
            "text/plain": [
              "                       AmphoeEN  ...                                               bbox\n",
              "820     KING AMPHOE CHANG KLANG  ...  POLYGON ((99.51765759 8.288851940000001, 99.71...\n",
              "821            CHALOEM PHRAKIAT  ...  POLYGON ((99.93740353 8.05311925, 100.122418 8...\n",
              "893  MUEANG NAKHON SI THAMMARAT  ...  POLYGON ((99.79769985999999 8.249543579999999,...\n",
              "894                 PHROM KHIRI  ...  POLYGON ((99.68224905 8.46848977, 99.94435219 ...\n",
              "895                    LAN SAKA  ...  POLYGON ((99.69638913 8.26049242, 99.89833253 ...\n",
              "\n",
              "[5 rows x 7 columns]"
            ]
          },
          "metadata": {
            "tags": []
          },
          "execution_count": 18
        }
      ]
    },
    {
      "cell_type": "code",
      "metadata": {
        "id": "FE_x0ioKXOI3",
        "colab_type": "code",
        "outputId": "88bafd1f-2a60-4267-83e9-d8e31ff59eba",
        "colab": {
          "base_uri": "https://localhost:8080/",
          "height": 504
        }
      },
      "source": [
        "amphoe_x.plot(cmap='Set2', figsize=(8, 8), alpha=0.7, edgecolor='black')"
      ],
      "execution_count": 0,
      "outputs": [
        {
          "output_type": "execute_result",
          "data": {
            "text/plain": [
              "<matplotlib.axes._subplots.AxesSubplot at 0x7fde39ddaa58>"
            ]
          },
          "metadata": {
            "tags": []
          },
          "execution_count": 19
        },
        {
          "output_type": "display_data",
          "data": {
            "image/png": "[encoded data removed]",
            "text/plain": [
              "<Figure size 576x576 with 1 Axes>"
            ]
          },
          "metadata": {
            "tags": []
          }
        }
      ]
    },
    {
      "cell_type": "code",
      "metadata": {
        "id": "b_HXJQ2uWcSv",
        "colab_type": "code",
        "outputId": "49004824-39ad-4193-d6ff-a6ab273a03f7",
        "colab": {
          "base_uri": "https://localhost:8080/",
          "height": 504
        }
      },
      "source": [
        "amphoe_x.envelope.plot(cmap='Set2', figsize=(8, 8), alpha=0.7, edgecolor='black')"
      ],
      "execution_count": 0,
      "outputs": [
        {
          "output_type": "execute_result",
          "data": {
            "text/plain": [
              "<matplotlib.axes._subplots.AxesSubplot at 0x7fde39d92c18>"
            ]
          },
          "metadata": {
            "tags": []
          },
          "execution_count": 20
        },
        {
          "output_type": "display_data",
          "data": {
            "image/png": "[encoded data removed]",
            "text/plain": [
              "<Figure size 576x576 with 1 Axes>"
            ]
          },
          "metadata": {
            "tags": []
          }
        }
      ]
    },
    {
      "cell_type": "code",
      "metadata": {
        "id": "np78ap1ZUV-i",
        "colab_type": "code",
        "outputId": "50c3890d-b1c7-42ae-9c20-81ffb6962f7a",
        "colab": {
          "base_uri": "https://localhost:8080/",
          "height": 270
        }
      },
      "source": [
        "result = amphoe_x[(amphoe_x.geometry.intersects(wfs_gdf_railway.geometry.unary_union))]\n",
        "                          \n",
        "\n",
        "result.head(3)"
      ],
      "execution_count": 0,
      "outputs": [
        {
          "output_type": "execute_result",
          "data": {
            "text/html": [
              "<div>\n",
              "<style scoped>\n",
              "    .dataframe tbody tr th:only-of-type {\n",
              "        vertical-align: middle;\n",
              "    }\n",
              "\n",
              "    .dataframe tbody tr th {\n",
              "        vertical-align: top;\n",
              "    }\n",
              "\n",
              "    .dataframe thead th {\n",
              "        text-align: right;\n",
              "    }\n",
              "</style>\n",
              "<table border=\"1\" class=\"dataframe\">\n",
              "  <thead>\n",
              "    <tr style=\"text-align: right;\">\n",
              "      <th></th>\n",
              "      <th>AmphoeEN</th>\n",
              "      <th>AmphoeTH</th>\n",
              "      <th>Area</th>\n",
              "      <th>ProvinceEng</th>\n",
              "      <th>ProvinceTh</th>\n",
              "      <th>geometry</th>\n",
              "      <th>bbox</th>\n",
              "    </tr>\n",
              "  </thead>\n",
              "  <tbody>\n",
              "    <tr>\n",
              "      <th>820</th>\n",
              "      <td>KING AMPHOE CHANG KLANG</td>\n",
              "      <td>กิ่งอำเภอช้างกลาง</td>\n",
              "      <td>2.342035e+08</td>\n",
              "      <td>NAKHON SI THAMMARAT</td>\n",
              "      <td>นครศรีธรรมราช</td>\n",
              "      <td>POLYGON ((99.69722609 8.436230200000001, 99.69...</td>\n",
              "      <td>POLYGON ((99.51765759 8.288851940000001, 99.71...</td>\n",
              "    </tr>\n",
              "    <tr>\n",
              "      <th>821</th>\n",
              "      <td>CHALOEM PHRAKIAT</td>\n",
              "      <td>เฉลิมพระเกียรติ</td>\n",
              "      <td>1.866243e+08</td>\n",
              "      <td>NAKHON SI THAMMARAT</td>\n",
              "      <td>นครศรีธรรมราช</td>\n",
              "      <td>POLYGON ((99.94761043 8.26374539, 99.94950303 ...</td>\n",
              "      <td>POLYGON ((99.93740353 8.05311925, 100.122418 8...</td>\n",
              "    </tr>\n",
              "    <tr>\n",
              "      <th>893</th>\n",
              "      <td>MUEANG NAKHON SI THAMMARAT</td>\n",
              "      <td>เมืองนครศรีธรรมราช</td>\n",
              "      <td>5.385396e+08</td>\n",
              "      <td>NAKHON SI THAMMARAT</td>\n",
              "      <td>นครศรีธรรมราช</td>\n",
              "      <td>POLYGON ((99.94141165000001 8.59751947, 99.942...</td>\n",
              "      <td>POLYGON ((99.79769985999999 8.249543579999999,...</td>\n",
              "    </tr>\n",
              "  </tbody>\n",
              "</table>\n",
              "</div>"
            ],
            "text/plain": [
              "                       AmphoeEN  ...                                               bbox\n",
              "820     KING AMPHOE CHANG KLANG  ...  POLYGON ((99.51765759 8.288851940000001, 99.71...\n",
              "821            CHALOEM PHRAKIAT  ...  POLYGON ((99.93740353 8.05311925, 100.122418 8...\n",
              "893  MUEANG NAKHON SI THAMMARAT  ...  POLYGON ((99.79769985999999 8.249543579999999,...\n",
              "\n",
              "[3 rows x 7 columns]"
            ]
          },
          "metadata": {
            "tags": []
          },
          "execution_count": 21
        }
      ]
    },
    {
      "cell_type": "code",
      "metadata": {
        "id": "161eIM48YugL",
        "colab_type": "code",
        "outputId": "e5c7ab74-94a3-41aa-90d7-cb43d55a7737",
        "colab": {
          "base_uri": "https://localhost:8080/",
          "height": 390
        }
      },
      "source": [
        "int_railway = amphoe_x.geometry.intersection(wfs_gdf_railway.geometry.unary_union)\n",
        "\n",
        "f, ax = plt.subplots(1, figsize=(12, 6))\n",
        "ax.set_title('railway intersection')\n",
        "# Other nice categorical color maps (cmap) include 'Set2' and 'Set3'\n",
        "\n",
        "int_railway.plot(ax=ax, facecolor='lightgray', edgecolor='gray')\n",
        "amphoe_x.plot(ax=ax,cmap='Set2')\n",
        "\n",
        "plt.axis('equal');"
      ],
      "execution_count": 0,
      "outputs": [
        {
          "output_type": "display_data",
          "data": {
            "image/png": "[encoded data removed]",
            "text/plain": [
              "<Figure size 864x432 with 1 Axes>"
            ]
          },
          "metadata": {
            "tags": []
          }
        }
      ]
    },
    {
      "cell_type": "markdown",
      "metadata": {
        "id": "ybH1r_uLdf7E",
        "colab_type": "text"
      },
      "source": [
        "3. with in\n",
        "- ทดสอบการวิเคราะห์ จุดตำแหน่ง(point) อยู่ใน โพลีกอน(polygon)"
      ]
    },
    {
      "cell_type": "code",
      "metadata": {
        "id": "OpDF3si29f2g",
        "colab_type": "code",
        "outputId": "9634d64e-b6dd-410e-e680-fb271f69876c",
        "colab": {
          "base_uri": "https://localhost:8080/",
          "height": 511
        }
      },
      "source": [
        "# เลือก polygon ของ อำเภอ ใน 3 จังหวัดที่ต้องการ\n",
        "amphoe_merge = wfs_gdf_amphoe[(wfs_gdf_amphoe['ProvinceTh'] == 'สมุทรสงคราม')\n",
        "                              |(wfs_gdf_amphoe['ProvinceTh'] == 'เพชรบุรี')\n",
        "                              |(wfs_gdf_amphoe['ProvinceTh'] == 'ราชบุรี')\n",
        "                             ]\n",
        "\n",
        "amphoe_merge.head(10)"
      ],
      "execution_count": 0,
      "outputs": [
        {
          "output_type": "execute_result",
          "data": {
            "text/html": [
              "<div>\n",
              "<style scoped>\n",
              "    .dataframe tbody tr th:only-of-type {\n",
              "        vertical-align: middle;\n",
              "    }\n",
              "\n",
              "    .dataframe tbody tr th {\n",
              "        vertical-align: top;\n",
              "    }\n",
              "\n",
              "    .dataframe thead th {\n",
              "        text-align: right;\n",
              "    }\n",
              "</style>\n",
              "<table border=\"1\" class=\"dataframe\">\n",
              "  <thead>\n",
              "    <tr style=\"text-align: right;\">\n",
              "      <th></th>\n",
              "      <th>AmphoeEN</th>\n",
              "      <th>AmphoeTH</th>\n",
              "      <th>Area</th>\n",
              "      <th>ProvinceEng</th>\n",
              "      <th>ProvinceTh</th>\n",
              "      <th>geometry</th>\n",
              "    </tr>\n",
              "  </thead>\n",
              "  <tbody>\n",
              "    <tr>\n",
              "      <th>731</th>\n",
              "      <td>MUEANG SAMUT SONGKHRAM</td>\n",
              "      <td>เมืองสมุทรสงคราม</td>\n",
              "      <td>1.773488e+08</td>\n",
              "      <td>SAMUT SONGKHRAM</td>\n",
              "      <td>สมุทรสงคราม</td>\n",
              "      <td>POLYGON ((100.02580566 13.50485944, 100.026393...</td>\n",
              "    </tr>\n",
              "    <tr>\n",
              "      <th>732</th>\n",
              "      <td>AMPHAWA</td>\n",
              "      <td>อัมพวา</td>\n",
              "      <td>1.686563e+08</td>\n",
              "      <td>SAMUT SONGKHRAM</td>\n",
              "      <td>สมุทรสงคราม</td>\n",
              "      <td>POLYGON ((100.01654688 13.48087485, 100.015509...</td>\n",
              "    </tr>\n",
              "    <tr>\n",
              "      <th>733</th>\n",
              "      <td>MUEANG PHETCHABURI</td>\n",
              "      <td>เมืองเพชรบุรี</td>\n",
              "      <td>2.694200e+08</td>\n",
              "      <td>PHETCHABURI</td>\n",
              "      <td>เพชรบุรี</td>\n",
              "      <td>POLYGON ((99.93065297 13.1885813, 99.9322246 1...</td>\n",
              "    </tr>\n",
              "    <tr>\n",
              "      <th>734</th>\n",
              "      <td>KHAO YOI</td>\n",
              "      <td>เขาย้อย</td>\n",
              "      <td>3.171209e+08</td>\n",
              "      <td>PHETCHABURI</td>\n",
              "      <td>เพชรบุรี</td>\n",
              "      <td>POLYGON ((99.76307734 13.34348279, 99.76331419...</td>\n",
              "    </tr>\n",
              "    <tr>\n",
              "      <th>735</th>\n",
              "      <td>NONG YA PLONG</td>\n",
              "      <td>หนองหญ้าปล้อง</td>\n",
              "      <td>1.166502e+09</td>\n",
              "      <td>PHETCHABURI</td>\n",
              "      <td>เพชรบุรี</td>\n",
              "      <td>POLYGON ((99.6895107 13.29385658, 99.69122603 ...</td>\n",
              "    </tr>\n",
              "    <tr>\n",
              "      <th>751</th>\n",
              "      <td>MUEANG RATCHABURI</td>\n",
              "      <td>เมืองราชบุรี</td>\n",
              "      <td>4.582166e+08</td>\n",
              "      <td>RATCHABURI</td>\n",
              "      <td>ราชบุรี</td>\n",
              "      <td>POLYGON ((99.75409399 13.63450465, 99.75555598...</td>\n",
              "    </tr>\n",
              "    <tr>\n",
              "      <th>752</th>\n",
              "      <td>CHOM BUENG</td>\n",
              "      <td>จอมบึง</td>\n",
              "      <td>8.943518e+08</td>\n",
              "      <td>RATCHABURI</td>\n",
              "      <td>ราชบุรี</td>\n",
              "      <td>POLYGON ((99.47255556 13.80466627, 99.47297763...</td>\n",
              "    </tr>\n",
              "    <tr>\n",
              "      <th>753</th>\n",
              "      <td>SUAN PHUENG</td>\n",
              "      <td>สวนผึ้ง</td>\n",
              "      <td>8.680755e+08</td>\n",
              "      <td>RATCHABURI</td>\n",
              "      <td>ราชบุรี</td>\n",
              "      <td>POLYGON ((99.29641864 13.74326234, 99.2970061 ...</td>\n",
              "    </tr>\n",
              "    <tr>\n",
              "      <th>754</th>\n",
              "      <td>DAMNOEN SADUAK</td>\n",
              "      <td>ดำเนินสะดวก</td>\n",
              "      <td>2.146084e+08</td>\n",
              "      <td>RATCHABURI</td>\n",
              "      <td>ราชบุรี</td>\n",
              "      <td>POLYGON ((99.99145664 13.63998409, 99.99309804...</td>\n",
              "    </tr>\n",
              "    <tr>\n",
              "      <th>755</th>\n",
              "      <td>BAN PONG</td>\n",
              "      <td>บ้านโป่ง</td>\n",
              "      <td>3.665433e+08</td>\n",
              "      <td>RATCHABURI</td>\n",
              "      <td>ราชบุรี</td>\n",
              "      <td>POLYGON ((99.89539378000001 13.94065258, 99.89...</td>\n",
              "    </tr>\n",
              "  </tbody>\n",
              "</table>\n",
              "</div>"
            ],
            "text/plain": [
              "                   AmphoeEN  ...                                           geometry\n",
              "731  MUEANG SAMUT SONGKHRAM  ...  POLYGON ((100.02580566 13.50485944, 100.026393...\n",
              "732                 AMPHAWA  ...  POLYGON ((100.01654688 13.48087485, 100.015509...\n",
              "733      MUEANG PHETCHABURI  ...  POLYGON ((99.93065297 13.1885813, 99.9322246 1...\n",
              "734                KHAO YOI  ...  POLYGON ((99.76307734 13.34348279, 99.76331419...\n",
              "735           NONG YA PLONG  ...  POLYGON ((99.6895107 13.29385658, 99.69122603 ...\n",
              "751       MUEANG RATCHABURI  ...  POLYGON ((99.75409399 13.63450465, 99.75555598...\n",
              "752              CHOM BUENG  ...  POLYGON ((99.47255556 13.80466627, 99.47297763...\n",
              "753             SUAN PHUENG  ...  POLYGON ((99.29641864 13.74326234, 99.2970061 ...\n",
              "754          DAMNOEN SADUAK  ...  POLYGON ((99.99145664 13.63998409, 99.99309804...\n",
              "755                BAN PONG  ...  POLYGON ((99.89539378000001 13.94065258, 99.89...\n",
              "\n",
              "[10 rows x 6 columns]"
            ]
          },
          "metadata": {
            "tags": []
          },
          "execution_count": 34
        }
      ]
    },
    {
      "cell_type": "code",
      "metadata": {
        "id": "KK53mcljcRiF",
        "colab_type": "code",
        "outputId": "793537f3-89fd-4de7-a255-13def8bb37e2",
        "colab": {
          "base_uri": "https://localhost:8080/",
          "height": 233
        }
      },
      "source": [
        "#หาสำนักงานที่อยู่ในเขตจังหวัดทั้ง 3 โดย spatial relationship\n",
        "\n",
        "                \n",
        "result = wfs_gdf_office[(wfs_gdf_office.within(amphoe_merge.geometry.unary_union)) ]\n",
        "                          \n",
        "\n",
        "result"
      ],
      "execution_count": 0,
      "outputs": [
        {
          "output_type": "execute_result",
          "data": {
            "text/html": [
              "<div>\n",
              "<style scoped>\n",
              "    .dataframe tbody tr th:only-of-type {\n",
              "        vertical-align: middle;\n",
              "    }\n",
              "\n",
              "    .dataframe tbody tr th {\n",
              "        vertical-align: top;\n",
              "    }\n",
              "\n",
              "    .dataframe thead th {\n",
              "        text-align: right;\n",
              "    }\n",
              "</style>\n",
              "<table border=\"1\" class=\"dataframe\">\n",
              "  <thead>\n",
              "    <tr style=\"text-align: right;\">\n",
              "      <th></th>\n",
              "      <th>Description</th>\n",
              "      <th>ID</th>\n",
              "      <th>LayerID</th>\n",
              "      <th>LayerTypeID</th>\n",
              "      <th>NAME</th>\n",
              "      <th>geometry</th>\n",
              "    </tr>\n",
              "  </thead>\n",
              "  <tbody>\n",
              "    <tr>\n",
              "      <th>10</th>\n",
              "      <td>178 หมู่ 1 ต.หินกอง อ.เมือง จ.ราชบุรี 70000</td>\n",
              "      <td>174124</td>\n",
              "      <td>86</td>\n",
              "      <td>1</td>\n",
              "      <td>สำนักงานพลังงานจังหวัดราชบุรี</td>\n",
              "      <td>POINT (99.73034097 13.57012146)</td>\n",
              "    </tr>\n",
              "    <tr>\n",
              "      <th>37</th>\n",
              "      <td>2/100-102 หมู่ 2 ตำบลไร่ส้ม อำเภอเมือง จังหวัด...</td>\n",
              "      <td>174164</td>\n",
              "      <td>86</td>\n",
              "      <td>1</td>\n",
              "      <td>สำนักงานพลังงานจังหวัดเพชรบุรี</td>\n",
              "      <td>POINT (99.93293391 13.11190404)</td>\n",
              "    </tr>\n",
              "    <tr>\n",
              "      <th>39</th>\n",
              "      <td>อาคารสำนักงาน ศาลากลางหลังเก่า ชั้น 2</td>\n",
              "      <td>174170</td>\n",
              "      <td>86</td>\n",
              "      <td>1</td>\n",
              "      <td>สำนักงานพลังงานจ.สมุทรสงคราม</td>\n",
              "      <td>POINT (100.00166418 13.41286212)</td>\n",
              "    </tr>\n",
              "    <tr>\n",
              "      <th>44</th>\n",
              "      <td>PT</td>\n",
              "      <td>174232</td>\n",
              "      <td>86</td>\n",
              "      <td>1</td>\n",
              "      <td>สถานีบริการน้ำมัน PT</td>\n",
              "      <td>POINT (99.78556779 13.55492127)</td>\n",
              "    </tr>\n",
              "  </tbody>\n",
              "</table>\n",
              "</div>"
            ],
            "text/plain": [
              "                                          Description  ...                          geometry\n",
              "10        178 หมู่ 1 ต.หินกอง อ.เมือง จ.ราชบุรี 70000  ...   POINT (99.73034097 13.57012146)\n",
              "37  2/100-102 หมู่ 2 ตำบลไร่ส้ม อำเภอเมือง จังหวัด...  ...   POINT (99.93293391 13.11190404)\n",
              "39              อาคารสำนักงาน ศาลากลางหลังเก่า ชั้น 2  ...  POINT (100.00166418 13.41286212)\n",
              "44                                                 PT  ...   POINT (99.78556779 13.55492127)\n",
              "\n",
              "[4 rows x 6 columns]"
            ]
          },
          "metadata": {
            "tags": []
          },
          "execution_count": 32
        }
      ]
    },
    {
      "cell_type": "markdown",
      "metadata": {
        "id": "MvbGj7Gf-uoP",
        "colab_type": "text"
      },
      "source": [
        "##Thematic map\n",
        "- การสร้างแผนที่เฉพาะเรื่อง จากการกำหนดเงื่อนไข ในฐานข้อมูล GIS \n",
        "- ใช้ได้ทั้ง logical operation และ spatial operation ในการสร้างเงื่อนไข\n",
        "- จำแนกสีและรายละเอียด ตาม feature ของ geometry"
      ]
    },
    {
      "cell_type": "markdown",
      "metadata": {
        "id": "UxhW3end_oRy",
        "colab_type": "text"
      },
      "source": [
        "- ตัวอย่างที่ 1"
      ]
    },
    {
      "cell_type": "code",
      "metadata": {
        "id": "_APBZrnm_r3U",
        "colab_type": "code",
        "outputId": "7b75cb51-8bbe-4d28-9820-480b4d29dac1",
        "colab": {
          "base_uri": "https://localhost:8080/",
          "height": 478
        }
      },
      "source": [
        "# Load point data\n",
        "cities = gpd.read_file(gpd.datasets.get_path('naturalearth_cities'))\n",
        "\n",
        "# Read File form dataset\n",
        "world = gpd.read_file(gpd.datasets.get_path('naturalearth_lowres'))\n",
        "world.head(10)\n",
        "\n"
      ],
      "execution_count": 0,
      "outputs": [
        {
          "output_type": "execute_result",
          "data": {
            "text/html": [
              "<div>\n",
              "<style scoped>\n",
              "    .dataframe tbody tr th:only-of-type {\n",
              "        vertical-align: middle;\n",
              "    }\n",
              "\n",
              "    .dataframe tbody tr th {\n",
              "        vertical-align: top;\n",
              "    }\n",
              "\n",
              "    .dataframe thead th {\n",
              "        text-align: right;\n",
              "    }\n",
              "</style>\n",
              "<table border=\"1\" class=\"dataframe\">\n",
              "  <thead>\n",
              "    <tr style=\"text-align: right;\">\n",
              "      <th></th>\n",
              "      <th>pop_est</th>\n",
              "      <th>continent</th>\n",
              "      <th>name</th>\n",
              "      <th>iso_a3</th>\n",
              "      <th>gdp_md_est</th>\n",
              "      <th>geometry</th>\n",
              "    </tr>\n",
              "  </thead>\n",
              "  <tbody>\n",
              "    <tr>\n",
              "      <th>0</th>\n",
              "      <td>920938</td>\n",
              "      <td>Oceania</td>\n",
              "      <td>Fiji</td>\n",
              "      <td>FJI</td>\n",
              "      <td>8374.0</td>\n",
              "      <td>(POLYGON ((180 -16.06713266364245, 180 -16.555...</td>\n",
              "    </tr>\n",
              "    <tr>\n",
              "      <th>1</th>\n",
              "      <td>53950935</td>\n",
              "      <td>Africa</td>\n",
              "      <td>Tanzania</td>\n",
              "      <td>TZA</td>\n",
              "      <td>150600.0</td>\n",
              "      <td>POLYGON ((33.90371119710453 -0.950000000000000...</td>\n",
              "    </tr>\n",
              "    <tr>\n",
              "      <th>2</th>\n",
              "      <td>603253</td>\n",
              "      <td>Africa</td>\n",
              "      <td>W. Sahara</td>\n",
              "      <td>ESH</td>\n",
              "      <td>906.5</td>\n",
              "      <td>POLYGON ((-8.665589565454809 27.65642588959236...</td>\n",
              "    </tr>\n",
              "    <tr>\n",
              "      <th>3</th>\n",
              "      <td>35623680</td>\n",
              "      <td>North America</td>\n",
              "      <td>Canada</td>\n",
              "      <td>CAN</td>\n",
              "      <td>1674000.0</td>\n",
              "      <td>(POLYGON ((-122.84 49.00000000000011, -122.974...</td>\n",
              "    </tr>\n",
              "    <tr>\n",
              "      <th>4</th>\n",
              "      <td>326625791</td>\n",
              "      <td>North America</td>\n",
              "      <td>United States of America</td>\n",
              "      <td>USA</td>\n",
              "      <td>18560000.0</td>\n",
              "      <td>(POLYGON ((-122.84 49.00000000000011, -120 49....</td>\n",
              "    </tr>\n",
              "    <tr>\n",
              "      <th>5</th>\n",
              "      <td>18556698</td>\n",
              "      <td>Asia</td>\n",
              "      <td>Kazakhstan</td>\n",
              "      <td>KAZ</td>\n",
              "      <td>460700.0</td>\n",
              "      <td>POLYGON ((87.35997033076265 49.21498078062912,...</td>\n",
              "    </tr>\n",
              "    <tr>\n",
              "      <th>6</th>\n",
              "      <td>29748859</td>\n",
              "      <td>Asia</td>\n",
              "      <td>Uzbekistan</td>\n",
              "      <td>UZB</td>\n",
              "      <td>202300.0</td>\n",
              "      <td>POLYGON ((55.96819135928291 41.30864166926936,...</td>\n",
              "    </tr>\n",
              "    <tr>\n",
              "      <th>7</th>\n",
              "      <td>6909701</td>\n",
              "      <td>Oceania</td>\n",
              "      <td>Papua New Guinea</td>\n",
              "      <td>PNG</td>\n",
              "      <td>28020.0</td>\n",
              "      <td>(POLYGON ((141.0002104025918 -2.60015105551566...</td>\n",
              "    </tr>\n",
              "    <tr>\n",
              "      <th>8</th>\n",
              "      <td>260580739</td>\n",
              "      <td>Asia</td>\n",
              "      <td>Indonesia</td>\n",
              "      <td>IDN</td>\n",
              "      <td>3028000.0</td>\n",
              "      <td>(POLYGON ((141.0002104025918 -2.60015105551566...</td>\n",
              "    </tr>\n",
              "    <tr>\n",
              "      <th>9</th>\n",
              "      <td>44293293</td>\n",
              "      <td>South America</td>\n",
              "      <td>Argentina</td>\n",
              "      <td>ARG</td>\n",
              "      <td>879400.0</td>\n",
              "      <td>(POLYGON ((-68.63401022758323 -52.636370458874...</td>\n",
              "    </tr>\n",
              "  </tbody>\n",
              "</table>\n",
              "</div>"
            ],
            "text/plain": [
              "     pop_est  ...                                           geometry\n",
              "0     920938  ...  (POLYGON ((180 -16.06713266364245, 180 -16.555...\n",
              "1   53950935  ...  POLYGON ((33.90371119710453 -0.950000000000000...\n",
              "2     603253  ...  POLYGON ((-8.665589565454809 27.65642588959236...\n",
              "3   35623680  ...  (POLYGON ((-122.84 49.00000000000011, -122.974...\n",
              "4  326625791  ...  (POLYGON ((-122.84 49.00000000000011, -120 49....\n",
              "5   18556698  ...  POLYGON ((87.35997033076265 49.21498078062912,...\n",
              "6   29748859  ...  POLYGON ((55.96819135928291 41.30864166926936,...\n",
              "7    6909701  ...  (POLYGON ((141.0002104025918 -2.60015105551566...\n",
              "8  260580739  ...  (POLYGON ((141.0002104025918 -2.60015105551566...\n",
              "9   44293293  ...  (POLYGON ((-68.63401022758323 -52.636370458874...\n",
              "\n",
              "[10 rows x 6 columns]"
            ]
          },
          "metadata": {
            "tags": []
          },
          "execution_count": 70
        }
      ]
    },
    {
      "cell_type": "code",
      "metadata": {
        "id": "t0zt5RslAY0T",
        "colab_type": "code",
        "outputId": "fb129fe8-ffd4-44c5-c3ba-99fda5c0d922",
        "colab": {
          "base_uri": "https://localhost:8080/",
          "height": 181
        }
      },
      "source": [
        "# Plot by GDP per capta\n",
        "world = world[(world.pop_est>0) & (world.name!='Antarctica')]\n",
        "\n",
        "world['gdp_per_cap'] = world.gdp_md_est / world.pop_est\n",
        "world.plot(column='gdp_per_cap', cmap='OrRd', scheme='quantiles');"
      ],
      "execution_count": 0,
      "outputs": [
        {
          "output_type": "display_data",
          "data": {
            "image/png": "[encoded data removed]",
            "text/plain": [
              "<Figure size 432x288 with 1 Axes>"
            ]
          },
          "metadata": {
            "tags": []
          }
        }
      ]
    },
    {
      "cell_type": "code",
      "metadata": {
        "id": "Th48Ed_2JPlp",
        "colab_type": "code",
        "outputId": "6225e9f8-4aa9-48bf-ea36-a241d539509b",
        "colab": {
          "base_uri": "https://localhost:8080/",
          "height": 34
        }
      },
      "source": [
        "world['gdp_md_est'].mean()"
      ],
      "execution_count": 0,
      "outputs": [
        {
          "output_type": "execute_result",
          "data": {
            "text/plain": [
              "670681.307215909"
            ]
          },
          "metadata": {
            "tags": []
          },
          "execution_count": 72
        }
      ]
    },
    {
      "cell_type": "code",
      "metadata": {
        "id": "3fWwytcWIYN1",
        "colab_type": "code",
        "outputId": "97f7c818-a3f1-4adf-fd65-ebaaa2cffed3",
        "colab": {
          "base_uri": "https://localhost:8080/",
          "height": 562
        }
      },
      "source": [
        "mean_gdp = world['gdp_md_est'].mean()\n",
        "print('mean gdp =', mean_gdp )\n",
        "\n",
        "asia_class_gdp = world[(world.pop_est>0) & (world.continent == 'Asia')\n",
        "               & (world.gdp_md_est < mean_gdp)\n",
        "             ]\n",
        "\n",
        "print(' asia count = ', asia_class_gdp['name'].count() )\n",
        "print('min gdp_per_cap = ', asia_class_gdp['gdp_per_cap'].min() )\n",
        "\n",
        "\n",
        "#asia_class_gdp.nlargest(3, 'gdp_per_cap')\n",
        "asia_class_gdp.nsmallest(10, 'gdp_per_cap')\n"
      ],
      "execution_count": 0,
      "outputs": [
        {
          "output_type": "stream",
          "text": [
            "mean gdp = 670681.307215909\n",
            " asia count =  34\n",
            "min gdp_per_cap =  0.0015842751188800443\n"
          ],
          "name": "stdout"
        },
        {
          "output_type": "execute_result",
          "data": {
            "text/html": [
              "<div>\n",
              "<style scoped>\n",
              "    .dataframe tbody tr th:only-of-type {\n",
              "        vertical-align: middle;\n",
              "    }\n",
              "\n",
              "    .dataframe tbody tr th {\n",
              "        vertical-align: top;\n",
              "    }\n",
              "\n",
              "    .dataframe thead th {\n",
              "        text-align: right;\n",
              "    }\n",
              "</style>\n",
              "<table border=\"1\" class=\"dataframe\">\n",
              "  <thead>\n",
              "    <tr style=\"text-align: right;\">\n",
              "      <th></th>\n",
              "      <th>pop_est</th>\n",
              "      <th>continent</th>\n",
              "      <th>name</th>\n",
              "      <th>iso_a3</th>\n",
              "      <th>gdp_md_est</th>\n",
              "      <th>geometry</th>\n",
              "      <th>gdp_per_cap</th>\n",
              "    </tr>\n",
              "  </thead>\n",
              "  <tbody>\n",
              "    <tr>\n",
              "      <th>95</th>\n",
              "      <td>25248140</td>\n",
              "      <td>Asia</td>\n",
              "      <td>North Korea</td>\n",
              "      <td>PRK</td>\n",
              "      <td>40000.0</td>\n",
              "      <td>(POLYGON ((130.7800036600468 42.22000781320322...</td>\n",
              "      <td>0.001584</td>\n",
              "    </tr>\n",
              "    <tr>\n",
              "      <th>103</th>\n",
              "      <td>34124811</td>\n",
              "      <td>Asia</td>\n",
              "      <td>Afghanistan</td>\n",
              "      <td>AFG</td>\n",
              "      <td>64080.0</td>\n",
              "      <td>POLYGON ((66.51860680528867 37.36278432875879,...</td>\n",
              "      <td>0.001878</td>\n",
              "    </tr>\n",
              "    <tr>\n",
              "      <th>101</th>\n",
              "      <td>29384297</td>\n",
              "      <td>Asia</td>\n",
              "      <td>Nepal</td>\n",
              "      <td>NPL</td>\n",
              "      <td>71520.0</td>\n",
              "      <td>POLYGON ((88.12044070836987 27.87654165293959,...</td>\n",
              "      <td>0.002434</td>\n",
              "    </tr>\n",
              "    <tr>\n",
              "      <th>157</th>\n",
              "      <td>28036829</td>\n",
              "      <td>Asia</td>\n",
              "      <td>Yemen</td>\n",
              "      <td>YEM</td>\n",
              "      <td>73450.0</td>\n",
              "      <td>POLYGON ((52.00000980002224 19.00000336351606,...</td>\n",
              "      <td>0.002620</td>\n",
              "    </tr>\n",
              "    <tr>\n",
              "      <th>108</th>\n",
              "      <td>18028549</td>\n",
              "      <td>Asia</td>\n",
              "      <td>Syria</td>\n",
              "      <td>SYR</td>\n",
              "      <td>50280.0</td>\n",
              "      <td>POLYGON ((35.71991824722275 32.70919240979487,...</td>\n",
              "      <td>0.002789</td>\n",
              "    </tr>\n",
              "    <tr>\n",
              "      <th>104</th>\n",
              "      <td>8468555</td>\n",
              "      <td>Asia</td>\n",
              "      <td>Tajikistan</td>\n",
              "      <td>TJK</td>\n",
              "      <td>25810.0</td>\n",
              "      <td>POLYGON ((67.82999962755952 37.14499400486469,...</td>\n",
              "      <td>0.003048</td>\n",
              "    </tr>\n",
              "    <tr>\n",
              "      <th>105</th>\n",
              "      <td>5789122</td>\n",
              "      <td>Asia</td>\n",
              "      <td>Kyrgyzstan</td>\n",
              "      <td>KGZ</td>\n",
              "      <td>21010.0</td>\n",
              "      <td>POLYGON ((70.96231489449914 42.26615428320549,...</td>\n",
              "      <td>0.003629</td>\n",
              "    </tr>\n",
              "    <tr>\n",
              "      <th>90</th>\n",
              "      <td>16204486</td>\n",
              "      <td>Asia</td>\n",
              "      <td>Cambodia</td>\n",
              "      <td>KHM</td>\n",
              "      <td>58940.0</td>\n",
              "      <td>POLYGON ((102.5849324890267 12.18659495691328,...</td>\n",
              "      <td>0.003637</td>\n",
              "    </tr>\n",
              "    <tr>\n",
              "      <th>24</th>\n",
              "      <td>1291358</td>\n",
              "      <td>Asia</td>\n",
              "      <td>Timor-Leste</td>\n",
              "      <td>TLS</td>\n",
              "      <td>4975.0</td>\n",
              "      <td>POLYGON ((124.9686824891162 -8.892790215697083...</td>\n",
              "      <td>0.003853</td>\n",
              "    </tr>\n",
              "    <tr>\n",
              "      <th>99</th>\n",
              "      <td>157826578</td>\n",
              "      <td>Asia</td>\n",
              "      <td>Bangladesh</td>\n",
              "      <td>BGD</td>\n",
              "      <td>628400.0</td>\n",
              "      <td>POLYGON ((92.67272098182556 22.04123891854125,...</td>\n",
              "      <td>0.003982</td>\n",
              "    </tr>\n",
              "  </tbody>\n",
              "</table>\n",
              "</div>"
            ],
            "text/plain": [
              "       pop_est  ... gdp_per_cap\n",
              "95    25248140  ...    0.001584\n",
              "103   34124811  ...    0.001878\n",
              "101   29384297  ...    0.002434\n",
              "157   28036829  ...    0.002620\n",
              "108   18028549  ...    0.002789\n",
              "104    8468555  ...    0.003048\n",
              "105    5789122  ...    0.003629\n",
              "90    16204486  ...    0.003637\n",
              "24     1291358  ...    0.003853\n",
              "99   157826578  ...    0.003982\n",
              "\n",
              "[10 rows x 7 columns]"
            ]
          },
          "metadata": {
            "tags": []
          },
          "execution_count": 83
        }
      ]
    },
    {
      "cell_type": "code",
      "metadata": {
        "id": "B5qWclXqMj8n",
        "colab_type": "code",
        "outputId": "08d00aaf-50c1-4bce-bd70-e88e68183719",
        "colab": {
          "base_uri": "https://localhost:8080/",
          "height": 359
        }
      },
      "source": [
        "asia_class_gdp.plot(ax=world.plot(facecolor='lightgray', figsize=(8, 8)), \n",
        "                        cmap='Paired', edgecolor='black')\n",
        "\n",
        "asia_bounds = asia_class_gdp.geometry.bounds\n",
        "\n",
        "plt.xlim([asia_bounds.minx.min()-5, asia_bounds.maxx.max()+5])\n",
        "plt.ylim([asia_bounds.miny.min()-5, asia_bounds.maxy.max()+5]);"
      ],
      "execution_count": 0,
      "outputs": [
        {
          "output_type": "display_data",
          "data": {
            "image/png": "[encoded data removed]",
            "text/plain": [
              "<Figure size 576x576 with 1 Axes>"
            ]
          },
          "metadata": {
            "tags": []
          }
        }
      ]
    },
    {
      "cell_type": "markdown",
      "metadata": {
        "id": "MOHG2yUcGLdD",
        "colab_type": "text"
      },
      "source": [
        "- ตัวอย่างที่ 2"
      ]
    },
    {
      "cell_type": "code",
      "metadata": {
        "id": "PlsS_UkYGPUH",
        "colab_type": "code",
        "outputId": "92c73e90-543b-4e29-bb94-309664243256",
        "colab": {
          "base_uri": "https://localhost:8080/",
          "height": 67
        }
      },
      "source": [
        "wfs_gdf_amphoe.columns"
      ],
      "execution_count": 0,
      "outputs": [
        {
          "output_type": "execute_result",
          "data": {
            "text/plain": [
              "Index(['AmphoeEN', 'AmphoeTH', 'Area', 'ProvinceEng', 'ProvinceTh',\n",
              "       'geometry'],\n",
              "      dtype='object')"
            ]
          },
          "metadata": {
            "tags": []
          },
          "execution_count": 49
        }
      ]
    },
    {
      "cell_type": "code",
      "metadata": {
        "id": "6PMZf5-V8t11",
        "colab_type": "code",
        "outputId": "499ad6f4-7084-4ef0-b250-1984fff3c468",
        "colab": {
          "base_uri": "https://localhost:8080/",
          "height": 394
        }
      },
      "source": [
        "# Data\n",
        "wfs_gdf_amphoe.plot( figsize=(14, 6))"
      ],
      "execution_count": 0,
      "outputs": [
        {
          "output_type": "execute_result",
          "data": {
            "text/plain": [
              "<matplotlib.axes._subplots.AxesSubplot at 0x7fde2aadc358>"
            ]
          },
          "metadata": {
            "tags": []
          },
          "execution_count": 48
        },
        {
          "output_type": "display_data",
          "data": {
            "image/png": "[encoded data removed]",
            "text/plain": [
              "<Figure size 1008x432 with 1 Axes>"
            ]
          },
          "metadata": {
            "tags": []
          }
        }
      ]
    },
    {
      "cell_type": "code",
      "metadata": {
        "id": "NcU-MrgR_ckV",
        "colab_type": "code",
        "outputId": "ef7ba1db-34c5-4196-f996-7bf2df8adc61",
        "colab": {
          "base_uri": "https://localhost:8080/",
          "height": 378
        }
      },
      "source": [
        "wfs_gdf_amphoe.plot(column='ProvinceEng', categorical=True, legend=False, figsize=(14, 6));"
      ],
      "execution_count": 0,
      "outputs": [
        {
          "output_type": "display_data",
          "data": {
            "image/png": "[encoded data removed]",
            "text/plain": [
              "<Figure size 1008x432 with 1 Axes>"
            ]
          },
          "metadata": {
            "tags": []
          }
        }
      ]
    },
    {
      "cell_type": "markdown",
      "metadata": {
        "id": "8-oc2oWxIMuA",
        "colab_type": "text"
      },
      "source": [
        "- ตัวอย่างที่ 3"
      ]
    },
    {
      "cell_type": "code",
      "metadata": {
        "id": "HHqJ-htvFmWU",
        "colab_type": "code",
        "outputId": "fd3bcbc5-e586-47b3-be63-095b0a47ded2",
        "colab": {
          "base_uri": "https://localhost:8080/",
          "height": 511
        }
      },
      "source": [
        "# หาอำเภอที่มีพื้นที่มากที่สุด 10 อันดับแรก\n",
        "wfs_gdf_amphoe['area_sqkm'] = wfs_gdf_amphoe.to_crs({'init': 'epsg:32647'}).geometry.area/1000000\n",
        "#wfs_gdf_amphoe.head(10)\n",
        "wfs_gdf_amphoe.nlargest(10, 'area_sqkm')"
      ],
      "execution_count": 0,
      "outputs": [
        {
          "output_type": "execute_result",
          "data": {
            "text/html": [
              "<div>\n",
              "<style scoped>\n",
              "    .dataframe tbody tr th:only-of-type {\n",
              "        vertical-align: middle;\n",
              "    }\n",
              "\n",
              "    .dataframe tbody tr th {\n",
              "        vertical-align: top;\n",
              "    }\n",
              "\n",
              "    .dataframe thead th {\n",
              "        text-align: right;\n",
              "    }\n",
              "</style>\n",
              "<table border=\"1\" class=\"dataframe\">\n",
              "  <thead>\n",
              "    <tr style=\"text-align: right;\">\n",
              "      <th></th>\n",
              "      <th>AmphoeEN</th>\n",
              "      <th>AmphoeTH</th>\n",
              "      <th>Area</th>\n",
              "      <th>ProvinceEng</th>\n",
              "      <th>ProvinceTh</th>\n",
              "      <th>geometry</th>\n",
              "      <th>area_sqkm</th>\n",
              "    </tr>\n",
              "  </thead>\n",
              "  <tbody>\n",
              "    <tr>\n",
              "      <th>686</th>\n",
              "      <td>UM PHANG</td>\n",
              "      <td>อุ้มผาง</td>\n",
              "      <td>4.819706e+09</td>\n",
              "      <td>TAK</td>\n",
              "      <td>ตาก</td>\n",
              "      <td>POLYGON ((98.94351673 16.38400081, 98.94548073...</td>\n",
              "      <td>4819.706499</td>\n",
              "    </tr>\n",
              "    <tr>\n",
              "      <th>766</th>\n",
              "      <td>THONG PHA PHUM</td>\n",
              "      <td>ทองผาภูมิ</td>\n",
              "      <td>3.857682e+09</td>\n",
              "      <td>KANCHANABURI</td>\n",
              "      <td>กาญจนบุรี</td>\n",
              "      <td>POLYGON ((98.88721630000001 15.27510156, 98.88...</td>\n",
              "      <td>3857.682218</td>\n",
              "    </tr>\n",
              "    <tr>\n",
              "      <th>801</th>\n",
              "      <td>BAN RAI</td>\n",
              "      <td>บ้านไร่</td>\n",
              "      <td>3.627081e+09</td>\n",
              "      <td>UTHAI THANI</td>\n",
              "      <td>อุทัยธานี</td>\n",
              "      <td>POLYGON ((99.13393807999999 15.79784295, 99.13...</td>\n",
              "      <td>3627.081327</td>\n",
              "    </tr>\n",
              "    <tr>\n",
              "      <th>564</th>\n",
              "      <td>MAE CHAEM</td>\n",
              "      <td>แม่แจ่ม</td>\n",
              "      <td>3.357216e+09</td>\n",
              "      <td>CHIANG MAI</td>\n",
              "      <td>เชียงใหม่</td>\n",
              "      <td>POLYGON ((98.26478452000001 19.15249398, 98.26...</td>\n",
              "      <td>3357.215625</td>\n",
              "    </tr>\n",
              "    <tr>\n",
              "      <th>767</th>\n",
              "      <td>SANGKHLA BURI</td>\n",
              "      <td>สังขละบุรี</td>\n",
              "      <td>3.164001e+09</td>\n",
              "      <td>KANCHANABURI</td>\n",
              "      <td>กาญจนบุรี</td>\n",
              "      <td>POLYGON ((98.58614658 15.6550927, 98.58687336 ...</td>\n",
              "      <td>3164.000729</td>\n",
              "    </tr>\n",
              "    <tr>\n",
              "      <th>764</th>\n",
              "      <td>SI SAWAT</td>\n",
              "      <td>ศรีสวัสดิ์</td>\n",
              "      <td>2.963896e+09</td>\n",
              "      <td>KANCHANABURI</td>\n",
              "      <td>กาญจนบุรี</td>\n",
              "      <td>POLYGON ((99.00388325 15.07068973, 99.00482039...</td>\n",
              "      <td>2963.896113</td>\n",
              "    </tr>\n",
              "    <tr>\n",
              "      <th>579</th>\n",
              "      <td>OMKOI</td>\n",
              "      <td>อมก๋อย</td>\n",
              "      <td>2.787321e+09</td>\n",
              "      <td>CHIANG MAI</td>\n",
              "      <td>เชียงใหม่</td>\n",
              "      <td>POLYGON ((98.29790896 18.07885958, 98.29947887...</td>\n",
              "      <td>2787.321152</td>\n",
              "    </tr>\n",
              "    <tr>\n",
              "      <th>818</th>\n",
              "      <td>SAM NGAO</td>\n",
              "      <td>สามเงา</td>\n",
              "      <td>2.780060e+09</td>\n",
              "      <td>TAK</td>\n",
              "      <td>ตาก</td>\n",
              "      <td>POLYGON ((98.67293024999999 17.83005874, 98.67...</td>\n",
              "      <td>2780.060003</td>\n",
              "    </tr>\n",
              "    <tr>\n",
              "      <th>762</th>\n",
              "      <td>SAI YOK</td>\n",
              "      <td>ไทรโยค</td>\n",
              "      <td>2.666343e+09</td>\n",
              "      <td>KANCHANABURI</td>\n",
              "      <td>กาญจนบุรี</td>\n",
              "      <td>POLYGON ((98.89121686 14.51714733, 98.89201444...</td>\n",
              "      <td>2666.342767</td>\n",
              "    </tr>\n",
              "    <tr>\n",
              "      <th>778</th>\n",
              "      <td>MAE SARIANG</td>\n",
              "      <td>แม่สะเรียง</td>\n",
              "      <td>2.620932e+09</td>\n",
              "      <td>MAE HONG SON</td>\n",
              "      <td>แม่ฮ่องสอน</td>\n",
              "      <td>POLYGON ((97.36424547999999 18.55883582, 97.36...</td>\n",
              "      <td>2620.931588</td>\n",
              "    </tr>\n",
              "  </tbody>\n",
              "</table>\n",
              "</div>"
            ],
            "text/plain": [
              "           AmphoeEN  ...    area_sqkm\n",
              "686        UM PHANG  ...  4819.706499\n",
              "766  THONG PHA PHUM  ...  3857.682218\n",
              "801         BAN RAI  ...  3627.081327\n",
              "564       MAE CHAEM  ...  3357.215625\n",
              "767   SANGKHLA BURI  ...  3164.000729\n",
              "764        SI SAWAT  ...  2963.896113\n",
              "579           OMKOI  ...  2787.321152\n",
              "818        SAM NGAO  ...  2780.060003\n",
              "762         SAI YOK  ...  2666.342767\n",
              "778     MAE SARIANG  ...  2620.931588\n",
              "\n",
              "[10 rows x 7 columns]"
            ]
          },
          "metadata": {
            "tags": []
          },
          "execution_count": 91
        }
      ]
    },
    {
      "cell_type": "code",
      "metadata": {
        "id": "n7t7nFNRIBT7",
        "colab_type": "code",
        "outputId": "e205ef17-9c60-44a9-aa1b-c835b5b8efa4",
        "colab": {
          "base_uri": "https://localhost:8080/",
          "height": 657
        }
      },
      "source": [
        "wfs_gdf_amphoe.nlargest(10, 'area_sqkm').plot(column='AmphoeEN', categorical=True, legend=True, figsize=(13, 9));\n",
        "plt.tight_layout()"
      ],
      "execution_count": 0,
      "outputs": [
        {
          "output_type": "display_data",
          "data": {
            "image/png": "[encoded data removed]",
            "text/plain": [
              "<Figure size 936x648 with 1 Axes>"
            ]
          },
          "metadata": {
            "tags": []
          }
        }
      ]
    },
    {
      "cell_type": "markdown",
      "metadata": {
        "id": "mo9QJxACPb1U",
        "colab_type": "text"
      },
      "source": [
        "## Web Mapping"
      ]
    },
    {
      "cell_type": "markdown",
      "metadata": {
        "id": "wo3cjfxoRQVv",
        "colab_type": "text"
      },
      "source": [
        "- เรียนรู้การสร้าง Web Mapping ด้วย  Bokeh"
      ]
    },
    {
      "cell_type": "code",
      "metadata": {
        "id": "FSXQrx8-Pehb",
        "colab_type": "code",
        "colab": {}
      },
      "source": [
        "import sys\n",
        "import numpy as np\n",
        "\n",
        "from bokeh.plotting import figure, show,save\n",
        "from bokeh.io import output_notebook\n",
        "from bokeh.layouts import row\n",
        "from bokeh.models import ColumnDataSource, Range1d, BBoxTileSource\n",
        "from bokeh.io import curdoc\n",
        "from bokeh.models import HoverTool\n",
        "from bokeh.models import WMTSTileSource\n",
        "from bokeh.models import GeoJSONDataSource\n",
        "from bokeh.models import LogColorMapper, LogTicker, ColorBar\n",
        "\n",
        "from bokeh.sampledata.sample_geojson import geojson\n",
        "from bokeh.palettes import RdYlGn10 as palette\n",
        "\n",
        "\n",
        "import warnings\n",
        "warnings.filterwarnings(\"ignore\")"
      ],
      "execution_count": 0,
      "outputs": []
    },
    {
      "cell_type": "code",
      "metadata": {
        "id": "KfxyRhCNXb8z",
        "colab_type": "code",
        "colab": {}
      },
      "source": [
        "def getPointCoords(row, geom, coord_type):\n",
        "    if coord_type == 'x':\n",
        "        return row[geom].x\n",
        "    elif coord_type == 'y':\n",
        "        return row[geom].y\n",
        "      \n",
        "def getPolyCoords(row, geom, coord_type, shape_type):\n",
        "    exterior = row[geom].exterior\n",
        "\n",
        "    if coord_type == 'x':\n",
        "        return list( exterior.coords.xy[0] )\n",
        "    elif coord_type == 'y':\n",
        "        return list( exterior.coords.xy[1] )"
      ],
      "execution_count": 0,
      "outputs": []
    },
    {
      "cell_type": "code",
      "metadata": {
        "id": "QJJlKozlUASn",
        "colab_type": "code",
        "colab": {}
      },
      "source": [
        "# data\n",
        "#po_df = wfs_gdf_office.drop('geometry', axis=1).copy()\n",
        "po_df =wfs_gdf_office[(wfs_gdf_office.within(amphoe_merge.geometry.unary_union)) ]\n",
        "po_df['lon'] = po_df.apply(getPointCoords, geom='geometry', coord_type='x', axis=1)\n",
        "po_df['lat'] = po_df.apply(getPointCoords, geom='geometry', coord_type='y', axis=1)\n",
        "\n",
        "po_df_mercator  = po_df.to_crs({'init': 'epsg:900913'})\n",
        "\n",
        "po_df_mercator.head()\n"
      ],
      "execution_count": 0,
      "outputs": []
    },
    {
      "cell_type": "code",
      "metadata": {
        "id": "gw1CLUfmZkdH",
        "colab_type": "code",
        "outputId": "cf5bf1be-0529-42f0-ee4c-cd39b5fddf4e",
        "colab": {
          "base_uri": "https://localhost:8080/",
          "height": 387
        }
      },
      "source": [
        "po_df_mercator['x'] = po_df_mercator.apply(getPointCoords, geom='geometry', coord_type='x', axis=1)\n",
        "po_df_mercator['y'] = po_df_mercator.apply(getPointCoords, geom='geometry', coord_type='y', axis=1)\n",
        "\n",
        "po_df_mercator = po_df_mercator.drop('geometry', axis=1).copy()\n",
        "po_df_mercator"
      ],
      "execution_count": 0,
      "outputs": [
        {
          "output_type": "execute_result",
          "data": {
            "text/html": [
              "<div>\n",
              "<style scoped>\n",
              "    .dataframe tbody tr th:only-of-type {\n",
              "        vertical-align: middle;\n",
              "    }\n",
              "\n",
              "    .dataframe tbody tr th {\n",
              "        vertical-align: top;\n",
              "    }\n",
              "\n",
              "    .dataframe thead th {\n",
              "        text-align: right;\n",
              "    }\n",
              "</style>\n",
              "<table border=\"1\" class=\"dataframe\">\n",
              "  <thead>\n",
              "    <tr style=\"text-align: right;\">\n",
              "      <th></th>\n",
              "      <th>Description</th>\n",
              "      <th>ID</th>\n",
              "      <th>LayerID</th>\n",
              "      <th>LayerTypeID</th>\n",
              "      <th>NAME</th>\n",
              "      <th>lon</th>\n",
              "      <th>lat</th>\n",
              "      <th>x</th>\n",
              "      <th>y</th>\n",
              "    </tr>\n",
              "  </thead>\n",
              "  <tbody>\n",
              "    <tr>\n",
              "      <th>10</th>\n",
              "      <td>178 หมู่ 1 ต.หินกอง อ.เมือง จ.ราชบุรี 70000</td>\n",
              "      <td>174124</td>\n",
              "      <td>86</td>\n",
              "      <td>1</td>\n",
              "      <td>สำนักงานพลังงานจังหวัดราชบุรี</td>\n",
              "      <td>99.730341</td>\n",
              "      <td>13.570121</td>\n",
              "      <td>1.110193e+07</td>\n",
              "      <td>1.524943e+06</td>\n",
              "    </tr>\n",
              "    <tr>\n",
              "      <th>37</th>\n",
              "      <td>2/100-102 หมู่ 2 ตำบลไร่ส้ม อำเภอเมือง จังหวัด...</td>\n",
              "      <td>174164</td>\n",
              "      <td>86</td>\n",
              "      <td>1</td>\n",
              "      <td>สำนักงานพลังงานจังหวัดเพชรบุรี</td>\n",
              "      <td>99.932934</td>\n",
              "      <td>13.111904</td>\n",
              "      <td>1.112448e+07</td>\n",
              "      <td>1.472520e+06</td>\n",
              "    </tr>\n",
              "    <tr>\n",
              "      <th>39</th>\n",
              "      <td>อาคารสำนักงาน ศาลากลางหลังเก่า ชั้น 2</td>\n",
              "      <td>174170</td>\n",
              "      <td>86</td>\n",
              "      <td>1</td>\n",
              "      <td>สำนักงานพลังงานจ.สมุทรสงคราม</td>\n",
              "      <td>100.001664</td>\n",
              "      <td>13.412862</td>\n",
              "      <td>1.113213e+07</td>\n",
              "      <td>1.506940e+06</td>\n",
              "    </tr>\n",
              "    <tr>\n",
              "      <th>44</th>\n",
              "      <td>PT</td>\n",
              "      <td>174232</td>\n",
              "      <td>86</td>\n",
              "      <td>1</td>\n",
              "      <td>สถานีบริการน้ำมัน PT</td>\n",
              "      <td>99.785568</td>\n",
              "      <td>13.554921</td>\n",
              "      <td>1.110808e+07</td>\n",
              "      <td>1.523203e+06</td>\n",
              "    </tr>\n",
              "  </tbody>\n",
              "</table>\n",
              "</div>"
            ],
            "text/plain": [
              "                                          Description  ...             y\n",
              "10        178 หมู่ 1 ต.หินกอง อ.เมือง จ.ราชบุรี 70000  ...  1.524943e+06\n",
              "37  2/100-102 หมู่ 2 ตำบลไร่ส้ม อำเภอเมือง จังหวัด...  ...  1.472520e+06\n",
              "39              อาคารสำนักงาน ศาลากลางหลังเก่า ชั้น 2  ...  1.506940e+06\n",
              "44                                                 PT  ...  1.523203e+06\n",
              "\n",
              "[4 rows x 9 columns]"
            ]
          },
          "metadata": {
            "tags": []
          },
          "execution_count": 137
        }
      ]
    },
    {
      "cell_type": "code",
      "metadata": {
        "id": "9SlIU2vBRc-3",
        "colab_type": "code",
        "outputId": "2316f8e1-52f6-4707-b63c-21ffbb7a525d",
        "colab": {
          "base_uri": "https://localhost:8080/",
          "height": 647
        }
      },
      "source": [
        "#OSM Tile Service\n",
        "p = figure(title=\" Energy Office Map\"\n",
        "           , x_range=(10596635,11834885), y_range=(563630,2377692)\n",
        "           ,x_axis_type=\"mercator\", y_axis_type=\"mercator\")\n",
        "url = 'http://c.tile.openstreetmap.org/{Z}/{X}/{Y}.png'\n",
        "attribution = \"Source:  OSM\"\n",
        "\n",
        "p.add_tile(WMTSTileSource(url=url,attribution=attribution))\n",
        "\n",
        "\n",
        "# select  feature\n",
        "psource = ColumnDataSource(po_df_mercator)\n",
        "#p.circle(x, y, radius=rad, fill_color=colors, fill_alpha=0.6, line_color=None)\n",
        "color_mapper = LogColorMapper(palette=palette)\n",
        "p.circle('x', 'y', source=psource, fill_color={'field': 'ID', 'transform': color_mapper}, size=10)\n",
        "p_hover = HoverTool()\n",
        "p_hover.tooltips = [\n",
        "        (\"Name\", \"@Description\"),\n",
        "        (\"ID\", \"@ID\"),\n",
        "        (\"(lat, lon)\", \"(@lat, @lon)\"),\n",
        "        ]\n",
        "p.add_tools(p_hover)\n",
        "output_notebook()\n",
        "show(p)"
      ],
      "execution_count": 0,
      "outputs": [
        {
          "output_type": "display_data",
          "data": {
            "text/html": [
              "\n",
              "    <div class=\"bk-root\">\n",
              "        <a href=\"https://bokeh.pydata.org\" target=\"_blank\" class=\"bk-logo bk-logo-small bk-logo-notebook\"></a>\n",
              "        <span id=\"7351\">Loading BokehJS ...</span>\n",
              "    </div>"
            ]
          },
          "metadata": {
            "tags": []
          }
        },
        {
          "output_type": "display_data",
          "data": {
            "application/javascript": [
              "\n",
              "(function(root) {\n",
              "  function now() {\n",
              "    return new Date();\n",
              "  }\n",
              "\n",
              "  var force = true;\n",
              "\n",
              "  if (typeof (root._bokeh_onload_callbacks) === \"undefined\" || force === true) {\n",
              "    root._bokeh_onload_callbacks = [];\n",
              "    root._bokeh_is_loading = undefined;\n",
              "  }\n",
              "\n",
              "  var JS_MIME_TYPE = 'application/javascript';\n",
              "  var HTML_MIME_TYPE = 'text/html';\n",
              "  var EXEC_MIME_TYPE = 'application/vnd.bokehjs_exec.v0+json';\n",
              "  var CLASS_NAME = 'output_bokeh rendered_html';\n",
              "\n",
              "  /**\n",
              "   * Render data to the DOM node\n",
              "   */\n",
              "  function render(props, node) {\n",
              "    var script = document.createElement(\"script\");\n",
              "    node.appendChild(script);\n",
              "  }\n",
              "\n",
              "  /**\n",
              "   * Handle when an output is cleared or removed\n",
              "   */\n",
              "  function handleClearOutput(event, handle) {\n",
              "    var cell = handle.cell;\n",
              "\n",
              "    var id = cell.output_area._bokeh_element_id;\n",
              "    var server_id = cell.output_area._bokeh_server_id;\n",
              "    // Clean up Bokeh references\n",
              "    if (id != null && id in Bokeh.index) {\n",
              "      Bokeh.index[id].model.document.clear();\n",
              "      delete Bokeh.index[id];\n",
              "    }\n",
              "\n",
              "    if (server_id !== undefined) {\n",
              "      // Clean up Bokeh references\n",
              "      var cmd = \"from bokeh.io.state import curstate; print(curstate().uuid_to_server['\" + server_id + \"'].get_sessions()[0].document.roots[0]._id)\";\n",
              "      cell.notebook.kernel.execute(cmd, {\n",
              "        iopub: {\n",
              "          output: function(msg) {\n",
              "            var id = msg.content.text.trim();\n",
              "            if (id in Bokeh.index) {\n",
              "              Bokeh.index[id].model.document.clear();\n",
              "              delete Bokeh.index[id];\n",
              "            }\n",
              "          }\n",
              "        }\n",
              "      });\n",
              "      // Destroy server and session\n",
              "      var cmd = \"import bokeh.io.notebook as ion; ion.destroy_server('\" + server_id + \"')\";\n",
              "      cell.notebook.kernel.execute(cmd);\n",
              "    }\n",
              "  }\n",
              "\n",
              "  /**\n",
              "   * Handle when a new output is added\n",
              "   */\n",
              "  function handleAddOutput(event, handle) {\n",
              "    var output_area = handle.output_area;\n",
              "    var output = handle.output;\n",
              "\n",
              "    // limit handleAddOutput to display_data with EXEC_MIME_TYPE content only\n",
              "    if ((output.output_type != \"display_data\") || (!output.data.hasOwnProperty(EXEC_MIME_TYPE))) {\n",
              "      return\n",
              "    }\n",
              "\n",
              "    var toinsert = output_area.element.find(\".\" + CLASS_NAME.split(' ')[0]);\n",
              "\n",
              "    if (output.metadata[EXEC_MIME_TYPE][\"id\"] !== undefined) {\n",
              "      toinsert[toinsert.length - 1].firstChild.textContent = output.data[JS_MIME_TYPE];\n",
              "      // store reference to embed id on output_area\n",
              "      output_area._bokeh_element_id = output.metadata[EXEC_MIME_TYPE][\"id\"];\n",
              "    }\n",
              "    if (output.metadata[EXEC_MIME_TYPE][\"server_id\"] !== undefined) {\n",
              "      var bk_div = document.createElement(\"div\");\n",
              "      bk_div.innerHTML = output.data[HTML_MIME_TYPE];\n",
              "      var script_attrs = bk_div.children[0].attributes;\n",
              "      for (var i = 0; i < script_attrs.length; i++) {\n",
              "        toinsert[toinsert.length - 1].firstChild.setAttribute(script_attrs[i].name, script_attrs[i].value);\n",
              "      }\n",
              "      // store reference to server id on output_area\n",
              "      output_area._bokeh_server_id = output.metadata[EXEC_MIME_TYPE][\"server_id\"];\n",
              "    }\n",
              "  }\n",
              "\n",
              "  function register_renderer(events, OutputArea) {\n",
              "\n",
              "    function append_mime(data, metadata, element) {\n",
              "      // create a DOM node to render to\n",
              "      var toinsert = this.create_output_subarea(\n",
              "        metadata,\n",
              "        CLASS_NAME,\n",
              "        EXEC_MIME_TYPE\n",
              "      );\n",
              "      this.keyboard_manager.register_events(toinsert);\n",
              "      // Render to node\n",
              "      var props = {data: data, metadata: metadata[EXEC_MIME_TYPE]};\n",
              "      render(props, toinsert[toinsert.length - 1]);\n",
              "      element.append(toinsert);\n",
              "      return toinsert\n",
              "    }\n",
              "\n",
              "    /* Handle when an output is cleared or removed */\n",
              "    events.on('clear_output.CodeCell', handleClearOutput);\n",
              "    events.on('delete.Cell', handleClearOutput);\n",
              "\n",
              "    /* Handle when a new output is added */\n",
              "    events.on('output_added.OutputArea', handleAddOutput);\n",
              "\n",
              "    /**\n",
              "     * Register the mime type and append_mime function with output_area\n",
              "     */\n",
              "    OutputArea.prototype.register_mime_type(EXEC_MIME_TYPE, append_mime, {\n",
              "      /* Is output safe? */\n",
              "      safe: true,\n",
              "      /* Index of renderer in `output_area.display_order` */\n",
              "      index: 0\n",
              "    });\n",
              "  }\n",
              "\n",
              "  // register the mime type if in Jupyter Notebook environment and previously unregistered\n",
              "  if (root.Jupyter !== undefined) {\n",
              "    var events = require('base/js/events');\n",
              "    var OutputArea = require('notebook/js/outputarea').OutputArea;\n",
              "\n",
              "    if (OutputArea.prototype.mime_types().indexOf(EXEC_MIME_TYPE) == -1) {\n",
              "      register_renderer(events, OutputArea);\n",
              "    }\n",
              "  }\n",
              "\n",
              "  \n",
              "  if (typeof (root._bokeh_timeout) === \"undefined\" || force === true) {\n",
              "    root._bokeh_timeout = Date.now() + 5000;\n",
              "    root._bokeh_failed_load = false;\n",
              "  }\n",
              "\n",
              "  var NB_LOAD_WARNING = {'data': {'text/html':\n",
              "     \"<div style='background-color: #fdd'>\\n\"+\n",
              "     \"<p>\\n\"+\n",
              "     \"BokehJS does not appear to have successfully loaded. If loading BokehJS from CDN, this \\n\"+\n",
              "     \"may be due to a slow or bad network connection. Possible fixes:\\n\"+\n",
              "     \"</p>\\n\"+\n",
              "     \"<ul>\\n\"+\n",
              "     \"<li>re-rerun `output_notebook()` to attempt to load from CDN again, or</li>\\n\"+\n",
              "     \"<li>use INLINE resources instead, as so:</li>\\n\"+\n",
              "     \"</ul>\\n\"+\n",
              "     \"<code>\\n\"+\n",
              "     \"from bokeh.resources import INLINE\\n\"+\n",
              "     \"output_notebook(resources=INLINE)\\n\"+\n",
              "     \"</code>\\n\"+\n",
              "     \"</div>\"}};\n",
              "\n",
              "  function display_loaded() {\n",
              "    var el = document.getElementById(\"7351\");\n",
              "    if (el != null) {\n",
              "      el.textContent = \"BokehJS is loading...\";\n",
              "    }\n",
              "    if (root.Bokeh !== undefined) {\n",
              "      if (el != null) {\n",
              "        el.textContent = \"BokehJS \" + root.Bokeh.version + \" successfully loaded.\";\n",
              "      }\n",
              "    } else if (Date.now() < root._bokeh_timeout) {\n",
              "      setTimeout(display_loaded, 100)\n",
              "    }\n",
              "  }\n",
              "\n",
              "\n",
              "  function run_callbacks() {\n",
              "    try {\n",
              "      root._bokeh_onload_callbacks.forEach(function(callback) { callback() });\n",
              "    }\n",
              "    finally {\n",
              "      delete root._bokeh_onload_callbacks\n",
              "    }\n",
              "    console.info(\"Bokeh: all callbacks have finished\");\n",
              "  }\n",
              "\n",
              "  function load_libs(js_urls, callback) {\n",
              "    root._bokeh_onload_callbacks.push(callback);\n",
              "    if (root._bokeh_is_loading > 0) {\n",
              "      console.log(\"Bokeh: BokehJS is being loaded, scheduling callback at\", now());\n",
              "      return null;\n",
              "    }\n",
              "    if (js_urls == null || js_urls.length === 0) {\n",
              "      run_callbacks();\n",
              "      return null;\n",
              "    }\n",
              "    console.log(\"Bokeh: BokehJS not loaded, scheduling load and callback at\", now());\n",
              "    root._bokeh_is_loading = js_urls.length;\n",
              "    for (var i = 0; i < js_urls.length; i++) {\n",
              "      var url = js_urls[i];\n",
              "      var s = document.createElement('script');\n",
              "      s.src = url;\n",
              "      s.async = false;\n",
              "      s.onreadystatechange = s.onload = function() {\n",
              "        root._bokeh_is_loading--;\n",
              "        if (root._bokeh_is_loading === 0) {\n",
              "          console.log(\"Bokeh: all BokehJS libraries loaded\");\n",
              "          run_callbacks()\n",
              "        }\n",
              "      };\n",
              "      s.onerror = function() {\n",
              "        console.warn(\"failed to load library \" + url);\n",
              "      };\n",
              "      console.log(\"Bokeh: injecting script tag for BokehJS library: \", url);\n",
              "      document.getElementsByTagName(\"head\")[0].appendChild(s);\n",
              "    }\n",
              "  };var element = document.getElementById(\"7351\");\n",
              "  if (element == null) {\n",
              "    console.log(\"Bokeh: ERROR: autoload.js configured with elementid '7351' but no matching script tag was found. \")\n",
              "    return false;\n",
              "  }\n",
              "\n",
              "  var js_urls = [\"https://cdn.pydata.org/bokeh/release/bokeh-1.0.4.min.js\", \"https://cdn.pydata.org/bokeh/release/bokeh-widgets-1.0.4.min.js\", \"https://cdn.pydata.org/bokeh/release/bokeh-tables-1.0.4.min.js\", \"https://cdn.pydata.org/bokeh/release/bokeh-gl-1.0.4.min.js\"];\n",
              "\n",
              "  var inline_js = [\n",
              "    function(Bokeh) {\n",
              "      Bokeh.set_log_level(\"info\");\n",
              "    },\n",
              "    \n",
              "    function(Bokeh) {\n",
              "      \n",
              "    },\n",
              "    function(Bokeh) {\n",
              "      console.log(\"Bokeh: injecting CSS: https://cdn.pydata.org/bokeh/release/bokeh-1.0.4.min.css\");\n",
              "      Bokeh.embed.inject_css(\"https://cdn.pydata.org/bokeh/release/bokeh-1.0.4.min.css\");\n",
              "      console.log(\"Bokeh: injecting CSS: https://cdn.pydata.org/bokeh/release/bokeh-widgets-1.0.4.min.css\");\n",
              "      Bokeh.embed.inject_css(\"https://cdn.pydata.org/bokeh/release/bokeh-widgets-1.0.4.min.css\");\n",
              "      console.log(\"Bokeh: injecting CSS: https://cdn.pydata.org/bokeh/release/bokeh-tables-1.0.4.min.css\");\n",
              "      Bokeh.embed.inject_css(\"https://cdn.pydata.org/bokeh/release/bokeh-tables-1.0.4.min.css\");\n",
              "    }\n",
              "  ];\n",
              "\n",
              "  function run_inline_js() {\n",
              "    \n",
              "    if ((root.Bokeh !== undefined) || (force === true)) {\n",
              "      for (var i = 0; i < inline_js.length; i++) {\n",
              "        inline_js[i].call(root, root.Bokeh);\n",
              "      }if (force === true) {\n",
              "        display_loaded();\n",
              "      }} else if (Date.now() < root._bokeh_timeout) {\n",
              "      setTimeout(run_inline_js, 100);\n",
              "    } else if (!root._bokeh_failed_load) {\n",
              "      console.log(\"Bokeh: BokehJS failed to load within specified timeout.\");\n",
              "      root._bokeh_failed_load = true;\n",
              "    } else if (force !== true) {\n",
              "      var cell = $(document.getElementById(\"7351\")).parents('.cell').data().cell;\n",
              "      cell.output_area.append_execute_result(NB_LOAD_WARNING)\n",
              "    }\n",
              "\n",
              "  }\n",
              "\n",
              "  if (root._bokeh_is_loading === 0) {\n",
              "    console.log(\"Bokeh: BokehJS loaded, going straight to plotting\");\n",
              "    run_inline_js();\n",
              "  } else {\n",
              "    load_libs(js_urls, function() {\n",
              "      console.log(\"Bokeh: BokehJS plotting callback run at\", now());\n",
              "      run_inline_js();\n",
              "    });\n",
              "  }\n",
              "}(window));"
            ],
            "application/vnd.bokehjs_load.v0+json": "\n(function(root) {\n  function now() {\n    return new Date();\n  }\n\n  var force = true;\n\n  if (typeof (root._bokeh_onload_callbacks) === \"undefined\" || force === true) {\n    root._bokeh_onload_callbacks = [];\n    root._bokeh_is_loading = undefined;\n  }\n\n  \n\n  \n  if (typeof (root._bokeh_timeout) === \"undefined\" || force === true) {\n    root._bokeh_timeout = Date.now() + 5000;\n    root._bokeh_failed_load = false;\n  }\n\n  var NB_LOAD_WARNING = {'data': {'text/html':\n     \"<div style='background-color: #fdd'>\\n\"+\n     \"<p>\\n\"+\n     \"BokehJS does not appear to have successfully loaded. If loading BokehJS from CDN, this \\n\"+\n     \"may be due to a slow or bad network connection. Possible fixes:\\n\"+\n     \"</p>\\n\"+\n     \"<ul>\\n\"+\n     \"<li>re-rerun `output_notebook()` to attempt to load from CDN again, or</li>\\n\"+\n     \"<li>use INLINE resources instead, as so:</li>\\n\"+\n     \"</ul>\\n\"+\n     \"<code>\\n\"+\n     \"from bokeh.resources import INLINE\\n\"+\n     \"output_notebook(resources=INLINE)\\n\"+\n     \"</code>\\n\"+\n     \"</div>\"}};\n\n  function display_loaded() {\n    var el = document.getElementById(\"7351\");\n    if (el != null) {\n      el.textContent = \"BokehJS is loading...\";\n    }\n    if (root.Bokeh !== undefined) {\n      if (el != null) {\n        el.textContent = \"BokehJS \" + root.Bokeh.version + \" successfully loaded.\";\n      }\n    } else if (Date.now() < root._bokeh_timeout) {\n      setTimeout(display_loaded, 100)\n    }\n  }\n\n\n  function run_callbacks() {\n    try {\n      root._bokeh_onload_callbacks.forEach(function(callback) { callback() });\n    }\n    finally {\n      delete root._bokeh_onload_callbacks\n    }\n    console.info(\"Bokeh: all callbacks have finished\");\n  }\n\n  function load_libs(js_urls, callback) {\n    root._bokeh_onload_callbacks.push(callback);\n    if (root._bokeh_is_loading > 0) {\n      console.log(\"Bokeh: BokehJS is being loaded, scheduling callback at\", now());\n      return null;\n    }\n    if (js_urls == null || js_urls.length === 0) {\n      run_callbacks();\n      return null;\n    }\n    console.log(\"Bokeh: BokehJS not loaded, scheduling load and callback at\", now());\n    root._bokeh_is_loading = js_urls.length;\n    for (var i = 0; i < js_urls.length; i++) {\n      var url = js_urls[i];\n      var s = document.createElement('script');\n      s.src = url;\n      s.async = false;\n      s.onreadystatechange = s.onload = function() {\n        root._bokeh_is_loading--;\n        if (root._bokeh_is_loading === 0) {\n          console.log(\"Bokeh: all BokehJS libraries loaded\");\n          run_callbacks()\n        }\n      };\n      s.onerror = function() {\n        console.warn(\"failed to load library \" + url);\n      };\n      console.log(\"Bokeh: injecting script tag for BokehJS library: \", url);\n      document.getElementsByTagName(\"head\")[0].appendChild(s);\n    }\n  };var element = document.getElementById(\"7351\");\n  if (element == null) {\n    console.log(\"Bokeh: ERROR: autoload.js configured with elementid '7351' but no matching script tag was found. \")\n    return false;\n  }\n\n  var js_urls = [\"https://cdn.pydata.org/bokeh/release/bokeh-1.0.4.min.js\", \"https://cdn.pydata.org/bokeh/release/bokeh-widgets-1.0.4.min.js\", \"https://cdn.pydata.org/bokeh/release/bokeh-tables-1.0.4.min.js\", \"https://cdn.pydata.org/bokeh/release/bokeh-gl-1.0.4.min.js\"];\n\n  var inline_js = [\n    function(Bokeh) {\n      Bokeh.set_log_level(\"info\");\n    },\n    \n    function(Bokeh) {\n      \n    },\n    function(Bokeh) {\n      console.log(\"Bokeh: injecting CSS: https://cdn.pydata.org/bokeh/release/bokeh-1.0.4.min.css\");\n      Bokeh.embed.inject_css(\"https://cdn.pydata.org/bokeh/release/bokeh-1.0.4.min.css\");\n      console.log(\"Bokeh: injecting CSS: https://cdn.pydata.org/bokeh/release/bokeh-widgets-1.0.4.min.css\");\n      Bokeh.embed.inject_css(\"https://cdn.pydata.org/bokeh/release/bokeh-widgets-1.0.4.min.css\");\n      console.log(\"Bokeh: injecting CSS: https://cdn.pydata.org/bokeh/release/bokeh-tables-1.0.4.min.css\");\n      Bokeh.embed.inject_css(\"https://cdn.pydata.org/bokeh/release/bokeh-tables-1.0.4.min.css\");\n    }\n  ];\n\n  function run_inline_js() {\n    \n    if ((root.Bokeh !== undefined) || (force === true)) {\n      for (var i = 0; i < inline_js.length; i++) {\n        inline_js[i].call(root, root.Bokeh);\n      }if (force === true) {\n        display_loaded();\n      }} else if (Date.now() < root._bokeh_timeout) {\n      setTimeout(run_inline_js, 100);\n    } else if (!root._bokeh_failed_load) {\n      console.log(\"Bokeh: BokehJS failed to load within specified timeout.\");\n      root._bokeh_failed_load = true;\n    } else if (force !== true) {\n      var cell = $(document.getElementById(\"7351\")).parents('.cell').data().cell;\n      cell.output_area.append_execute_result(NB_LOAD_WARNING)\n    }\n\n  }\n\n  if (root._bokeh_is_loading === 0) {\n    console.log(\"Bokeh: BokehJS loaded, going straight to plotting\");\n    run_inline_js();\n  } else {\n    load_libs(js_urls, function() {\n      console.log(\"Bokeh: BokehJS plotting callback run at\", now());\n      run_inline_js();\n    });\n  }\n}(window));"
          },
          "metadata": {
            "tags": []
          }
        },
        {
          "output_type": "display_data",
          "data": {
            "text/html": [
              "\n",
              "\n",
              "\n",
              "\n",
              "\n",
              "\n",
              "  <div class=\"bk-root\" id=\"f7321ec2-5477-4494-ab90-1f2e168d4da4\" data-root-id=\"7296\"></div>\n"
            ]
          },
          "metadata": {
            "tags": []
          }
        },
        {
          "output_type": "display_data",
          "data": {
            "application/javascript": [
              "(function(root) {\n",
              "  function embed_document(root) {\n",
              "    \n",
              "  var docs_json = {\"8dc96733-ec54-412c-9e33-ae1b57d1e0e1\":{\"roots\":{\"references\":[{\"attributes\":{\"below\":[{\"id\":\"7306\",\"type\":\"MercatorAxis\"}],\"left\":[{\"id\":\"7315\",\"type\":\"MercatorAxis\"}],\"renderers\":[{\"id\":\"7306\",\"type\":\"MercatorAxis\"},{\"id\":\"7314\",\"type\":\"Grid\"},{\"id\":\"7315\",\"type\":\"MercatorAxis\"},{\"id\":\"7323\",\"type\":\"Grid\"},{\"id\":\"7332\",\"type\":\"BoxAnnotation\"},{\"id\":\"7340\",\"type\":\"TileRenderer\"},{\"id\":\"7347\",\"type\":\"GlyphRenderer\"}],\"title\":{\"id\":\"7295\",\"type\":\"Title\"},\"toolbar\":{\"id\":\"7330\",\"type\":\"Toolbar\"},\"x_range\":{\"id\":\"7298\",\"type\":\"Range1d\"},\"x_scale\":{\"id\":\"7302\",\"type\":\"LinearScale\"},\"y_range\":{\"id\":\"7300\",\"type\":\"Range1d\"},\"y_scale\":{\"id\":\"7304\",\"type\":\"LinearScale\"}},\"id\":\"7296\",\"subtype\":\"Figure\",\"type\":\"Plot\"},{\"attributes\":{\"dimension\":\"lat\"},\"id\":\"7316\",\"type\":\"MercatorTicker\"},{\"attributes\":{\"palette\":[\"#006837\",\"#1a9850\",\"#66bd63\",\"#a6d96a\",\"#d9ef8b\",\"#fee08b\",\"#fdae61\",\"#f46d43\",\"#d73027\",\"#a50026\"]},\"id\":\"7343\",\"type\":\"LogColorMapper\"},{\"attributes\":{\"callback\":null,\"end\":2377692,\"start\":563630},\"id\":\"7300\",\"type\":\"Range1d\"},{\"attributes\":{},\"id\":\"7324\",\"type\":\"PanTool\"},{\"attributes\":{\"bottom_units\":\"screen\",\"fill_alpha\":{\"value\":0.5},\"fill_color\":{\"value\":\"lightgrey\"},\"left_units\":\"screen\",\"level\":\"overlay\",\"line_alpha\":{\"value\":1.0},\"line_color\":{\"value\":\"black\"},\"line_dash\":[4,4],\"line_width\":{\"value\":2},\"plot\":null,\"render_mode\":\"css\",\"right_units\":\"screen\",\"top_units\":\"screen\"},\"id\":\"7332\",\"type\":\"BoxAnnotation\"},{\"attributes\":{\"dimension\":\"lon\"},\"id\":\"7309\",\"type\":\"MercatorTickFormatter\"},{\"attributes\":{\"dimension\":1,\"plot\":{\"id\":\"7296\",\"subtype\":\"Figure\",\"type\":\"Plot\"},\"ticker\":{\"id\":\"7316\",\"type\":\"MercatorTicker\"}},\"id\":\"7323\",\"type\":\"Grid\"},{\"attributes\":{},\"id\":\"7302\",\"type\":\"LinearScale\"},{\"attributes\":{\"plot\":{\"id\":\"7296\",\"subtype\":\"Figure\",\"type\":\"Plot\"},\"ticker\":{\"id\":\"7307\",\"type\":\"MercatorTicker\"}},\"id\":\"7314\",\"type\":\"Grid\"},{\"attributes\":{\"formatter\":{\"id\":\"7309\",\"type\":\"MercatorTickFormatter\"},\"plot\":{\"id\":\"7296\",\"subtype\":\"Figure\",\"type\":\"Plot\"},\"ticker\":{\"id\":\"7307\",\"type\":\"MercatorTicker\"}},\"id\":\"7306\",\"type\":\"MercatorAxis\"},{\"attributes\":{\"source\":{\"id\":\"7342\",\"type\":\"ColumnDataSource\"}},\"id\":\"7348\",\"type\":\"CDSView\"},{\"attributes\":{\"dimension\":\"lat\"},\"id\":\"7318\",\"type\":\"MercatorTickFormatter\"},{\"attributes\":{},\"id\":\"7329\",\"type\":\"HelpTool\"},{\"attributes\":{\"attribution\":\"Source:  OSM\",\"url\":\"http://c.tile.openstreetmap.org/{Z}/{X}/{Y}.png\"},\"id\":\"7339\",\"type\":\"WMTSTileSource\"},{\"attributes\":{},\"id\":\"7518\",\"type\":\"UnionRenderers\"},{\"attributes\":{\"data_source\":{\"id\":\"7342\",\"type\":\"ColumnDataSource\"},\"glyph\":{\"id\":\"7345\",\"type\":\"Circle\"},\"hover_glyph\":null,\"muted_glyph\":null,\"nonselection_glyph\":{\"id\":\"7346\",\"type\":\"Circle\"},\"selection_glyph\":null,\"view\":{\"id\":\"7348\",\"type\":\"CDSView\"}},\"id\":\"7347\",\"type\":\"GlyphRenderer\"},{\"attributes\":{\"callback\":null,\"data\":{\"Description\":[\"178 \\u0e2b\\u0e21\\u0e39\\u0e48 1 \\u0e15.\\u0e2b\\u0e34\\u0e19\\u0e01\\u0e2d\\u0e07 \\u0e2d.\\u0e40\\u0e21\\u0e37\\u0e2d\\u0e07 \\u0e08.\\u0e23\\u0e32\\u0e0a\\u0e1a\\u0e38\\u0e23\\u0e35 70000\",\"2/100-102 \\u0e2b\\u0e21\\u0e39\\u0e48 2 \\u0e15\\u0e33\\u0e1a\\u0e25\\u0e44\\u0e23\\u0e48\\u0e2a\\u0e49\\u0e21 \\u0e2d\\u0e33\\u0e40\\u0e20\\u0e2d\\u0e40\\u0e21\\u0e37\\u0e2d\\u0e07 \\u0e08\\u0e31\\u0e07\\u0e2b\\u0e27\\u0e31\\u0e14\\u0e40\\u0e1e\\u0e0a\\u0e23\\u0e1a\\u0e38\\u0e23\\u0e35 76000\",\"\\u0e2d\\u0e32\\u0e04\\u0e32\\u0e23\\u0e2a\\u0e33\\u0e19\\u0e31\\u0e01\\u0e07\\u0e32\\u0e19 \\u0e28\\u0e32\\u0e25\\u0e32\\u0e01\\u0e25\\u0e32\\u0e07\\u0e2b\\u0e25\\u0e31\\u0e07\\u0e40\\u0e01\\u0e48\\u0e32 \\u0e0a\\u0e31\\u0e49\\u0e19 2\",\"PT\"],\"ID\":[174124,174164,174170,174232],\"LayerID\":[86,86,86,86],\"LayerTypeID\":[1,1,1,1],\"NAME\":[\"\\u0e2a\\u0e33\\u0e19\\u0e31\\u0e01\\u0e07\\u0e32\\u0e19\\u0e1e\\u0e25\\u0e31\\u0e07\\u0e07\\u0e32\\u0e19\\u0e08\\u0e31\\u0e07\\u0e2b\\u0e27\\u0e31\\u0e14\\u0e23\\u0e32\\u0e0a\\u0e1a\\u0e38\\u0e23\\u0e35\",\"\\u0e2a\\u0e33\\u0e19\\u0e31\\u0e01\\u0e07\\u0e32\\u0e19\\u0e1e\\u0e25\\u0e31\\u0e07\\u0e07\\u0e32\\u0e19\\u0e08\\u0e31\\u0e07\\u0e2b\\u0e27\\u0e31\\u0e14\\u0e40\\u0e1e\\u0e0a\\u0e23\\u0e1a\\u0e38\\u0e23\\u0e35\",\"\\u0e2a\\u0e33\\u0e19\\u0e31\\u0e01\\u0e07\\u0e32\\u0e19\\u0e1e\\u0e25\\u0e31\\u0e07\\u0e07\\u0e32\\u0e19\\u0e08.\\u0e2a\\u0e21\\u0e38\\u0e17\\u0e23\\u0e2a\\u0e07\\u0e04\\u0e23\\u0e32\\u0e21\",\"\\u0e2a\\u0e16\\u0e32\\u0e19\\u0e35\\u0e1a\\u0e23\\u0e34\\u0e01\\u0e32\\u0e23\\u0e19\\u0e49\\u0e33\\u0e21\\u0e31\\u0e19 PT\"],\"index\":[10,37,39,44],\"lat\":{\"__ndarray__\":\"QuXC9eYjK0A5LoB8SzkqQIBQ7qli0ypAcwIFpB4cK0A=\",\"dtype\":\"float64\",\"shape\":[4]},\"lon\":{\"__ndarray__\":\"DUUN6L3uWEDiMW4wtftYQC6rE0QbAFlA07UfvkbyWEA=\",\"dtype\":\"float64\",\"shape\":[4]},\"x\":{\"__ndarray__\":\"Mtu/WN0sZUEYcx9q4DdlQcZMuMqcO2VBvGwJ090vZUE=\",\"dtype\":\"float64\",\"shape\":[4]},\"y\":{\"__ndarray__\":\"cNtgUc9EN0GuUdrvB3g2QcHPf3x8/jZB6uflswI+N0E=\",\"dtype\":\"float64\",\"shape\":[4]}},\"selected\":{\"id\":\"7517\",\"type\":\"Selection\"},\"selection_policy\":{\"id\":\"7518\",\"type\":\"UnionRenderers\"}},\"id\":\"7342\",\"type\":\"ColumnDataSource\"},{\"attributes\":{\"overlay\":{\"id\":\"7332\",\"type\":\"BoxAnnotation\"}},\"id\":\"7326\",\"type\":\"BoxZoomTool\"},{\"attributes\":{\"callback\":null,\"tooltips\":[[\"Name\",\"@Description\"],[\"ID\",\"@ID\"],[\"(lat, lon)\",\"(@lat, @lon)\"]]},\"id\":\"7349\",\"type\":\"HoverTool\"},{\"attributes\":{\"formatter\":{\"id\":\"7318\",\"type\":\"MercatorTickFormatter\"},\"plot\":{\"id\":\"7296\",\"subtype\":\"Figure\",\"type\":\"Plot\"},\"ticker\":{\"id\":\"7316\",\"type\":\"MercatorTicker\"}},\"id\":\"7315\",\"type\":\"MercatorAxis\"},{\"attributes\":{},\"id\":\"7517\",\"type\":\"Selection\"},{\"attributes\":{},\"id\":\"7325\",\"type\":\"WheelZoomTool\"},{\"attributes\":{\"dimension\":\"lon\"},\"id\":\"7307\",\"type\":\"MercatorTicker\"},{\"attributes\":{\"fill_alpha\":{\"value\":0.1},\"fill_color\":{\"value\":\"#1f77b4\"},\"line_alpha\":{\"value\":0.1},\"line_color\":{\"value\":\"#1f77b4\"},\"size\":{\"units\":\"screen\",\"value\":10},\"x\":{\"field\":\"x\"},\"y\":{\"field\":\"y\"}},\"id\":\"7346\",\"type\":\"Circle\"},{\"attributes\":{},\"id\":\"7327\",\"type\":\"SaveTool\"},{\"attributes\":{},\"id\":\"7328\",\"type\":\"ResetTool\"},{\"attributes\":{},\"id\":\"7304\",\"type\":\"LinearScale\"},{\"attributes\":{\"tile_source\":{\"id\":\"7339\",\"type\":\"WMTSTileSource\"}},\"id\":\"7340\",\"type\":\"TileRenderer\"},{\"attributes\":{\"callback\":null,\"end\":11834885,\"start\":10596635},\"id\":\"7298\",\"type\":\"Range1d\"},{\"attributes\":{\"fill_color\":{\"field\":\"ID\",\"transform\":{\"id\":\"7343\",\"type\":\"LogColorMapper\"}},\"line_color\":{\"value\":\"#1f77b4\"},\"size\":{\"units\":\"screen\",\"value\":10},\"x\":{\"field\":\"x\"},\"y\":{\"field\":\"y\"}},\"id\":\"7345\",\"type\":\"Circle\"},{\"attributes\":{\"plot\":null,\"text\":\" Energy Office Map\"},\"id\":\"7295\",\"type\":\"Title\"},{\"attributes\":{\"active_drag\":\"auto\",\"active_inspect\":\"auto\",\"active_multi\":null,\"active_scroll\":\"auto\",\"active_tap\":\"auto\",\"tools\":[{\"id\":\"7324\",\"type\":\"PanTool\"},{\"id\":\"7325\",\"type\":\"WheelZoomTool\"},{\"id\":\"7326\",\"type\":\"BoxZoomTool\"},{\"id\":\"7327\",\"type\":\"SaveTool\"},{\"id\":\"7328\",\"type\":\"ResetTool\"},{\"id\":\"7329\",\"type\":\"HelpTool\"},{\"id\":\"7349\",\"type\":\"HoverTool\"}]},\"id\":\"7330\",\"type\":\"Toolbar\"}],\"root_ids\":[\"7296\"]},\"title\":\"Bokeh Application\",\"version\":\"1.0.4\"}};\n",
              "  var render_items = [{\"docid\":\"8dc96733-ec54-412c-9e33-ae1b57d1e0e1\",\"roots\":{\"7296\":\"f7321ec2-5477-4494-ab90-1f2e168d4da4\"}}];\n",
              "  root.Bokeh.embed.embed_items_notebook(docs_json, render_items);\n",
              "\n",
              "  }\n",
              "  if (root.Bokeh !== undefined) {\n",
              "    embed_document(root);\n",
              "  } else {\n",
              "    var attempts = 0;\n",
              "    var timer = setInterval(function(root) {\n",
              "      if (root.Bokeh !== undefined) {\n",
              "        embed_document(root);\n",
              "        clearInterval(timer);\n",
              "      }\n",
              "      attempts++;\n",
              "      if (attempts > 100) {\n",
              "        console.log(\"Bokeh: ERROR: Unable to run BokehJS code because BokehJS library is missing\");\n",
              "        clearInterval(timer);\n",
              "      }\n",
              "    }, 10, root)\n",
              "  }\n",
              "})(window);"
            ],
            "application/vnd.bokehjs_exec.v0+json": ""
          },
          "metadata": {
            "tags": [],
            "application/vnd.bokehjs_exec.v0+json": {
              "id": "7296"
            }
          }
        }
      ]
    },
    {
      "cell_type": "code",
      "metadata": {
        "id": "D4KMf9f2bIan",
        "colab_type": "code",
        "colab": {}
      },
      "source": [
        "\n",
        "# Output filepath to HTML\n",
        "output_file = r\"./mapi.html\"\n",
        "\n",
        "# Save the map\n",
        "save(p, output_file);"
      ],
      "execution_count": 0,
      "outputs": []
    },
    {
      "cell_type": "markdown",
      "metadata": {
        "id": "uiCtdT6FeSXv",
        "colab_type": "text"
      },
      "source": [
        "- ตัวอย่าง 2"
      ]
    },
    {
      "cell_type": "code",
      "metadata": {
        "id": "p6Yk85WnlNGO",
        "colab_type": "code",
        "colab": {}
      },
      "source": [
        "# Data\n",
        "top_area = wfs_gdf_amphoe.nlargest(20, 'area_sqkm')\n",
        "\n",
        "top_area_mercator  = top_area.to_crs({'init': 'epsg:900913'})\n",
        "\n",
        "top_area_mercator['x'] = top_area_mercator.apply(getPolyCoords, geom='geometry', coord_type='x',shape_type ='polygon', axis=1)\n",
        "top_area_mercator['y'] = top_area_mercator.apply(getPolyCoords, geom='geometry', coord_type='y',shape_type ='polygon', axis=1)\n",
        "\n",
        "top_area_mercator = top_area_mercator.drop('geometry', axis=1).copy()\n",
        "top_area_mercator "
      ],
      "execution_count": 0,
      "outputs": []
    },
    {
      "cell_type": "code",
      "metadata": {
        "id": "QwupjEavjCH2",
        "colab_type": "code",
        "colab": {}
      },
      "source": [
        "url = ('http://sos-s03.gistda.or.th:80/geoserver/SDS/ows?SERVICE=WMS&'\n",
        "       'request=GetMap&styles=&version=1.3.0&format=image/png&dpiMode=4&'\n",
        "       'crs={crs}&layers={layer}&width={width}&height={height}')\n",
        "\n",
        "\n",
        "crs = 'EPSG:900913'\n",
        "ymin = 563630\n",
        "xmin = 10596635\n",
        "ymax = 2377692\n",
        "xmax = 11834885\n",
        "\n",
        "layer = 'Hydrology,AdministrativeSDS'\n",
        "width = 256\n",
        "height = 256\n",
        "\n",
        "x_range = Range1d(start=xmin, end=xmax, bounds=None)\n",
        "y_range = Range1d(start=ymin, end=ymax, bounds=None)\n",
        "\n",
        "url_set = url.format(crs=crs, width=width, height=height, layer=layer) + \\\n",
        "          '&bbox={XMIN},{YMIN},{XMAX},{YMAX}'\n",
        "\n",
        "\n",
        "#Bokeh plot\n",
        "tools= 'pan,wheel_zoom,box_zoom,reset,save'\n",
        "p1 = figure( title='Thematic Map', tools=tools,\n",
        "              x_range=x_range,\n",
        "              lod_threshold=None,\n",
        "             x_axis_location=None,\n",
        "            y_axis_location=None,\n",
        "              plot_width=800,\n",
        "              plot_height=500,\n",
        "              background_fill_color='white',\n",
        "              y_range=y_range,\n",
        "            tooltips=[\n",
        "        (\"Amphoe Name\", \"@AmphoeTH\"), (\"Province\", \"@ProvinceTh\"),(\"Area\", \"@area_sqkm\"), (\"(Long, Lat)\", \"($x, $y)\") ]\n",
        "           )\n",
        "\n",
        "tile_source = BBoxTileSource(url=url_set)\n",
        "p1.add_tile(tile_source)\n",
        "#p1.axis.visible = False\n",
        "p1.toolbar_location = 'above'"
      ],
      "execution_count": 0,
      "outputs": []
    },
    {
      "cell_type": "code",
      "metadata": {
        "id": "qNTYTegkgBM7",
        "colab_type": "code",
        "colab": {}
      },
      "source": [
        "\n",
        "gsource1 = ColumnDataSource(top_area_mercator)\n",
        "\n",
        "color_mapper = LogColorMapper(palette=palette)\n",
        "\n",
        "\n",
        "p1.grid.grid_line_color = None\n",
        "p1.hover.point_policy = 'follow_mouse'\n",
        "\n",
        "\n",
        "p1.patches('x', 'y', source=gsource1 ,\n",
        "          fill_color={'field': 'area_sqkm', 'transform': color_mapper},\n",
        "          fill_alpha=0.7, line_color='white', line_width=0.5)\n",
        "\n",
        "color_bar = ColorBar(color_mapper=color_mapper, ticker=LogTicker(),\n",
        "                     label_standoff=12, border_line_color=None, location=(0,0))\n",
        "\n",
        "p1.add_layout(color_bar, 'right')\n",
        "\n",
        "\n",
        "output_notebook()\n",
        "show(p1)"
      ],
      "execution_count": 0,
      "outputs": []
    },
    {
      "cell_type": "code",
      "metadata": {
        "id": "Dd-IosARntQL",
        "colab_type": "code",
        "outputId": "78c4f69d-978b-4a94-fa2f-f9a4918df660",
        "colab": {
          "base_uri": "https://localhost:8080/",
          "height": 34
        }
      },
      "source": [
        "# Output filepath to HTML\n",
        "output_file = \"./map_wms2.html\"\n",
        "\n",
        "# Save the map\n",
        "save(obj=p1, filename=output_file)"
      ],
      "execution_count": 0,
      "outputs": [
        {
          "output_type": "execute_result",
          "data": {
            "text/plain": [
              "'/content/map_wms2.html'"
            ]
          },
          "metadata": {
            "tags": []
          },
          "execution_count": 187
        }
      ]
    }
  ]
}